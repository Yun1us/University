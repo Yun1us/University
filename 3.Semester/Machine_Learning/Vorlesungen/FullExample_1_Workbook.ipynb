{
 "cells": [
  {
   "cell_type": "markdown",
   "metadata": {},
   "source": [
    "# Chapter 02 - Data Preprocessing\n",
    "\n",
    "The API we will use most in this lecture is a python API called Scikit-Learn. The main design principles are:\n",
    "- Objects that estimate parameters are called **estimators**. The estimation is performed by the `fit()` method, and it takes only a dataset as a parameter (or dataset + labels for supervised datasets).\n",
    "- Estimators that can transform datasets are called **transformers**. If there are parameters to learn, you first learn those with the  `fit()` method as above. Then the transformation is performed by the `transform()` method with the dataset to transform as a parameter. It returns the transformed dataset. There is also an optimized method called `fit_transform()`` which combines the above.\n",
    "- Estimators that can make predictions from data are called **predictors**. A predictor hast a `predict()` method that takes a dataset and returns a dataset of corresponding predictions. It also has a `score()` method that measures the quality of the predictions, given a test set and a performance measure $P$.\n",
    "- learnable parameters can be accessed via attributes. To show that these parameters were learned by the estimator, these attributes end in \"_\". \n"
   ]
  },
  {
   "cell_type": "markdown",
   "metadata": {},
   "source": [
    "We will show how to preprocess data in an example. Here, we use the `titanic` dataset from OpenML. \n",
    "We want to predict whether someone survived or not. "
   ]
  },
  {
   "cell_type": "code",
   "execution_count": 1,
   "metadata": {},
   "outputs": [],
   "source": [
    "%matplotlib inline\n",
    "import matplotlib.pyplot as plt\n",
    "import pandas as pd\n",
    "\n",
    "from sklearn.datasets import fetch_openml\n",
    "\n",
    "# Load data (e.g. as pandas DataFrame)\n",
    "\n",
    "input = fetch_openml('titanic', version=1, as_frame=True)['data']\n",
    "labels = fetch_openml('titanic', version=1, target_column = 'survived', as_frame=True, )['target']\n",
    "df = pd.concat([input, labels], axis=1)"
   ]
  },
  {
   "cell_type": "markdown",
   "metadata": {},
   "source": [
    "## 1st step: Visualisations and understanding the data\n",
    "\n",
    "### 1.1 Getting to now the data structure"
   ]
  },
  {
   "cell_type": "markdown",
   "metadata": {},
   "source": [
    "Each column of df apart from survived is called a **feature**. \"survived\" is the **target/label** we want to predict.\n",
    "One line of this dataset is one **instance**.  \n",
    "\n",
    "What are the features? Let's look at the first lines:"
   ]
  },
  {
   "cell_type": "code",
   "execution_count": null,
   "metadata": {},
   "outputs": [],
   "source": []
  },
  {
   "cell_type": "markdown",
   "metadata": {},
   "source": [
    "\n",
    "\n",
    "Here is some info about the dataset: \n",
    "\n",
    "\n",
    "|Variable |Definition\t|Key|Type|\n",
    "|---|---|---|---|\n",
    "|survival |Survival |\t0 = No, 1 = Yes|categorical (nominal)|\n",
    "|pclass |Ticket class |\t1 = 1st, 2 = 2nd, 3 = 3rd|categorical (nominal)|\n",
    "|name|Passenger name| -|string|\n",
    "|sex |Sex |female/male| categorical (nominal)|\n",
    "|Age |Age in years |Age is fractional if less than 1. If the age is estimated, is it in the form of xx.5|numeric|\n",
    "|sibsp |number of siblings or spouses aboard the Titanic |-|numeric|\n",
    "|parch |number of parents or children aboard the Titanic |-|numeric|\n",
    "|ticket |Ticket number \t|-|string|\n",
    "|fare |\tPassenger fare \t|-|numeric|\n",
    "|cabin |Cabin number |-|\tstring|\n",
    "|embarked |Port of Embarkation |\tC = Cherbourg, Q = Queenstown, S = Southampton|categorical (nominal)|\n",
    "|boat|life-boat, if survived|-|string|\n",
    "|body|body number, if not survived and body was recovered|-|numeric|\n",
    "|home.dest|home/destination|-|string|\n",
    "\n"
   ]
  },
  {
   "cell_type": "markdown",
   "metadata": {},
   "source": [
    "Take a look at data structure: datatypes and number of\n",
    "non-null-values for each feature. \n"
   ]
  },
  {
   "cell_type": "code",
   "execution_count": null,
   "metadata": {},
   "outputs": [],
   "source": []
  },
  {
   "cell_type": "markdown",
   "metadata": {},
   "source": [
    "Some of the columns are numerical, some are categorical (ordinal (ordered) or nominal (no order)): \n",
    "|Variable |Numerical|Categorical: Ordinal|Categorical: Nominal|\n",
    "|:---|:---|:---|:---|\n",
    "||||\n",
    "|pclass |\t|||\n",
    "|sex ||||\n",
    "|Age |\t|||\n",
    "|sibsp |\t|||\n",
    "|parch |\t|||\n",
    "|ticket |\t|||\n",
    "|fare |\t|||\n",
    "|cabin |\t\t|||\n",
    "|embarked |\t|||\n"
   ]
  },
  {
   "cell_type": "markdown",
   "metadata": {},
   "source": [
    "Look at summary statistics with: max, min, mean... for all numerical features. "
   ]
  },
  {
   "cell_type": "code",
   "execution_count": null,
   "metadata": {},
   "outputs": [],
   "source": []
  },
  {
   "cell_type": "markdown",
   "metadata": {},
   "source": [
    "Find out if there are missing values:"
   ]
  },
  {
   "cell_type": "code",
   "execution_count": null,
   "metadata": {},
   "outputs": [],
   "source": []
  },
  {
   "cell_type": "markdown",
   "metadata": {},
   "source": [
    "There are a lot of missing data in some features (e.g. body, home.dest...). \n",
    "Question: Is that a problem? examples: \n",
    "- boat: naturally NaN for everyone who did not survive!\n",
    "- body: naturally NaN for everyone who did survive or whose body was not discovered.\n",
    "- age: here, missing data might be problematic for a prediction. \n",
    "\n",
    "Usually, one deals with missing data LATER. (Reason: see later)."
   ]
  },
  {
   "cell_type": "markdown",
   "metadata": {},
   "source": [
    "### 1.2 Plot feature distributions and check class (im)balance\n",
    "\n",
    "histogram, class balance, correlations, scatterplots and everything from Data Science 2\n",
    "\n",
    "Remember Data Science 2! \n",
    "\n",
    "\n",
    "First step: plot histograms. However, note that this will only plot numerical data!\n"
   ]
  },
  {
   "cell_type": "code",
   "execution_count": null,
   "metadata": {},
   "outputs": [],
   "source": [
    "\n"
   ]
  },
  {
   "cell_type": "markdown",
   "metadata": {},
   "source": [
    "**Question**: what are the distributions?\n",
    "\n",
    "  "
   ]
  },
  {
   "cell_type": "markdown",
   "metadata": {},
   "source": [
    "Check average fare per pclass and the standard deviation of fares per class:"
   ]
  },
  {
   "cell_type": "code",
   "execution_count": 2,
   "metadata": {},
   "outputs": [
    {
     "data": {
      "text/plain": [
       "Text(0, 0.5, 'standard deviation of fare')"
      ]
     },
     "execution_count": 2,
     "metadata": {},
     "output_type": "execute_result"
    },
    {
     "data": {
      "image/png": "[encoded data removed]",
      "text/plain": [
       "<Figure size 400x300 with 1 Axes>"
      ]
     },
     "metadata": {},
     "output_type": "display_data"
    },
    {
     "data": {
      "image/png": "[encoded data removed]",
      "text/plain": [
       "<Figure size 400x300 with 1 Axes>"
      ]
     },
     "metadata": {},
     "output_type": "display_data"
    }
   ],
   "source": [
    "ax1= df[['pclass','fare']].groupby('pclass').mean().plot(kind='bar', figsize = [4,3])\n",
    "ax1.set_ylabel('average fare')\n",
    "ax2=df[['pclass','fare']].groupby('pclass').std().plot(kind='bar', figsize = [4,3])\n",
    "ax2.set_ylabel('standard deviation of fare')\n"
   ]
  },
  {
   "cell_type": "markdown",
   "metadata": {},
   "source": [
    "**Result:**\n"
   ]
  },
  {
   "cell_type": "markdown",
   "metadata": {},
   "source": [
    "Next we plot class distributions for all categorical values ('sex', 'embarked', most importantly the target: 'survived') and check for **class (im)balance**:"
   ]
  },
  {
   "cell_type": "code",
   "execution_count": 3,
   "metadata": {},
   "outputs": [
    {
     "data": {
      "text/plain": [
       "<Axes: xlabel='sex'>"
      ]
     },
     "execution_count": 3,
     "metadata": {},
     "output_type": "execute_result"
    },
    {
     "data": {
      "image/png": "[encoded data removed]",
      "text/plain": [
       "<Figure size 500x300 with 1 Axes>"
      ]
     },
     "metadata": {},
     "output_type": "display_data"
    }
   ],
   "source": [
    "df['sex'].value_counts().plot(kind='bar', figsize=[5,3])"
   ]
  },
  {
   "cell_type": "code",
   "execution_count": 4,
   "metadata": {},
   "outputs": [
    {
     "data": {
      "text/plain": [
       "<Axes: xlabel='embarked'>"
      ]
     },
     "execution_count": 4,
     "metadata": {},
     "output_type": "execute_result"
    },
    {
     "data": {
      "image/png": "[encoded data removed]",
      "text/plain": [
       "<Figure size 500x300 with 1 Axes>"
      ]
     },
     "metadata": {},
     "output_type": "display_data"
    }
   ],
   "source": [
    "df['embarked'].value_counts().plot(kind='bar', figsize=[5,3])"
   ]
  },
  {
   "cell_type": "code",
   "execution_count": 5,
   "metadata": {},
   "outputs": [
    {
     "data": {
      "text/plain": [
       "<Axes: xlabel='survived'>"
      ]
     },
     "execution_count": 5,
     "metadata": {},
     "output_type": "execute_result"
    },
    {
     "data": {
      "image/png": "[encoded data removed]",
      "text/plain": [
       "<Figure size 500x300 with 1 Axes>"
      ]
     },
     "metadata": {},
     "output_type": "display_data"
    }
   ],
   "source": [
    "df['survived'].value_counts().plot(kind='bar', figsize=[5,3])"
   ]
  },
  {
   "cell_type": "markdown",
   "metadata": {},
   "source": [
    "**Result:**\n",
    "- class imbalance wrt pclass (approx. double the amount of 3rd class tickets than 1st and 2nd);\n",
    "- class imbalance wrt sex (more male than female passengers)\n",
    "- class imbalance wrt port where passengers embarked\n",
    "- class imbalance wrt target survived: less survived than didn't\n",
    "\n",
    "**What to do?**\n"
   ]
  },
  {
   "cell_type": "markdown",
   "metadata": {},
   "source": [
    "### 1.3 Correlations and Scatterplots to find out how different features are related"
   ]
  },
  {
   "cell_type": "markdown",
   "metadata": {},
   "source": [
    "Look for dependencies of the features (correlations): compute the correlations coeﬃcients:"
   ]
  },
  {
   "cell_type": "code",
   "execution_count": 6,
   "metadata": {},
   "outputs": [
    {
     "ename": "ValueError",
     "evalue": "could not convert string to float: 'Allen, Miss. Elisabeth Walton'",
     "output_type": "error",
     "traceback": [
      "\u001b[1;31m---------------------------------------------------------------------------\u001b[0m",
      "\u001b[1;31mValueError\u001b[0m                                Traceback (most recent call last)",
      "Cell \u001b[1;32mIn[6], line 1\u001b[0m\n\u001b[1;32m----> 1\u001b[0m \u001b[43mdf\u001b[49m\u001b[38;5;241;43m.\u001b[39;49m\u001b[43mcorr\u001b[49m\u001b[43m(\u001b[49m\u001b[43m)\u001b[49m\u001b[38;5;241m.\u001b[39mstyle\u001b[38;5;241m.\u001b[39mbackground_gradient(cmap\u001b[38;5;241m=\u001b[39m\u001b[38;5;124m'\u001b[39m\u001b[38;5;124mReds\u001b[39m\u001b[38;5;124m'\u001b[39m)\n",
      "File \u001b[1;32m~\\AppData\\Local\\Packages\\PythonSoftwareFoundation.Python.3.11_qbz5n2kfra8p0\\LocalCache\\local-packages\\Python311\\site-packages\\pandas\\core\\frame.py:11049\u001b[0m, in \u001b[0;36mDataFrame.corr\u001b[1;34m(self, method, min_periods, numeric_only)\u001b[0m\n\u001b[0;32m  11047\u001b[0m cols \u001b[38;5;241m=\u001b[39m data\u001b[38;5;241m.\u001b[39mcolumns\n\u001b[0;32m  11048\u001b[0m idx \u001b[38;5;241m=\u001b[39m cols\u001b[38;5;241m.\u001b[39mcopy()\n\u001b[1;32m> 11049\u001b[0m mat \u001b[38;5;241m=\u001b[39m \u001b[43mdata\u001b[49m\u001b[38;5;241;43m.\u001b[39;49m\u001b[43mto_numpy\u001b[49m\u001b[43m(\u001b[49m\u001b[43mdtype\u001b[49m\u001b[38;5;241;43m=\u001b[39;49m\u001b[38;5;28;43mfloat\u001b[39;49m\u001b[43m,\u001b[49m\u001b[43m \u001b[49m\u001b[43mna_value\u001b[49m\u001b[38;5;241;43m=\u001b[39;49m\u001b[43mnp\u001b[49m\u001b[38;5;241;43m.\u001b[39;49m\u001b[43mnan\u001b[49m\u001b[43m,\u001b[49m\u001b[43m \u001b[49m\u001b[43mcopy\u001b[49m\u001b[38;5;241;43m=\u001b[39;49m\u001b[38;5;28;43;01mFalse\u001b[39;49;00m\u001b[43m)\u001b[49m\n\u001b[0;32m  11051\u001b[0m \u001b[38;5;28;01mif\u001b[39;00m method \u001b[38;5;241m==\u001b[39m \u001b[38;5;124m\"\u001b[39m\u001b[38;5;124mpearson\u001b[39m\u001b[38;5;124m\"\u001b[39m:\n\u001b[0;32m  11052\u001b[0m     correl \u001b[38;5;241m=\u001b[39m libalgos\u001b[38;5;241m.\u001b[39mnancorr(mat, minp\u001b[38;5;241m=\u001b[39mmin_periods)\n",
      "File \u001b[1;32m~\\AppData\\Local\\Packages\\PythonSoftwareFoundation.Python.3.11_qbz5n2kfra8p0\\LocalCache\\local-packages\\Python311\\site-packages\\pandas\\core\\frame.py:1993\u001b[0m, in \u001b[0;36mDataFrame.to_numpy\u001b[1;34m(self, dtype, copy, na_value)\u001b[0m\n\u001b[0;32m   1991\u001b[0m \u001b[38;5;28;01mif\u001b[39;00m dtype \u001b[38;5;129;01mis\u001b[39;00m \u001b[38;5;129;01mnot\u001b[39;00m \u001b[38;5;28;01mNone\u001b[39;00m:\n\u001b[0;32m   1992\u001b[0m     dtype \u001b[38;5;241m=\u001b[39m np\u001b[38;5;241m.\u001b[39mdtype(dtype)\n\u001b[1;32m-> 1993\u001b[0m result \u001b[38;5;241m=\u001b[39m \u001b[38;5;28;43mself\u001b[39;49m\u001b[38;5;241;43m.\u001b[39;49m\u001b[43m_mgr\u001b[49m\u001b[38;5;241;43m.\u001b[39;49m\u001b[43mas_array\u001b[49m\u001b[43m(\u001b[49m\u001b[43mdtype\u001b[49m\u001b[38;5;241;43m=\u001b[39;49m\u001b[43mdtype\u001b[49m\u001b[43m,\u001b[49m\u001b[43m \u001b[49m\u001b[43mcopy\u001b[49m\u001b[38;5;241;43m=\u001b[39;49m\u001b[43mcopy\u001b[49m\u001b[43m,\u001b[49m\u001b[43m \u001b[49m\u001b[43mna_value\u001b[49m\u001b[38;5;241;43m=\u001b[39;49m\u001b[43mna_value\u001b[49m\u001b[43m)\u001b[49m\n\u001b[0;32m   1994\u001b[0m \u001b[38;5;28;01mif\u001b[39;00m result\u001b[38;5;241m.\u001b[39mdtype \u001b[38;5;129;01mis\u001b[39;00m \u001b[38;5;129;01mnot\u001b[39;00m dtype:\n\u001b[0;32m   1995\u001b[0m     result \u001b[38;5;241m=\u001b[39m np\u001b[38;5;241m.\u001b[39masarray(result, dtype\u001b[38;5;241m=\u001b[39mdtype)\n",
      "File \u001b[1;32m~\\AppData\\Local\\Packages\\PythonSoftwareFoundation.Python.3.11_qbz5n2kfra8p0\\LocalCache\\local-packages\\Python311\\site-packages\\pandas\\core\\internals\\managers.py:1694\u001b[0m, in \u001b[0;36mBlockManager.as_array\u001b[1;34m(self, dtype, copy, na_value)\u001b[0m\n\u001b[0;32m   1692\u001b[0m         arr\u001b[38;5;241m.\u001b[39mflags\u001b[38;5;241m.\u001b[39mwriteable \u001b[38;5;241m=\u001b[39m \u001b[38;5;28;01mFalse\u001b[39;00m\n\u001b[0;32m   1693\u001b[0m \u001b[38;5;28;01melse\u001b[39;00m:\n\u001b[1;32m-> 1694\u001b[0m     arr \u001b[38;5;241m=\u001b[39m \u001b[38;5;28;43mself\u001b[39;49m\u001b[38;5;241;43m.\u001b[39;49m\u001b[43m_interleave\u001b[49m\u001b[43m(\u001b[49m\u001b[43mdtype\u001b[49m\u001b[38;5;241;43m=\u001b[39;49m\u001b[43mdtype\u001b[49m\u001b[43m,\u001b[49m\u001b[43m \u001b[49m\u001b[43mna_value\u001b[49m\u001b[38;5;241;43m=\u001b[39;49m\u001b[43mna_value\u001b[49m\u001b[43m)\u001b[49m\n\u001b[0;32m   1695\u001b[0m     \u001b[38;5;66;03m# The underlying data was copied within _interleave, so no need\u001b[39;00m\n\u001b[0;32m   1696\u001b[0m     \u001b[38;5;66;03m# to further copy if copy=True or setting na_value\u001b[39;00m\n\u001b[0;32m   1698\u001b[0m \u001b[38;5;28;01mif\u001b[39;00m na_value \u001b[38;5;129;01mis\u001b[39;00m lib\u001b[38;5;241m.\u001b[39mno_default:\n",
      "File \u001b[1;32m~\\AppData\\Local\\Packages\\PythonSoftwareFoundation.Python.3.11_qbz5n2kfra8p0\\LocalCache\\local-packages\\Python311\\site-packages\\pandas\\core\\internals\\managers.py:1753\u001b[0m, in \u001b[0;36mBlockManager._interleave\u001b[1;34m(self, dtype, na_value)\u001b[0m\n\u001b[0;32m   1751\u001b[0m     \u001b[38;5;28;01melse\u001b[39;00m:\n\u001b[0;32m   1752\u001b[0m         arr \u001b[38;5;241m=\u001b[39m blk\u001b[38;5;241m.\u001b[39mget_values(dtype)\n\u001b[1;32m-> 1753\u001b[0m     \u001b[43mresult\u001b[49m\u001b[43m[\u001b[49m\u001b[43mrl\u001b[49m\u001b[38;5;241;43m.\u001b[39;49m\u001b[43mindexer\u001b[49m\u001b[43m]\u001b[49m \u001b[38;5;241m=\u001b[39m arr\n\u001b[0;32m   1754\u001b[0m     itemmask[rl\u001b[38;5;241m.\u001b[39mindexer] \u001b[38;5;241m=\u001b[39m \u001b[38;5;241m1\u001b[39m\n\u001b[0;32m   1756\u001b[0m \u001b[38;5;28;01mif\u001b[39;00m \u001b[38;5;129;01mnot\u001b[39;00m itemmask\u001b[38;5;241m.\u001b[39mall():\n",
      "\u001b[1;31mValueError\u001b[0m: could not convert string to float: 'Allen, Miss. Elisabeth Walton'"
     ]
    }
   ],
   "source": [
    "df.corr().style.background_gradient(cmap='Reds')"
   ]
  },
  {
   "cell_type": "markdown",
   "metadata": {},
   "source": [
    "**Some Results:**\n"
   ]
  },
  {
   "cell_type": "markdown",
   "metadata": {},
   "source": [
    "To see the reationship between features, one could also draw scatterplot matrices for the numerical features, e.g. for pclass, age and sibsp: "
   ]
  },
  {
   "cell_type": "code",
   "execution_count": 113,
   "metadata": {},
   "outputs": [
    {
     "data": {
      "text/plain": [
       "array([[<AxesSubplot:xlabel='pclass', ylabel='pclass'>,\n",
       "        <AxesSubplot:xlabel='age', ylabel='pclass'>,\n",
       "        <AxesSubplot:xlabel='sibsp', ylabel='pclass'>],\n",
       "       [<AxesSubplot:xlabel='pclass', ylabel='age'>,\n",
       "        <AxesSubplot:xlabel='age', ylabel='age'>,\n",
       "        <AxesSubplot:xlabel='sibsp', ylabel='age'>],\n",
       "       [<AxesSubplot:xlabel='pclass', ylabel='sibsp'>,\n",
       "        <AxesSubplot:xlabel='age', ylabel='sibsp'>,\n",
       "        <AxesSubplot:xlabel='sibsp', ylabel='sibsp'>]], dtype=object)"
      ]
     },
     "execution_count": 113,
     "metadata": {},
     "output_type": "execute_result"
    },
    {
     "data": {
      "image/png": "[encoded data removed]",
      "text/plain": [
       "<Figure size 1200x800 with 9 Axes>"
      ]
     },
     "metadata": {},
     "output_type": "display_data"
    }
   ],
   "source": [
    "from pandas.plotting import scatter_matrix\n",
    "\n",
    "attributes = [\"pclass\", \"age\", \"sibsp\"]\n",
    "scatter_matrix(df[attributes], figsize=(12 , 8))"
   ]
  },
  {
   "cell_type": "markdown",
   "metadata": {},
   "source": [
    "**Results:** (diagonal plots are just histograms as above! - scatterplots would be just straight lines)\n",
    "\n"
   ]
  },
  {
   "cell_type": "markdown",
   "metadata": {},
   "source": [
    "### 1.4 Get insights wrt target value\n"
   ]
  },
  {
   "cell_type": "markdown",
   "metadata": {},
   "source": [
    "We want to predict if someone survived or not, so we focus on the target feature for further visualizations, e.g.: \n",
    "- Percentage of survivors according to sex\n",
    "- percentage of survivors by age group"
   ]
  },
  {
   "cell_type": "code",
   "execution_count": 114,
   "metadata": {},
   "outputs": [
    {
     "data": {
      "text/plain": [
       "<AxesSubplot:>"
      ]
     },
     "execution_count": 114,
     "metadata": {},
     "output_type": "execute_result"
    },
    {
     "data": {
      "image/png": "[encoded data removed]",
      "text/plain": [
       "<Figure size 400x300 with 1 Axes>"
      ]
     },
     "metadata": {},
     "output_type": "display_data"
    }
   ],
   "source": [
    "survivors = df[df['survived']==\"1\"]\n",
    "\n",
    "(survivors['sex'].value_counts()/df['sex'].value_counts()).plot(kind='bar', figsize=[4,3])"
   ]
  },
  {
   "cell_type": "code",
   "execution_count": 115,
   "metadata": {},
   "outputs": [
    {
     "data": {
      "text/plain": [
       "<matplotlib.legend.Legend at 0x2def91a60>"
      ]
     },
     "execution_count": 115,
     "metadata": {},
     "output_type": "execute_result"
    },
    {
     "data": {
      "image/png": "[encoded data removed]",
      "text/plain": [
       "<Figure size 1000x400 with 1 Axes>"
      ]
     },
     "metadata": {},
     "output_type": "display_data"
    }
   ],
   "source": [
    "xs = [10*i for i in range(8)]\n",
    "ys = []\n",
    "for i in range(8):\n",
    "    age_group = df[(df['age'] < xs[i]+10)&(df['age'] >= xs[i])]\n",
    "    age_group_surv = age_group[age_group['survived']==\"1\"]\n",
    "    ys.append(len(age_group_surv)/len(age_group))\n",
    "plt.figure(figsize=[10,4])\n",
    "plt.bar(xs, ys, width = 10, align='edge', edgecolor='black', label='percentage of survivors in the age group')\n",
    "plt.ylim([0,1])\n",
    "plt.xlim([0,80])\n",
    "plt.legend()"
   ]
  },
  {
   "cell_type": "markdown",
   "metadata": {},
   "source": [
    "## 2nd Step: Feature engineering\n",
    "\n",
    "- **Feature selection:** Drop irrelevant features, if there are any\n",
    "- **Feature extraction:** combine existing features to produce a more useful one. e.g. Experiment with attribute combinations and ﬁnd out if they are useful by repeating step 1 (Data Visualizations, correlation matrix). \n",
    "  \n",
    "In this case: \n",
    "- Feature selection: \n",
    "  - name, ticket number, cabin number: ?\n",
    "  - body and boat: ?\n",
    "  - home.dest has many missing values -> drop \n",
    "- Feature extraction: how many siblings or parents/children are travelling with a passenger could be combined to a single feature 'family', and we could add a feature showing if a passenger travelled alone (1) or not (0). "
   ]
  },
  {
   "cell_type": "code",
   "execution_count": 116,
   "metadata": {},
   "outputs": [
    {
     "data": {
      "text/html": [
       "<div>\n",
       "<style scoped>\n",
       "    .dataframe tbody tr th:only-of-type {\n",
       "        vertical-align: middle;\n",
       "    }\n",
       "\n",
       "    .dataframe tbody tr th {\n",
       "        vertical-align: top;\n",
       "    }\n",
       "\n",
       "    .dataframe thead th {\n",
       "        text-align: right;\n",
       "    }\n",
       "</style>\n",
       "<table border=\"1\" class=\"dataframe\">\n",
       "  <thead>\n",
       "    <tr style=\"text-align: right;\">\n",
       "      <th></th>\n",
       "      <th>pclass</th>\n",
       "      <th>sex</th>\n",
       "      <th>age</th>\n",
       "      <th>sibsp</th>\n",
       "      <th>parch</th>\n",
       "      <th>fare</th>\n",
       "      <th>embarked</th>\n",
       "      <th>survived</th>\n",
       "      <th>family</th>\n",
       "      <th>travelled_alone</th>\n",
       "    </tr>\n",
       "  </thead>\n",
       "  <tbody>\n",
       "    <tr>\n",
       "      <th>0</th>\n",
       "      <td>1.0</td>\n",
       "      <td>female</td>\n",
       "      <td>29.0000</td>\n",
       "      <td>0.0</td>\n",
       "      <td>0.0</td>\n",
       "      <td>211.3375</td>\n",
       "      <td>S</td>\n",
       "      <td>1</td>\n",
       "      <td>0.0</td>\n",
       "      <td>1.0</td>\n",
       "    </tr>\n",
       "    <tr>\n",
       "      <th>1</th>\n",
       "      <td>1.0</td>\n",
       "      <td>male</td>\n",
       "      <td>0.9167</td>\n",
       "      <td>1.0</td>\n",
       "      <td>2.0</td>\n",
       "      <td>151.5500</td>\n",
       "      <td>S</td>\n",
       "      <td>1</td>\n",
       "      <td>3.0</td>\n",
       "      <td>0.0</td>\n",
       "    </tr>\n",
       "    <tr>\n",
       "      <th>2</th>\n",
       "      <td>1.0</td>\n",
       "      <td>female</td>\n",
       "      <td>2.0000</td>\n",
       "      <td>1.0</td>\n",
       "      <td>2.0</td>\n",
       "      <td>151.5500</td>\n",
       "      <td>S</td>\n",
       "      <td>0</td>\n",
       "      <td>3.0</td>\n",
       "      <td>0.0</td>\n",
       "    </tr>\n",
       "    <tr>\n",
       "      <th>3</th>\n",
       "      <td>1.0</td>\n",
       "      <td>male</td>\n",
       "      <td>30.0000</td>\n",
       "      <td>1.0</td>\n",
       "      <td>2.0</td>\n",
       "      <td>151.5500</td>\n",
       "      <td>S</td>\n",
       "      <td>0</td>\n",
       "      <td>3.0</td>\n",
       "      <td>0.0</td>\n",
       "    </tr>\n",
       "    <tr>\n",
       "      <th>4</th>\n",
       "      <td>1.0</td>\n",
       "      <td>female</td>\n",
       "      <td>25.0000</td>\n",
       "      <td>1.0</td>\n",
       "      <td>2.0</td>\n",
       "      <td>151.5500</td>\n",
       "      <td>S</td>\n",
       "      <td>0</td>\n",
       "      <td>3.0</td>\n",
       "      <td>0.0</td>\n",
       "    </tr>\n",
       "  </tbody>\n",
       "</table>\n",
       "</div>"
      ],
      "text/plain": [
       "   pclass     sex      age  sibsp  parch      fare embarked survived  family  \\\n",
       "0     1.0  female  29.0000    0.0    0.0  211.3375        S        1     0.0   \n",
       "1     1.0    male   0.9167    1.0    2.0  151.5500        S        1     3.0   \n",
       "2     1.0  female   2.0000    1.0    2.0  151.5500        S        0     3.0   \n",
       "3     1.0    male  30.0000    1.0    2.0  151.5500        S        0     3.0   \n",
       "4     1.0  female  25.0000    1.0    2.0  151.5500        S        0     3.0   \n",
       "\n",
       "   travelled_alone  \n",
       "0              1.0  \n",
       "1              0.0  \n",
       "2              0.0  \n",
       "3              0.0  \n",
       "4              0.0  "
      ]
     },
     "execution_count": 116,
     "metadata": {},
     "output_type": "execute_result"
    }
   ],
   "source": [
    "for feature in ['name', 'ticket', 'cabin', 'body', 'boat', 'home.dest']:\n",
    "    df.drop(feature, axis=1, inplace=True) \n",
    "\n",
    "df['family'] = df['sibsp'] + df['parch']\n",
    "df.loc[df['family'] > 0, 'travelled_alone'] = 0\n",
    "df.loc[df['family'] == 0, 'travelled_alone'] = 1\n",
    "df.head()\n"
   ]
  },
  {
   "cell_type": "code",
   "execution_count": 117,
   "metadata": {},
   "outputs": [
    {
     "data": {
      "text/plain": [
       "<AxesSubplot:title={'center':'Passenger travelled alone?'}>"
      ]
     },
     "execution_count": 117,
     "metadata": {},
     "output_type": "execute_result"
    },
    {
     "data": {
      "image/png": "[encoded data removed]",
      "text/plain": [
       "<Figure size 640x480 with 1 Axes>"
      ]
     },
     "metadata": {},
     "output_type": "display_data"
    }
   ],
   "source": [
    "df['travelled_alone'].value_counts().plot(title='Passenger travelled alone?',kind='bar')"
   ]
  },
  {
   "cell_type": "markdown",
   "metadata": {},
   "source": [
    "## 3rd Step: Train-Test Split and Input-Label-Split\n",
    "\n",
    "The next step is to divide the data into train and test set, e.g. you could take 80% of data for training and keep 20% of data for testing.\n",
    "\n",
    "**Question:** Why do we split the data now and not AFTER data cleaning, e.g. filling in missing values with the mean?\n",
    "\n",
    "**Answer:** ?????\n",
    "\n",
    "So: **Always split into train and test set BEFORE you modify the data!**"
   ]
  },
  {
   "cell_type": "markdown",
   "metadata": {},
   "source": [
    "It is important to randomly permute the data in the dataset before we make the split! Why?\n",
    "\n",
    "Example: an ordered set of images of handwritten digits 0-9 (training set would be 0-7, test set 8&9) \n",
    "\n",
    "One can permute and split \"by hand\", or use Scikit-Learn's `train_test_split'."
   ]
  },
  {
   "cell_type": "code",
   "execution_count": 8,
   "metadata": {},
   "outputs": [
    {
     "data": {
      "text/html": [
       "<div>\n",
       "<style scoped>\n",
       "    .dataframe tbody tr th:only-of-type {\n",
       "        vertical-align: middle;\n",
       "    }\n",
       "\n",
       "    .dataframe tbody tr th {\n",
       "        vertical-align: top;\n",
       "    }\n",
       "\n",
       "    .dataframe thead th {\n",
       "        text-align: right;\n",
       "    }\n",
       "</style>\n",
       "<table border=\"1\" class=\"dataframe\">\n",
       "  <thead>\n",
       "    <tr style=\"text-align: right;\">\n",
       "      <th></th>\n",
       "      <th>pclass</th>\n",
       "      <th>name</th>\n",
       "      <th>sex</th>\n",
       "      <th>age</th>\n",
       "      <th>sibsp</th>\n",
       "      <th>parch</th>\n",
       "      <th>ticket</th>\n",
       "      <th>fare</th>\n",
       "      <th>cabin</th>\n",
       "      <th>embarked</th>\n",
       "      <th>boat</th>\n",
       "      <th>body</th>\n",
       "      <th>home.dest</th>\n",
       "      <th>survived</th>\n",
       "    </tr>\n",
       "  </thead>\n",
       "  <tbody>\n",
       "    <tr>\n",
       "      <th>1148</th>\n",
       "      <td>3</td>\n",
       "      <td>Rintamaki, Mr. Matti</td>\n",
       "      <td>male</td>\n",
       "      <td>35.0</td>\n",
       "      <td>0</td>\n",
       "      <td>0</td>\n",
       "      <td>STON/O 2. 3101273</td>\n",
       "      <td>7.1250</td>\n",
       "      <td>NaN</td>\n",
       "      <td>S</td>\n",
       "      <td>NaN</td>\n",
       "      <td>NaN</td>\n",
       "      <td>NaN</td>\n",
       "      <td>0</td>\n",
       "    </tr>\n",
       "    <tr>\n",
       "      <th>1049</th>\n",
       "      <td>3</td>\n",
       "      <td>Nakid, Mr. Sahid</td>\n",
       "      <td>male</td>\n",
       "      <td>20.0</td>\n",
       "      <td>1</td>\n",
       "      <td>1</td>\n",
       "      <td>2653</td>\n",
       "      <td>15.7417</td>\n",
       "      <td>NaN</td>\n",
       "      <td>C</td>\n",
       "      <td>C</td>\n",
       "      <td>NaN</td>\n",
       "      <td>NaN</td>\n",
       "      <td>1</td>\n",
       "    </tr>\n",
       "    <tr>\n",
       "      <th>982</th>\n",
       "      <td>3</td>\n",
       "      <td>Lyntakoff, Mr. Stanko</td>\n",
       "      <td>male</td>\n",
       "      <td>NaN</td>\n",
       "      <td>0</td>\n",
       "      <td>0</td>\n",
       "      <td>349235</td>\n",
       "      <td>7.8958</td>\n",
       "      <td>NaN</td>\n",
       "      <td>S</td>\n",
       "      <td>NaN</td>\n",
       "      <td>NaN</td>\n",
       "      <td>NaN</td>\n",
       "      <td>0</td>\n",
       "    </tr>\n",
       "    <tr>\n",
       "      <th>808</th>\n",
       "      <td>3</td>\n",
       "      <td>Ford, Mr. Arthur</td>\n",
       "      <td>male</td>\n",
       "      <td>NaN</td>\n",
       "      <td>0</td>\n",
       "      <td>0</td>\n",
       "      <td>A/5 1478</td>\n",
       "      <td>8.0500</td>\n",
       "      <td>NaN</td>\n",
       "      <td>S</td>\n",
       "      <td>NaN</td>\n",
       "      <td>NaN</td>\n",
       "      <td>Bridgwater, Somerset, England</td>\n",
       "      <td>0</td>\n",
       "    </tr>\n",
       "    <tr>\n",
       "      <th>1195</th>\n",
       "      <td>3</td>\n",
       "      <td>Shaughnessy, Mr. Patrick</td>\n",
       "      <td>male</td>\n",
       "      <td>NaN</td>\n",
       "      <td>0</td>\n",
       "      <td>0</td>\n",
       "      <td>370374</td>\n",
       "      <td>7.7500</td>\n",
       "      <td>NaN</td>\n",
       "      <td>Q</td>\n",
       "      <td>NaN</td>\n",
       "      <td>NaN</td>\n",
       "      <td>NaN</td>\n",
       "      <td>0</td>\n",
       "    </tr>\n",
       "  </tbody>\n",
       "</table>\n",
       "</div>"
      ],
      "text/plain": [
       "      pclass                      name   sex   age  sibsp  parch  \\\n",
       "1148       3      Rintamaki, Mr. Matti  male  35.0      0      0   \n",
       "1049       3          Nakid, Mr. Sahid  male  20.0      1      1   \n",
       "982        3     Lyntakoff, Mr. Stanko  male   NaN      0      0   \n",
       "808        3          Ford, Mr. Arthur  male   NaN      0      0   \n",
       "1195       3  Shaughnessy, Mr. Patrick  male   NaN      0      0   \n",
       "\n",
       "                 ticket     fare cabin embarked boat  body  \\\n",
       "1148  STON/O 2. 3101273   7.1250   NaN        S  NaN   NaN   \n",
       "1049               2653  15.7417   NaN        C    C   NaN   \n",
       "982              349235   7.8958   NaN        S  NaN   NaN   \n",
       "808            A/5 1478   8.0500   NaN        S  NaN   NaN   \n",
       "1195             370374   7.7500   NaN        Q  NaN   NaN   \n",
       "\n",
       "                          home.dest survived  \n",
       "1148                            NaN        0  \n",
       "1049                            NaN        1  \n",
       "982                             NaN        0  \n",
       "808   Bridgwater, Somerset, England        0  \n",
       "1195                            NaN        0  "
      ]
     },
     "execution_count": 8,
     "metadata": {},
     "output_type": "execute_result"
    }
   ],
   "source": [
    "from sklearn.model_selection import train_test_split\n",
    "\n",
    "train_set, test_set = train_test_split(df, test_size=0.2, random_state=42)\n",
    "\n",
    "test_set.head()"
   ]
  },
  {
   "cell_type": "markdown",
   "metadata": {},
   "source": [
    "Problem: The random permutation could still put all 0's into the test set! \n",
    "Or in this example: put only survivors into the test set.\n",
    "This would be called a **data mismatch**.\n",
    "\n",
    "Solution: A **stratified split** evenly distributes the classes of one specified feature between train and test set - (i.e. if there are 10% images of handwritten 0's in the original dataset, the ratio of 0's is also 10% in training and test set).\n",
    "\n",
    "Here: should make sure that there are as many survivors in the train and test as in the original set! There are several options for a stratified split with Scikit-Learn: \n",
    "either: \n",
    "- set the option `stratify = df['survived']` in sklearn's train-test-split above, or:\n",
    "- Use Sklearn's StratifiedShuffleSplit (https://scikit-learn.org/stable/modules/generated/sklearn.model_selection.StratifiedShuffleSplit.html)"
   ]
  },
  {
   "cell_type": "code",
   "execution_count": 9,
   "metadata": {},
   "outputs": [],
   "source": [
    "from sklearn.model_selection import StratifiedShuffleSplit\n",
    "\n",
    "shufflesplit = StratifiedShuffleSplit(n_splits=1, test_size=0.2)\n",
    "for train_id, test_id in shufflesplit.split(df, df['survived']):\n",
    "    train = df.loc[train_id]\n",
    "    test_set = df.loc[test_id]"
   ]
  },
  {
   "cell_type": "markdown",
   "metadata": {},
   "source": [
    "Next, to separate input data from labels: \n"
   ]
  },
  {
   "cell_type": "code",
   "execution_count": 10,
   "metadata": {},
   "outputs": [],
   "source": [
    "train_labels = train_set['survived']\n",
    "test_labels = test_set['survived']\n",
    "\n",
    "#keep the original train set, see why later\n",
    "train_full = train_set.copy()\n",
    "\n",
    "for set_ in (train_set, test_set):\n",
    "    set_.drop('survived', axis=1, inplace=True)"
   ]
  },
  {
   "cell_type": "markdown",
   "metadata": {},
   "source": [
    "## 4th Step: Data Cleaning \n",
    "\n",
    "Make sure there are no wrong, missing or unneccessary data: get rid of features, set some (missing) values to some value (zero, the mean= Mittelwert, the median=Zentralwert, ...), or drop data. \n",
    "\n",
    "Ways to clean data:\n",
    "?????\n"
   ]
  },
  {
   "cell_type": "markdown",
   "metadata": {},
   "source": [
    "Let us create a dataframe with only the incomplete rows to \"play around with\" for dropping data:"
   ]
  },
  {
   "cell_type": "code",
   "execution_count": 27,
   "metadata": {},
   "outputs": [
    {
     "data": {
      "text/html": [
       "<div>\n",
       "<style scoped>\n",
       "    .dataframe tbody tr th:only-of-type {\n",
       "        vertical-align: middle;\n",
       "    }\n",
       "\n",
       "    .dataframe tbody tr th {\n",
       "        vertical-align: top;\n",
       "    }\n",
       "\n",
       "    .dataframe thead th {\n",
       "        text-align: right;\n",
       "    }\n",
       "</style>\n",
       "<table border=\"1\" class=\"dataframe\">\n",
       "  <thead>\n",
       "    <tr style=\"text-align: right;\">\n",
       "      <th></th>\n",
       "      <th>pclass</th>\n",
       "      <th>name</th>\n",
       "      <th>sex</th>\n",
       "      <th>age</th>\n",
       "      <th>sibsp</th>\n",
       "      <th>parch</th>\n",
       "      <th>ticket</th>\n",
       "      <th>fare</th>\n",
       "      <th>cabin</th>\n",
       "      <th>embarked</th>\n",
       "      <th>boat</th>\n",
       "      <th>body</th>\n",
       "      <th>home.dest</th>\n",
       "    </tr>\n",
       "  </thead>\n",
       "  <tbody>\n",
       "    <tr>\n",
       "      <th>772</th>\n",
       "      <td>3</td>\n",
       "      <td>Dika, Mr. Mirko</td>\n",
       "      <td>male</td>\n",
       "      <td>17.0</td>\n",
       "      <td>0</td>\n",
       "      <td>0</td>\n",
       "      <td>349232</td>\n",
       "      <td>7.8958</td>\n",
       "      <td>NaN</td>\n",
       "      <td>S</td>\n",
       "      <td>NaN</td>\n",
       "      <td>NaN</td>\n",
       "      <td>NaN</td>\n",
       "    </tr>\n",
       "    <tr>\n",
       "      <th>543</th>\n",
       "      <td>2</td>\n",
       "      <td>Reeves, Mr. David</td>\n",
       "      <td>male</td>\n",
       "      <td>36.0</td>\n",
       "      <td>0</td>\n",
       "      <td>0</td>\n",
       "      <td>C.A. 17248</td>\n",
       "      <td>10.5000</td>\n",
       "      <td>NaN</td>\n",
       "      <td>S</td>\n",
       "      <td>NaN</td>\n",
       "      <td>NaN</td>\n",
       "      <td>Brighton, Sussex</td>\n",
       "    </tr>\n",
       "    <tr>\n",
       "      <th>289</th>\n",
       "      <td>1</td>\n",
       "      <td>Taussig, Miss. Ruth</td>\n",
       "      <td>female</td>\n",
       "      <td>18.0</td>\n",
       "      <td>0</td>\n",
       "      <td>2</td>\n",
       "      <td>110413</td>\n",
       "      <td>79.6500</td>\n",
       "      <td>E68</td>\n",
       "      <td>S</td>\n",
       "      <td>8</td>\n",
       "      <td>NaN</td>\n",
       "      <td>New York, NY</td>\n",
       "    </tr>\n",
       "    <tr>\n",
       "      <th>10</th>\n",
       "      <td>1</td>\n",
       "      <td>Astor, Col. John Jacob</td>\n",
       "      <td>male</td>\n",
       "      <td>47.0</td>\n",
       "      <td>1</td>\n",
       "      <td>0</td>\n",
       "      <td>PC 17757</td>\n",
       "      <td>227.5250</td>\n",
       "      <td>C62 C64</td>\n",
       "      <td>C</td>\n",
       "      <td>NaN</td>\n",
       "      <td>124.0</td>\n",
       "      <td>New York, NY</td>\n",
       "    </tr>\n",
       "    <tr>\n",
       "      <th>147</th>\n",
       "      <td>1</td>\n",
       "      <td>Harrington, Mr. Charles H</td>\n",
       "      <td>male</td>\n",
       "      <td>NaN</td>\n",
       "      <td>0</td>\n",
       "      <td>0</td>\n",
       "      <td>113796</td>\n",
       "      <td>42.4000</td>\n",
       "      <td>NaN</td>\n",
       "      <td>S</td>\n",
       "      <td>NaN</td>\n",
       "      <td>NaN</td>\n",
       "      <td>NaN</td>\n",
       "    </tr>\n",
       "  </tbody>\n",
       "</table>\n",
       "</div>"
      ],
      "text/plain": [
       "     pclass                       name     sex   age  sibsp  parch  \\\n",
       "772       3            Dika, Mr. Mirko    male  17.0      0      0   \n",
       "543       2          Reeves, Mr. David    male  36.0      0      0   \n",
       "289       1        Taussig, Miss. Ruth  female  18.0      0      2   \n",
       "10        1     Astor, Col. John Jacob    male  47.0      1      0   \n",
       "147       1  Harrington, Mr. Charles H    male   NaN      0      0   \n",
       "\n",
       "         ticket      fare    cabin embarked boat   body         home.dest  \n",
       "772      349232    7.8958      NaN        S  NaN    NaN               NaN  \n",
       "543  C.A. 17248   10.5000      NaN        S  NaN    NaN  Brighton, Sussex  \n",
       "289      110413   79.6500      E68        S    8    NaN      New York, NY  \n",
       "10     PC 17757  227.5250  C62 C64        C  NaN  124.0      New York, NY  \n",
       "147      113796   42.4000      NaN        S  NaN    NaN               NaN  "
      ]
     },
     "execution_count": 27,
     "metadata": {},
     "output_type": "execute_result"
    }
   ],
   "source": [
    "incomplete_rows = train_set[train_set.isnull().any(axis=1)]\n",
    "incomplete_rows.head()"
   ]
  },
  {
   "cell_type": "code",
   "execution_count": 28,
   "metadata": {},
   "outputs": [
    {
     "data": {
      "text/html": [
       "<div>\n",
       "<style scoped>\n",
       "    .dataframe tbody tr th:only-of-type {\n",
       "        vertical-align: middle;\n",
       "    }\n",
       "\n",
       "    .dataframe tbody tr th {\n",
       "        vertical-align: top;\n",
       "    }\n",
       "\n",
       "    .dataframe thead th {\n",
       "        text-align: right;\n",
       "    }\n",
       "</style>\n",
       "<table border=\"1\" class=\"dataframe\">\n",
       "  <thead>\n",
       "    <tr style=\"text-align: right;\">\n",
       "      <th></th>\n",
       "      <th>pclass</th>\n",
       "      <th>name</th>\n",
       "      <th>sex</th>\n",
       "      <th>age</th>\n",
       "      <th>sibsp</th>\n",
       "      <th>parch</th>\n",
       "      <th>ticket</th>\n",
       "      <th>fare</th>\n",
       "      <th>cabin</th>\n",
       "      <th>embarked</th>\n",
       "      <th>boat</th>\n",
       "      <th>body</th>\n",
       "      <th>home.dest</th>\n",
       "    </tr>\n",
       "  </thead>\n",
       "  <tbody>\n",
       "    <tr>\n",
       "      <th>772</th>\n",
       "      <td>3</td>\n",
       "      <td>Dika, Mr. Mirko</td>\n",
       "      <td>male</td>\n",
       "      <td>17.0</td>\n",
       "      <td>0</td>\n",
       "      <td>0</td>\n",
       "      <td>349232</td>\n",
       "      <td>7.8958</td>\n",
       "      <td>NaN</td>\n",
       "      <td>S</td>\n",
       "      <td>NaN</td>\n",
       "      <td>NaN</td>\n",
       "      <td>NaN</td>\n",
       "    </tr>\n",
       "    <tr>\n",
       "      <th>543</th>\n",
       "      <td>2</td>\n",
       "      <td>Reeves, Mr. David</td>\n",
       "      <td>male</td>\n",
       "      <td>36.0</td>\n",
       "      <td>0</td>\n",
       "      <td>0</td>\n",
       "      <td>C.A. 17248</td>\n",
       "      <td>10.5000</td>\n",
       "      <td>NaN</td>\n",
       "      <td>S</td>\n",
       "      <td>NaN</td>\n",
       "      <td>NaN</td>\n",
       "      <td>Brighton, Sussex</td>\n",
       "    </tr>\n",
       "    <tr>\n",
       "      <th>289</th>\n",
       "      <td>1</td>\n",
       "      <td>Taussig, Miss. Ruth</td>\n",
       "      <td>female</td>\n",
       "      <td>18.0</td>\n",
       "      <td>0</td>\n",
       "      <td>2</td>\n",
       "      <td>110413</td>\n",
       "      <td>79.6500</td>\n",
       "      <td>E68</td>\n",
       "      <td>S</td>\n",
       "      <td>8</td>\n",
       "      <td>NaN</td>\n",
       "      <td>New York, NY</td>\n",
       "    </tr>\n",
       "    <tr>\n",
       "      <th>10</th>\n",
       "      <td>1</td>\n",
       "      <td>Astor, Col. John Jacob</td>\n",
       "      <td>male</td>\n",
       "      <td>47.0</td>\n",
       "      <td>1</td>\n",
       "      <td>0</td>\n",
       "      <td>PC 17757</td>\n",
       "      <td>227.5250</td>\n",
       "      <td>C62 C64</td>\n",
       "      <td>C</td>\n",
       "      <td>NaN</td>\n",
       "      <td>124.0</td>\n",
       "      <td>New York, NY</td>\n",
       "    </tr>\n",
       "    <tr>\n",
       "      <th>147</th>\n",
       "      <td>1</td>\n",
       "      <td>Harrington, Mr. Charles H</td>\n",
       "      <td>male</td>\n",
       "      <td>NaN</td>\n",
       "      <td>0</td>\n",
       "      <td>0</td>\n",
       "      <td>113796</td>\n",
       "      <td>42.4000</td>\n",
       "      <td>NaN</td>\n",
       "      <td>S</td>\n",
       "      <td>NaN</td>\n",
       "      <td>NaN</td>\n",
       "      <td>NaN</td>\n",
       "    </tr>\n",
       "  </tbody>\n",
       "</table>\n",
       "</div>"
      ],
      "text/plain": [
       "     pclass                       name     sex   age  sibsp  parch  \\\n",
       "772       3            Dika, Mr. Mirko    male  17.0      0      0   \n",
       "543       2          Reeves, Mr. David    male  36.0      0      0   \n",
       "289       1        Taussig, Miss. Ruth  female  18.0      0      2   \n",
       "10        1     Astor, Col. John Jacob    male  47.0      1      0   \n",
       "147       1  Harrington, Mr. Charles H    male   NaN      0      0   \n",
       "\n",
       "         ticket      fare    cabin embarked boat   body         home.dest  \n",
       "772      349232    7.8958      NaN        S  NaN    NaN               NaN  \n",
       "543  C.A. 17248   10.5000      NaN        S  NaN    NaN  Brighton, Sussex  \n",
       "289      110413   79.6500      E68        S    8    NaN      New York, NY  \n",
       "10     PC 17757  227.5250  C62 C64        C  NaN  124.0      New York, NY  \n",
       "147      113796   42.4000      NaN        S  NaN    NaN               NaN  "
      ]
     },
     "execution_count": 28,
     "metadata": {},
     "output_type": "execute_result"
    }
   ],
   "source": [
    "# Drop the instances with missing values in the cabin feature\n",
    "incomplete_rows[\"cabin\"].dropna()\n",
    "incomplete_rows.head()\n"
   ]
  },
  {
   "cell_type": "code",
   "execution_count": 29,
   "metadata": {},
   "outputs": [
    {
     "data": {
      "text/html": [
       "<div>\n",
       "<style scoped>\n",
       "    .dataframe tbody tr th:only-of-type {\n",
       "        vertical-align: middle;\n",
       "    }\n",
       "\n",
       "    .dataframe tbody tr th {\n",
       "        vertical-align: top;\n",
       "    }\n",
       "\n",
       "    .dataframe thead th {\n",
       "        text-align: right;\n",
       "    }\n",
       "</style>\n",
       "<table border=\"1\" class=\"dataframe\">\n",
       "  <thead>\n",
       "    <tr style=\"text-align: right;\">\n",
       "      <th></th>\n",
       "      <th>pclass</th>\n",
       "      <th>name</th>\n",
       "      <th>sex</th>\n",
       "      <th>age</th>\n",
       "      <th>sibsp</th>\n",
       "      <th>parch</th>\n",
       "      <th>ticket</th>\n",
       "      <th>fare</th>\n",
       "      <th>embarked</th>\n",
       "      <th>boat</th>\n",
       "      <th>body</th>\n",
       "      <th>home.dest</th>\n",
       "    </tr>\n",
       "  </thead>\n",
       "  <tbody>\n",
       "    <tr>\n",
       "      <th>772</th>\n",
       "      <td>3</td>\n",
       "      <td>Dika, Mr. Mirko</td>\n",
       "      <td>male</td>\n",
       "      <td>17.0</td>\n",
       "      <td>0</td>\n",
       "      <td>0</td>\n",
       "      <td>349232</td>\n",
       "      <td>7.8958</td>\n",
       "      <td>S</td>\n",
       "      <td>NaN</td>\n",
       "      <td>NaN</td>\n",
       "      <td>NaN</td>\n",
       "    </tr>\n",
       "    <tr>\n",
       "      <th>543</th>\n",
       "      <td>2</td>\n",
       "      <td>Reeves, Mr. David</td>\n",
       "      <td>male</td>\n",
       "      <td>36.0</td>\n",
       "      <td>0</td>\n",
       "      <td>0</td>\n",
       "      <td>C.A. 17248</td>\n",
       "      <td>10.5000</td>\n",
       "      <td>S</td>\n",
       "      <td>NaN</td>\n",
       "      <td>NaN</td>\n",
       "      <td>Brighton, Sussex</td>\n",
       "    </tr>\n",
       "    <tr>\n",
       "      <th>289</th>\n",
       "      <td>1</td>\n",
       "      <td>Taussig, Miss. Ruth</td>\n",
       "      <td>female</td>\n",
       "      <td>18.0</td>\n",
       "      <td>0</td>\n",
       "      <td>2</td>\n",
       "      <td>110413</td>\n",
       "      <td>79.6500</td>\n",
       "      <td>S</td>\n",
       "      <td>8</td>\n",
       "      <td>NaN</td>\n",
       "      <td>New York, NY</td>\n",
       "    </tr>\n",
       "    <tr>\n",
       "      <th>10</th>\n",
       "      <td>1</td>\n",
       "      <td>Astor, Col. John Jacob</td>\n",
       "      <td>male</td>\n",
       "      <td>47.0</td>\n",
       "      <td>1</td>\n",
       "      <td>0</td>\n",
       "      <td>PC 17757</td>\n",
       "      <td>227.5250</td>\n",
       "      <td>C</td>\n",
       "      <td>NaN</td>\n",
       "      <td>124.0</td>\n",
       "      <td>New York, NY</td>\n",
       "    </tr>\n",
       "    <tr>\n",
       "      <th>147</th>\n",
       "      <td>1</td>\n",
       "      <td>Harrington, Mr. Charles H</td>\n",
       "      <td>male</td>\n",
       "      <td>NaN</td>\n",
       "      <td>0</td>\n",
       "      <td>0</td>\n",
       "      <td>113796</td>\n",
       "      <td>42.4000</td>\n",
       "      <td>S</td>\n",
       "      <td>NaN</td>\n",
       "      <td>NaN</td>\n",
       "      <td>NaN</td>\n",
       "    </tr>\n",
       "    <tr>\n",
       "      <th>...</th>\n",
       "      <td>...</td>\n",
       "      <td>...</td>\n",
       "      <td>...</td>\n",
       "      <td>...</td>\n",
       "      <td>...</td>\n",
       "      <td>...</td>\n",
       "      <td>...</td>\n",
       "      <td>...</td>\n",
       "      <td>...</td>\n",
       "      <td>...</td>\n",
       "      <td>...</td>\n",
       "      <td>...</td>\n",
       "    </tr>\n",
       "    <tr>\n",
       "      <th>1095</th>\n",
       "      <td>3</td>\n",
       "      <td>O'Sullivan, Miss. Bridget Mary</td>\n",
       "      <td>female</td>\n",
       "      <td>NaN</td>\n",
       "      <td>0</td>\n",
       "      <td>0</td>\n",
       "      <td>330909</td>\n",
       "      <td>7.6292</td>\n",
       "      <td>Q</td>\n",
       "      <td>NaN</td>\n",
       "      <td>NaN</td>\n",
       "      <td>NaN</td>\n",
       "    </tr>\n",
       "    <tr>\n",
       "      <th>1130</th>\n",
       "      <td>3</td>\n",
       "      <td>Pettersson, Miss. Ellen Natalia</td>\n",
       "      <td>female</td>\n",
       "      <td>18.0</td>\n",
       "      <td>0</td>\n",
       "      <td>0</td>\n",
       "      <td>347087</td>\n",
       "      <td>7.7750</td>\n",
       "      <td>S</td>\n",
       "      <td>NaN</td>\n",
       "      <td>NaN</td>\n",
       "      <td>NaN</td>\n",
       "    </tr>\n",
       "    <tr>\n",
       "      <th>1294</th>\n",
       "      <td>3</td>\n",
       "      <td>Williams, Mr. Leslie</td>\n",
       "      <td>male</td>\n",
       "      <td>28.5</td>\n",
       "      <td>0</td>\n",
       "      <td>0</td>\n",
       "      <td>54636</td>\n",
       "      <td>16.1000</td>\n",
       "      <td>S</td>\n",
       "      <td>NaN</td>\n",
       "      <td>14.0</td>\n",
       "      <td>NaN</td>\n",
       "    </tr>\n",
       "    <tr>\n",
       "      <th>860</th>\n",
       "      <td>3</td>\n",
       "      <td>Heikkinen, Miss. Laina</td>\n",
       "      <td>female</td>\n",
       "      <td>26.0</td>\n",
       "      <td>0</td>\n",
       "      <td>0</td>\n",
       "      <td>STON/O2. 3101282</td>\n",
       "      <td>7.9250</td>\n",
       "      <td>S</td>\n",
       "      <td>NaN</td>\n",
       "      <td>NaN</td>\n",
       "      <td>NaN</td>\n",
       "    </tr>\n",
       "    <tr>\n",
       "      <th>1126</th>\n",
       "      <td>3</td>\n",
       "      <td>Petranec, Miss. Matilda</td>\n",
       "      <td>female</td>\n",
       "      <td>28.0</td>\n",
       "      <td>0</td>\n",
       "      <td>0</td>\n",
       "      <td>349245</td>\n",
       "      <td>7.8958</td>\n",
       "      <td>S</td>\n",
       "      <td>NaN</td>\n",
       "      <td>NaN</td>\n",
       "      <td>NaN</td>\n",
       "    </tr>\n",
       "  </tbody>\n",
       "</table>\n",
       "<p>1047 rows × 12 columns</p>\n",
       "</div>"
      ],
      "text/plain": [
       "      pclass                             name     sex   age  sibsp  parch  \\\n",
       "772        3                  Dika, Mr. Mirko    male  17.0      0      0   \n",
       "543        2                Reeves, Mr. David    male  36.0      0      0   \n",
       "289        1              Taussig, Miss. Ruth  female  18.0      0      2   \n",
       "10         1           Astor, Col. John Jacob    male  47.0      1      0   \n",
       "147        1        Harrington, Mr. Charles H    male   NaN      0      0   \n",
       "...      ...                              ...     ...   ...    ...    ...   \n",
       "1095       3   O'Sullivan, Miss. Bridget Mary  female   NaN      0      0   \n",
       "1130       3  Pettersson, Miss. Ellen Natalia  female  18.0      0      0   \n",
       "1294       3             Williams, Mr. Leslie    male  28.5      0      0   \n",
       "860        3           Heikkinen, Miss. Laina  female  26.0      0      0   \n",
       "1126       3          Petranec, Miss. Matilda  female  28.0      0      0   \n",
       "\n",
       "                ticket      fare embarked boat   body         home.dest  \n",
       "772             349232    7.8958        S  NaN    NaN               NaN  \n",
       "543         C.A. 17248   10.5000        S  NaN    NaN  Brighton, Sussex  \n",
       "289             110413   79.6500        S    8    NaN      New York, NY  \n",
       "10            PC 17757  227.5250        C  NaN  124.0      New York, NY  \n",
       "147             113796   42.4000        S  NaN    NaN               NaN  \n",
       "...                ...       ...      ...  ...    ...               ...  \n",
       "1095            330909    7.6292        Q  NaN    NaN               NaN  \n",
       "1130            347087    7.7750        S  NaN    NaN               NaN  \n",
       "1294             54636   16.1000        S  NaN   14.0               NaN  \n",
       "860   STON/O2. 3101282    7.9250        S  NaN    NaN               NaN  \n",
       "1126            349245    7.8958        S  NaN    NaN               NaN  \n",
       "\n",
       "[1047 rows x 12 columns]"
      ]
     },
     "execution_count": 29,
     "metadata": {},
     "output_type": "execute_result"
    }
   ],
   "source": [
    "# Drop the entire cabin feature\n",
    "incomplete_rows.drop(columns=\"cabin\",axis=1)\n"
   ]
  },
  {
   "cell_type": "code",
   "execution_count": 30,
   "metadata": {},
   "outputs": [
    {
     "data": {
      "text/html": [
       "<div>\n",
       "<style scoped>\n",
       "    .dataframe tbody tr th:only-of-type {\n",
       "        vertical-align: middle;\n",
       "    }\n",
       "\n",
       "    .dataframe tbody tr th {\n",
       "        vertical-align: top;\n",
       "    }\n",
       "\n",
       "    .dataframe thead th {\n",
       "        text-align: right;\n",
       "    }\n",
       "</style>\n",
       "<table border=\"1\" class=\"dataframe\">\n",
       "  <thead>\n",
       "    <tr style=\"text-align: right;\">\n",
       "      <th></th>\n",
       "      <th>pclass</th>\n",
       "      <th>name</th>\n",
       "      <th>sex</th>\n",
       "      <th>age</th>\n",
       "      <th>sibsp</th>\n",
       "      <th>parch</th>\n",
       "      <th>ticket</th>\n",
       "      <th>fare</th>\n",
       "      <th>cabin</th>\n",
       "      <th>embarked</th>\n",
       "      <th>boat</th>\n",
       "      <th>body</th>\n",
       "      <th>home.dest</th>\n",
       "    </tr>\n",
       "  </thead>\n",
       "  <tbody>\n",
       "    <tr>\n",
       "      <th>772</th>\n",
       "      <td>3</td>\n",
       "      <td>Dika, Mr. Mirko</td>\n",
       "      <td>male</td>\n",
       "      <td>17.0</td>\n",
       "      <td>0</td>\n",
       "      <td>0</td>\n",
       "      <td>349232</td>\n",
       "      <td>7.8958</td>\n",
       "      <td>NaN</td>\n",
       "      <td>S</td>\n",
       "      <td>NaN</td>\n",
       "      <td>NaN</td>\n",
       "      <td>NaN</td>\n",
       "    </tr>\n",
       "    <tr>\n",
       "      <th>543</th>\n",
       "      <td>2</td>\n",
       "      <td>Reeves, Mr. David</td>\n",
       "      <td>male</td>\n",
       "      <td>36.0</td>\n",
       "      <td>0</td>\n",
       "      <td>0</td>\n",
       "      <td>C.A. 17248</td>\n",
       "      <td>10.5000</td>\n",
       "      <td>NaN</td>\n",
       "      <td>S</td>\n",
       "      <td>NaN</td>\n",
       "      <td>NaN</td>\n",
       "      <td>Brighton, Sussex</td>\n",
       "    </tr>\n",
       "    <tr>\n",
       "      <th>289</th>\n",
       "      <td>1</td>\n",
       "      <td>Taussig, Miss. Ruth</td>\n",
       "      <td>female</td>\n",
       "      <td>18.0</td>\n",
       "      <td>0</td>\n",
       "      <td>2</td>\n",
       "      <td>110413</td>\n",
       "      <td>79.6500</td>\n",
       "      <td>E68</td>\n",
       "      <td>S</td>\n",
       "      <td>8</td>\n",
       "      <td>NaN</td>\n",
       "      <td>New York, NY</td>\n",
       "    </tr>\n",
       "    <tr>\n",
       "      <th>10</th>\n",
       "      <td>1</td>\n",
       "      <td>Astor, Col. John Jacob</td>\n",
       "      <td>male</td>\n",
       "      <td>47.0</td>\n",
       "      <td>1</td>\n",
       "      <td>0</td>\n",
       "      <td>PC 17757</td>\n",
       "      <td>227.5250</td>\n",
       "      <td>C62 C64</td>\n",
       "      <td>C</td>\n",
       "      <td>NaN</td>\n",
       "      <td>124.0</td>\n",
       "      <td>New York, NY</td>\n",
       "    </tr>\n",
       "    <tr>\n",
       "      <th>147</th>\n",
       "      <td>1</td>\n",
       "      <td>Harrington, Mr. Charles H</td>\n",
       "      <td>male</td>\n",
       "      <td>NaN</td>\n",
       "      <td>0</td>\n",
       "      <td>0</td>\n",
       "      <td>113796</td>\n",
       "      <td>42.4000</td>\n",
       "      <td>NaN</td>\n",
       "      <td>S</td>\n",
       "      <td>NaN</td>\n",
       "      <td>NaN</td>\n",
       "      <td>NaN</td>\n",
       "    </tr>\n",
       "  </tbody>\n",
       "</table>\n",
       "</div>"
      ],
      "text/plain": [
       "     pclass                       name     sex   age  sibsp  parch  \\\n",
       "772       3            Dika, Mr. Mirko    male  17.0      0      0   \n",
       "543       2          Reeves, Mr. David    male  36.0      0      0   \n",
       "289       1        Taussig, Miss. Ruth  female  18.0      0      2   \n",
       "10        1     Astor, Col. John Jacob    male  47.0      1      0   \n",
       "147       1  Harrington, Mr. Charles H    male   NaN      0      0   \n",
       "\n",
       "         ticket      fare    cabin embarked boat   body         home.dest  \n",
       "772      349232    7.8958      NaN        S  NaN    NaN               NaN  \n",
       "543  C.A. 17248   10.5000      NaN        S  NaN    NaN  Brighton, Sussex  \n",
       "289      110413   79.6500      E68        S    8    NaN      New York, NY  \n",
       "10     PC 17757  227.5250  C62 C64        C  NaN  124.0      New York, NY  \n",
       "147      113796   42.4000      NaN        S  NaN    NaN               NaN  "
      ]
     },
     "execution_count": 30,
     "metadata": {},
     "output_type": "execute_result"
    }
   ],
   "source": [
    "# Filling in the median for missing age values\n",
    "incomplete_rows[\"age\"].fillna(incomplete_rows[\"age\"].mean(), inplace=False)\n",
    "incomplete_rows.head()\n"
   ]
  },
  {
   "cell_type": "code",
   "execution_count": 31,
   "metadata": {},
   "outputs": [
    {
     "data": {
      "text/html": [
       "<div>\n",
       "<style scoped>\n",
       "    .dataframe tbody tr th:only-of-type {\n",
       "        vertical-align: middle;\n",
       "    }\n",
       "\n",
       "    .dataframe tbody tr th {\n",
       "        vertical-align: top;\n",
       "    }\n",
       "\n",
       "    .dataframe thead th {\n",
       "        text-align: right;\n",
       "    }\n",
       "</style>\n",
       "<table border=\"1\" class=\"dataframe\">\n",
       "  <thead>\n",
       "    <tr style=\"text-align: right;\">\n",
       "      <th></th>\n",
       "      <th>age</th>\n",
       "      <th>fare</th>\n",
       "    </tr>\n",
       "  </thead>\n",
       "  <tbody>\n",
       "    <tr>\n",
       "      <th>772</th>\n",
       "      <td>17.0</td>\n",
       "      <td>7.8958</td>\n",
       "    </tr>\n",
       "    <tr>\n",
       "      <th>543</th>\n",
       "      <td>36.0</td>\n",
       "      <td>10.5000</td>\n",
       "    </tr>\n",
       "    <tr>\n",
       "      <th>289</th>\n",
       "      <td>18.0</td>\n",
       "      <td>79.6500</td>\n",
       "    </tr>\n",
       "    <tr>\n",
       "      <th>10</th>\n",
       "      <td>47.0</td>\n",
       "      <td>227.5250</td>\n",
       "    </tr>\n",
       "    <tr>\n",
       "      <th>147</th>\n",
       "      <td>28.0</td>\n",
       "      <td>42.4000</td>\n",
       "    </tr>\n",
       "  </tbody>\n",
       "</table>\n",
       "</div>"
      ],
      "text/plain": [
       "      age      fare\n",
       "772  17.0    7.8958\n",
       "543  36.0   10.5000\n",
       "289  18.0   79.6500\n",
       "10   47.0  227.5250\n",
       "147  28.0   42.4000"
      ]
     },
     "execution_count": 31,
     "metadata": {},
     "output_type": "execute_result"
    }
   ],
   "source": [
    "# To use SimpleImputer one needs a copy of the dataframe with only the numerical features with missing values\n",
    "\n",
    "train_num = train_set[['age','fare']]\n",
    "\n",
    "from sklearn.impute import SimpleImputer \n",
    "imputer = SimpleImputer(strategy='median')\n",
    "imputer.fit(train_num)   # computes all median values, but doesn't transform the dataset!\n",
    "X = imputer.transform(train_num) # this fills in the missing values with the mean.\n",
    "train_num_imputed = pd.DataFrame(X, columns=train_num.columns,\n",
    "\t\t\t\t\t\tindex=train_num.index)\n",
    "train_num_imputed.head()\n",
    "\n",
    "# Then you could replace the features in the original dataframe."
   ]
  },
  {
   "cell_type": "markdown",
   "metadata": {},
   "source": [
    "Question: What would work better for fare?\n",
    "Answer: Compute the medium fare for each class and impute those!"
   ]
  },
  {
   "cell_type": "markdown",
   "metadata": {},
   "source": [
    "### Note: Getting rid of outliers\n",
    "\n",
    "Most data contain \"bad\" instances (e.g faulty data, sensor malfunction, ...) that lie \"outside\" of the \"normal\" data ranges. To get rid of those, you first have to identify them (statistical methods e.g. box plots for all features, or \"Anomaly Detection\", see later). \n"
   ]
  },
  {
   "cell_type": "markdown",
   "metadata": {},
   "source": [
    "## Step 5: Handling Categorical Features\n",
    "\n",
    "Examples in our dataset: \n",
    "pclass (1,2,3), sex (female/male), embarked (C,Q,S)\n",
    "\n",
    "For an algorithm to be able to deal with categorical data, they need to be transformed to numerical data somehow. There are two main optins: \n",
    "\n",
    "### Ordinal Encoding\n",
    "\n",
    "transform each alass into a number. \n",
    "e.g.: female = 0, male = 1, \n",
    "C = 0, Q = 1, S = 2 ...\n",
    "\n",
    "Problem: ???????\n",
    "\n",
    "Output: numpy ndarray"
   ]
  },
  {
   "cell_type": "code",
   "execution_count": 126,
   "metadata": {},
   "outputs": [
    {
     "data": {
      "text/plain": [
       "array([[2.],\n",
       "       [2.],\n",
       "       [2.],\n",
       "       [0.],\n",
       "       [2.],\n",
       "       [2.],\n",
       "       [2.],\n",
       "       [2.],\n",
       "       [2.],\n",
       "       [2.]])"
      ]
     },
     "execution_count": 126,
     "metadata": {},
     "output_type": "execute_result"
    }
   ],
   "source": [
    "from sklearn.preprocessing import OrdinalEncoder\n",
    "\n",
    "train_emb = train_set[['embarked']]\n",
    "ordinal_encoder = OrdinalEncoder()\n",
    "train_emb_encoded = ordinal_encoder.fit_transform(train_emb)\n",
    "train_emb_encoded[:10]\n",
    "\n"
   ]
  },
  {
   "cell_type": "markdown",
   "metadata": {},
   "source": [
    "### better: One-Hot Encoding\n",
    "\n",
    "Suppose you have $C$ different classes $1, 2, \\ldots, C$. Then the **one-hot vector** representing class $i\\in \\{1,\\ldots, C\\}$ is the unit vector\n",
    "$$\n",
    "\t\te_i:=\\left(\\begin{array}{c}0 \\\\\\vdots \\\\0 \\\\1 \\\\0 \\\\\\vdots \\\\0\\end{array}\\right)\\leftarrow i\\text{-th entry}\n",
    "$$\n",
    "\n",
    "Advantage: \n",
    "For $c$ classes $1,2,3,4,\\ldots$, the distance between any two different one-hot-vectors is the same:\n",
    "$$||e_i-e_j||=\\sqrt{2}.$$ \n",
    "\n",
    "The output is a SciPy sparse matrix instead of numpy array; if you want a normal numpy array set `sparse=False``.\n",
    "\n",
    "One Hot Encoding turns one categorical feature (with $C$ categories) into $C$ columns. \n"
   ]
  },
  {
   "cell_type": "code",
   "execution_count": 127,
   "metadata": {},
   "outputs": [
    {
     "name": "stdout",
     "output_type": "stream",
     "text": [
      "[[0. 0. 1. 0.]\n",
      " [0. 0. 1. 0.]\n",
      " [0. 0. 1. 0.]\n",
      " ...\n",
      " [0. 0. 1. 0.]\n",
      " [0. 0. 1. 0.]\n",
      " [0. 0. 1. 0.]]\n",
      "['C', 'Q', 'S', nan]\n"
     ]
    }
   ],
   "source": [
    "from sklearn.preprocessing import OneHotEncoder\n",
    "\n",
    "train_emb = train_set[['embarked']]\n",
    "cat_encoder = OneHotEncoder(sparse=False)\n",
    "train_emb_1hot = cat_encoder.fit_transform(train_emb)\n",
    "print(train_emb_1hot)\n",
    "\n",
    "# Get the list of categories: \n",
    "\n",
    "cats_1hot = list(x for x in cat_encoder.categories_[0])\n",
    "print(cats_1hot)\n",
    "\n",
    "# Note: We now have 4 categories because we have not cleaned the data yet!\n"
   ]
  },
  {
   "cell_type": "markdown",
   "metadata": {},
   "source": [
    "## 6th step: Feature Scaling\n",
    "\n",
    "Most ML algorithms don't perform well when the input numerical attributes have very different scales (for example if one feature is around $0.00000001$, while the other feature is around a million): the patterns in the data get very \"distorted\" and hard to find for the algorithm. $\\Rightarrow$ **feature scaling**. \n",
    "\n",
    "There are two ways to get all attributes to the same scale:\n",
    "- **Min-max scaling**: values are shifted and rescaled so that they end up in the range of 0 to 1, by substracting the min value and dividing by the max minus the min. Scikit-Learn provides a transformer called MinMaxScaler.\n",
    "- **Standardization**: substract the mean value and divide by standard deviation so values have mean 0 and 1 variance. Unlike minmax scaling, standardization doesn't bound values to a specific range. Scikit-Learn provides a transformer called StandardScaler."
   ]
  },
  {
   "cell_type": "markdown",
   "metadata": {},
   "source": [
    "## Step 7: Creating Class Balance\n",
    "\n",
    "Remember that there is a class imbalance in the labels, so we want to create class balance only on the training set via under- or oversampling.\n",
    "\n",
    "We will now create balanced datasets by\n",
    "- subsampling survived == 0, or\n",
    "- oversampling survived == 1:"
   ]
  },
  {
   "cell_type": "code",
   "execution_count": 143,
   "metadata": {},
   "outputs": [
    {
     "name": "stdout",
     "output_type": "stream",
     "text": [
      "382 382\n"
     ]
    }
   ],
   "source": [
    "# First subsampling: here we still need the full train set incl. labels\n",
    "\n",
    "# Lets shuffle the data before creating the subsamples\n",
    "\n",
    "train_shuffled = train_full.sample(frac=1)\n",
    "\n",
    "# create two separate dataframes of same length for survived and deceased\n",
    "sur_train = train_shuffled.loc[train_shuffled['survived'] == '1']\n",
    "num_instances = len(sur_train)\n",
    "dec_train = train_shuffled.loc[train_shuffled['survived'] == '0'][:num_instances]\n",
    "print(len(sur_train), len(dec_train))\n",
    "\n",
    "train_sub = pd.concat([sur_train, dec_train])\n",
    "\n",
    "# Shuffle dataframe rows\n",
    "train_sub = train_sub.sample(frac=1, random_state=42)\n"
   ]
  },
  {
   "cell_type": "markdown",
   "metadata": {},
   "source": [
    "Next, Oversampling: There are different ways, the most naive is Naive random over-sampling, which we do here. \n",
    "\n",
    "To use oversampling techniques, you can use the package imbalanced-learn: https://imbalanced-learn.org/stable/, imported as imblearn. \n",
    "\n"
   ]
  },
  {
   "cell_type": "code",
   "execution_count": 144,
   "metadata": {},
   "outputs": [
    {
     "name": "stdout",
     "output_type": "stream",
     "text": [
      "0    665\n",
      "1    665\n",
      "Name: survived, dtype: int64\n"
     ]
    }
   ],
   "source": [
    "from imblearn.over_sampling import RandomOverSampler\n",
    "\n",
    "ros = RandomOverSampler(random_state=0)\n",
    "\n",
    "X_over, y_over = ros.fit_resample(train_set, train_labels)\n",
    "\n",
    "print(y_over.value_counts())"
   ]
  },
  {
   "cell_type": "markdown",
   "metadata": {},
   "source": [
    "## Combination of 4-6: Transformation Pipeline\n",
    "\n",
    "Since we want to apply steps 4-6 for both the training and test set, and make preprocessing as simple as possible, usually the transformations (i.e. estimators with a `fit_transform()` method) are combined in a **Transformation Pipeline**. \n",
    "\n",
    "This can be done by Sklearn's \"Pipeline\" (https://scikit-learn.org/stable/modules/generated/sklearn.pipeline.Pipeline.html) for numerical and categorical features separately, and combine those into a single Transformation Pipeline with the \"ColumnTransformer\" (https://scikit-learn.org/stable/modules/generated/sklearn.compose.ColumnTransformer.html.)\n",
    "\n",
    "\n",
    "### Creating a Transformation Pipeline\n",
    "\n",
    "First step: Divide the features into numerical and categorical features "
   ]
  },
  {
   "cell_type": "code",
   "execution_count": 145,
   "metadata": {},
   "outputs": [],
   "source": [
    "num_features = train_set.select_dtypes(include=['int64', 'float64', 'int32']).columns\n",
    "\n",
    "cat_features = train_set.select_dtypes(include=['category']).columns\n",
    "\n"
   ]
  },
  {
   "cell_type": "markdown",
   "metadata": {},
   "source": [
    "Second step: Create a pipeline for numerical features (Data Cleaning, Standardization), and one for categorical features (Data Cleaning, One-Hot Encoding)"
   ]
  },
  {
   "cell_type": "code",
   "execution_count": 155,
   "metadata": {},
   "outputs": [],
   "source": [
    "from sklearn.pipeline import Pipeline\n",
    "from sklearn.preprocessing import StandardScaler\n",
    "from sklearn.compose import ColumnTransformer\n",
    "\n",
    "num_pipeline = Pipeline([\n",
    "        ('num_imputer', SimpleImputer(strategy='median')),\n",
    "        ('std_scaler', StandardScaler()),\n",
    "    ])\n",
    "\n",
    "cat_pipeline = Pipeline([\n",
    "        ('cat_imputer', SimpleImputer(strategy='most_frequent')),\n",
    "        ('cat', OneHotEncoder()),\n",
    "    ])\n",
    "\n",
    "full_pipeline = ColumnTransformer([\n",
    "\t\t\t\t(\"num\", num_pipeline, num_features),\n",
    "\t\t\t\t(\"cat\", cat_pipeline, cat_features),\n",
    "\t\t\t])\n",
    "\n",
    "\n",
    "train_transformed = full_pipeline.fit_transform(train_set)\n"
   ]
  },
  {
   "cell_type": "markdown",
   "metadata": {},
   "source": [
    "Note: X is a numpy ndarray, not a DataFrame! But that works fine as an input for a ML model. \n",
    "\n",
    "Also note: The columns are not the same as before any more, due to the one-hot-encoders. Numerical features stay the same, but all categorical features get turned into arrays of number-of-category-many columns. \n"
   ]
  },
  {
   "cell_type": "markdown",
   "metadata": {},
   "source": [
    "Now what to do with the test data? They should be like entirely new, \"unseen\" data, and we suppose they are from the same distribution as the training data. Therefore, for the above transformation pipeline, we need to use the parameters (mean, standard deviation, or others) calculated from the **training data**. Therefore:\n",
    "\n",
    "**ATTENTION:** Use the trained full_pipeline above (trained on the training set) to only **transform** (not fit_transform) the test data! "
   ]
  },
  {
   "cell_type": "code",
   "execution_count": 156,
   "metadata": {},
   "outputs": [
    {
     "name": "stdout",
     "output_type": "stream",
     "text": [
      "<class 'numpy.ndarray'>\n"
     ]
    }
   ],
   "source": [
    "test_transformed = full_pipeline.transform(test_set)\n"
   ]
  },
  {
   "cell_type": "markdown",
   "metadata": {},
   "source": [
    "# Chapter 03: Choosing and Training A Model\n",
    "\n",
    "Task: ?\n",
    "\n",
    "Data: ?\n",
    "\n",
    "? Learning \n",
    "\n",
    "Complexity: ?\n"
   ]
  },
  {
   "cell_type": "markdown",
   "metadata": {},
   "source": [
    "## Training our first model: Logistic Regression\n",
    "\n",
    "**Logistic Regression** (see next chapter 05 Linear Models) is a variant of linear regression used for binary classification, where you predict the **line or linear hyperspace**  that separates two different classes. \n",
    "\n",
    "Remember that our training set is given by: \n",
    "input = `train_transformed` and `train_labels`\n",
    "and the test set by: \n",
    "input = `test_transformed` and `test_labels`. \n"
   ]
  },
  {
   "cell_type": "code",
   "execution_count": 157,
   "metadata": {},
   "outputs": [
    {
     "data": {
      "text/plain": [
       "LogisticRegression()"
      ]
     },
     "execution_count": 157,
     "metadata": {},
     "output_type": "execute_result"
    }
   ],
   "source": [
    "\n"
   ]
  },
  {
   "cell_type": "markdown",
   "metadata": {},
   "source": [
    "# Chapter 04 - Evaluating A Model"
   ]
  },
  {
   "cell_type": "markdown",
   "metadata": {},
   "source": [
    "To compute the **accuracy** on the test set, first make predictions on the test set with the trained model. Then compare these predictions to the labels:"
   ]
  },
  {
   "cell_type": "code",
   "execution_count": 159,
   "metadata": {},
   "outputs": [
    {
     "name": "stdout",
     "output_type": "stream",
     "text": [
      "Training accuracy: 80.23 %\n",
      "Test accuracy: 77.86 %\n"
     ]
    }
   ],
   "source": [
    "# to make predictions for the test inputs:\n",
    "predictions = logreg.predict(test_transformed)\n",
    "\n",
    "# compute accuracy on the training set\n",
    "acc_log_train = logreg.score(train_transformed, train_labels) * 100\n",
    "print('Training accuracy:', round(acc_log_train,2,), \"%\")\n",
    "\n",
    "# compute accuracy on the test set\n",
    "acc_log_test = logreg.score(test_transformed, test_labels) * 100\n",
    "print('Test accuracy:',round(acc_log_test,2,), \"%\")"
   ]
  },
  {
   "cell_type": "markdown",
   "metadata": {},
   "source": [
    "Next we compute the confusion matrix: "
   ]
  },
  {
   "cell_type": "code",
   "execution_count": 160,
   "metadata": {},
   "outputs": [
    {
     "name": "stdout",
     "output_type": "stream",
     "text": [
      "[[141  21]\n",
      " [ 37  63]]\n",
      "\n",
      "\n",
      "              precision    recall  f1-score   support\n",
      "\n",
      "           0       0.79      0.87      0.83       162\n",
      "           1       0.75      0.63      0.68       100\n",
      "\n",
      "    accuracy                           0.78       262\n",
      "   macro avg       0.77      0.75      0.76       262\n",
      "weighted avg       0.78      0.78      0.77       262\n",
      "\n"
     ]
    }
   ],
   "source": [
    "from sklearn.metrics import confusion_matrix\n",
    "\n",
    "print(confusion_matrix(test_labels, predictions))"
   ]
  },
  {
   "cell_type": "markdown",
   "metadata": {},
   "source": [
    "Was bedeutet diese? "
   ]
  },
  {
   "cell_type": "markdown",
   "metadata": {},
   "source": [
    "We compute Precision and Recall: "
   ]
  },
  {
   "cell_type": "code",
   "execution_count": 161,
   "metadata": {},
   "outputs": [
    {
     "name": "stdout",
     "output_type": "stream",
     "text": [
      "Precision: 0.75\n",
      "Recall: 0.63\n"
     ]
    }
   ],
   "source": [
    "# Precision and Recall:\n",
    "\n",
    "from sklearn.metrics import precision_score, recall_score\n",
    "\n",
    "precision = precision_score(test_labels, predictions, pos_label='1')\n",
    "recall = recall_score(test_labels, predictions, pos_label='1')\n",
    "\n",
    "print(\"Precision:\", precision)\n",
    "print(\"Recall:\", recall)"
   ]
  },
  {
   "cell_type": "markdown",
   "metadata": {},
   "source": [
    "Let us plot precision vs recall for this case:"
   ]
  },
  {
   "cell_type": "code",
   "execution_count": 162,
   "metadata": {},
   "outputs": [
    {
     "data": {
      "image/png": "[encoded data removed]",
      "text/plain": [
       "<Figure size 1400x700 with 1 Axes>"
      ]
     },
     "metadata": {},
     "output_type": "display_data"
    }
   ],
   "source": [
    "def plot_precision_vs_recall(precision, recall):\n",
    "    plt.plot(recall, precision, \"go\", markersize = 10)\n",
    "    plt.ylabel(\"recall\", fontsize=19)\n",
    "    plt.xlabel(\"precision\", fontsize=19)\n",
    "    plt.axis([0, 1.5, 0, 1.5])\n",
    "\n",
    "plt.figure(figsize=(14, 7))\n",
    "plot_precision_vs_recall(precision, recall)\n",
    "plt.show()"
   ]
  },
  {
   "cell_type": "markdown",
   "metadata": {},
   "source": [
    "For different thresholds, precision and recall will vary. Plotting the precision-recall-points for different thresholds gives the **precision-recall curve**. Bigger area under the curve is better. Pick the threshold at the \"corner\" of the curve. For this we don't need the label predictions, but the predicted probabilities of the positive class, which we get via `predict_proba()`. "
   ]
  },
  {
   "cell_type": "code",
   "execution_count": 163,
   "metadata": {},
   "outputs": [
    {
     "data": {
      "image/png": "[encoded data removed]",
      "text/plain": [
       "<Figure size 1400x700 with 1 Axes>"
      ]
     },
     "metadata": {},
     "output_type": "display_data"
    }
   ],
   "source": [
    "from sklearn.metrics import precision_recall_curve\n",
    "\n",
    "# getting the probabilities of our predictions\n",
    "y_scores = logreg.predict_proba(test_transformed)\n",
    "y_scores = y_scores[:,1]\n",
    "\n",
    "precision, recall, threshold = precision_recall_curve(test_labels, y_scores, pos_label='1')\n",
    "\n",
    "# plotting them against each other\n",
    "def plot_precision_recall_curve(precision, recall, label=None):\n",
    "    plt.plot(recall, precision, linewidth=2, label=label)\n",
    "    plt.axis([0, 1.1, 0, 1.1])\n",
    "    plt.xlabel('Recall', fontsize=16)\n",
    "    plt.ylabel('Precision', fontsize=16)\n",
    "\n",
    "plt.figure(figsize=(14, 7))\n",
    "plot_precision_recall_curve(precision, recall)\n",
    "plt.show()"
   ]
  },
  {
   "cell_type": "code",
   "execution_count": 164,
   "metadata": {},
   "outputs": [
    {
     "data": {
      "image/png": "[encoded data removed]",
      "text/plain": [
       "<Figure size 640x480 with 1 Axes>"
      ]
     },
     "metadata": {},
     "output_type": "display_data"
    }
   ],
   "source": [
    "# Alternatively use Sklearn: \n",
    "\n",
    "from sklearn.metrics import PrecisionRecallDisplay\n",
    "\n",
    "pr_display = PrecisionRecallDisplay(precision=precision, recall=recall).plot()"
   ]
  },
  {
   "cell_type": "markdown",
   "metadata": {},
   "source": [
    "One metric combining precision and recall is the F1-score:"
   ]
  },
  {
   "cell_type": "code",
   "execution_count": 165,
   "metadata": {},
   "outputs": [
    {
     "data": {
      "text/plain": [
       "0.68"
      ]
     },
     "execution_count": 165,
     "metadata": {},
     "output_type": "execute_result"
    }
   ],
   "source": [
    "from sklearn.metrics import f1_score\n",
    "\n",
    "round(f1_score(test_labels, predictions, pos_label='1'),2)"
   ]
  },
  {
   "cell_type": "markdown",
   "metadata": {},
   "source": [
    "A different visual tool to see how good the model is is the **ROC (receiver operating characteristic) curve**, plotting true positive rate vs. false positive rate for varying thresholds. Bigger area under the curve is better. "
   ]
  },
  {
   "cell_type": "code",
   "execution_count": 166,
   "metadata": {},
   "outputs": [
    {
     "data": {
      "image/png": "[encoded data removed]",
      "text/plain": [
       "<Figure size 1400x700 with 1 Axes>"
      ]
     },
     "metadata": {},
     "output_type": "display_data"
    }
   ],
   "source": [
    "from sklearn.metrics import roc_curve\n",
    "# compute true positive rate and false positive rate\n",
    "false_positive_rate, true_positive_rate, thresholds = roc_curve(test_labels, y_scores, pos_label='1')\n",
    "\n",
    "# plotting them against each other\n",
    "def plot_roc_curve(false_positive_rate, true_positive_rate, label=None):\n",
    "    plt.plot(false_positive_rate, true_positive_rate, linewidth=2, label=label)\n",
    "    plt.plot([0, 1], [0, 1], 'r', linewidth=4)\n",
    "    plt.axis([0, 1, 0, 1])\n",
    "    plt.xlabel('False Positive Rate (FPR)', fontsize=16)\n",
    "    plt.ylabel('True Positive Rate (TPR)', fontsize=16)\n",
    "\n",
    "plt.figure(figsize=(14, 7))\n",
    "plot_roc_curve(false_positive_rate, true_positive_rate)\n",
    "plt.show()"
   ]
  },
  {
   "cell_type": "markdown",
   "metadata": {},
   "source": [
    "A single metric you can get from the ROC score is the area under the curve, the ROC-AUC-Score:"
   ]
  },
  {
   "cell_type": "code",
   "execution_count": 167,
   "metadata": {},
   "outputs": [
    {
     "name": "stdout",
     "output_type": "stream",
     "text": [
      "ROC-AUC-Score: 0.84\n"
     ]
    }
   ],
   "source": [
    "from sklearn.metrics import roc_auc_score\n",
    "r_a_score = roc_auc_score(test_labels, y_scores)\n",
    "print(\"ROC-AUC-Score:\", round(r_a_score,2))\n",
    "\n"
   ]
  },
  {
   "cell_type": "markdown",
   "metadata": {},
   "source": [
    "## Training some more models and comparing their performance\n",
    "\n",
    "The following are other models for binary classification we will learn this semester: \n",
    "- **Random Forest Classifier** is a bunch of **tree classifiers** that work together: you predict the class which is predicted by most of the trees\n",
    "- **K-Nearest Neighbor (KNN) Classifier**: This is an instance-based model which looks at the K closest instances and predicts the class most of those have\n",
    "- **Linear Support Vector Classifier (SVC)**: Like Logistic Regression, this finds a linear hyperspace which separates the two classes (but in a more geometric way than logistic regression)\n"
   ]
  },
  {
   "cell_type": "code",
   "execution_count": 168,
   "metadata": {},
   "outputs": [],
   "source": [
    "from sklearn.ensemble import RandomForestClassifier\n",
    "\n",
    "# Random Forest\n",
    "random_forest = RandomForestClassifier(n_estimators=100)\n",
    "random_forest.fit(train_transformed, train_labels)\n",
    "\n",
    "random_forest_prediction = random_forest.predict(test_transformed)\n"
   ]
  },
  {
   "cell_type": "code",
   "execution_count": 169,
   "metadata": {},
   "outputs": [
    {
     "name": "stdout",
     "output_type": "stream",
     "text": [
      "Training accuracy: 97.04 %\n",
      "Test accuracy: 93.51 %\n"
     ]
    }
   ],
   "source": [
    "\n",
    "# Get the accuracy on the training set\n",
    "\n",
    "acc_random_forest_train = round(random_forest.score(train_transformed, train_labels) * 100, 2)\n",
    "\n",
    "print('Training accuracy:', round(acc_random_forest_train,2,), \"%\")\n",
    "\n",
    "# Get the accuracy on the test set\n",
    "\n",
    "acc_random_forest_test = round(random_forest.score(test_transformed, test_labels) * 100, 2)\n",
    "\n",
    "print('Test accuracy:', round(acc_random_forest_test,2,), \"%\")"
   ]
  },
  {
   "cell_type": "code",
   "execution_count": 170,
   "metadata": {},
   "outputs": [],
   "source": [
    "from sklearn.neighbors import KNeighborsClassifier\n",
    "\n",
    "# KNN\n",
    "knn = KNeighborsClassifier(n_neighbors = 3)\n",
    "knn.fit(train_transformed, train_labels)\n",
    "\n",
    "knn_prediction = knn.predict(test_transformed)"
   ]
  },
  {
   "cell_type": "code",
   "execution_count": 171,
   "metadata": {},
   "outputs": [
    {
     "name": "stdout",
     "output_type": "stream",
     "text": [
      "Training accuracy: 85.86 %\n",
      "Test accuracy: 81.3 %\n"
     ]
    }
   ],
   "source": [
    "acc_knn_train = round(knn.score(train_transformed, train_labels) * 100, 2)\n",
    "print('Training accuracy:', round(acc_knn_train,2,), \"%\")\n",
    "\n",
    "acc_knn_test = round(knn.score(test_transformed, test_labels) * 100, 2)\n",
    "print('Test accuracy:', round(acc_knn_test,2,), \"%\")"
   ]
  },
  {
   "cell_type": "code",
   "execution_count": 172,
   "metadata": {},
   "outputs": [],
   "source": [
    "from sklearn.svm import LinearSVC\n",
    "\n",
    "# Linear SVC\n",
    "linear_svc = LinearSVC(max_iter=10000)\n",
    "linear_svc.fit(train_transformed, train_labels)\n",
    "\n",
    "svc_prediction = linear_svc.predict(test_transformed)"
   ]
  },
  {
   "cell_type": "code",
   "execution_count": 173,
   "metadata": {},
   "outputs": [
    {
     "name": "stdout",
     "output_type": "stream",
     "text": [
      "Training accuracy: 80.32 %\n",
      "Test accuracy: 77.86 %\n"
     ]
    }
   ],
   "source": [
    "acc_linear_svc_train = round(linear_svc.score(train_transformed, train_labels) * 100, 2)\n",
    "print('Training accuracy:', round(acc_linear_svc_train,2,), \"%\")\n",
    "\n",
    "acc_linear_svc_test = round(linear_svc.score(test_transformed, test_labels) * 100, 2)\n",
    "print('Test accuracy:', round(acc_linear_svc_test,2,), \"%\")"
   ]
  },
  {
   "cell_type": "markdown",
   "metadata": {},
   "source": [
    "Compare all results on the test set."
   ]
  },
  {
   "cell_type": "code",
   "execution_count": 174,
   "metadata": {},
   "outputs": [
    {
     "data": {
      "text/html": [
       "<div>\n",
       "<style scoped>\n",
       "    .dataframe tbody tr th:only-of-type {\n",
       "        vertical-align: middle;\n",
       "    }\n",
       "\n",
       "    .dataframe tbody tr th {\n",
       "        vertical-align: top;\n",
       "    }\n",
       "\n",
       "    .dataframe thead th {\n",
       "        text-align: right;\n",
       "    }\n",
       "</style>\n",
       "<table border=\"1\" class=\"dataframe\">\n",
       "  <thead>\n",
       "    <tr style=\"text-align: right;\">\n",
       "      <th></th>\n",
       "      <th>Model</th>\n",
       "    </tr>\n",
       "    <tr>\n",
       "      <th>Score</th>\n",
       "      <th></th>\n",
       "    </tr>\n",
       "  </thead>\n",
       "  <tbody>\n",
       "    <tr>\n",
       "      <th>93.51</th>\n",
       "      <td>Random Forest</td>\n",
       "    </tr>\n",
       "    <tr>\n",
       "      <th>81.30</th>\n",
       "      <td>KNN</td>\n",
       "    </tr>\n",
       "    <tr>\n",
       "      <th>77.86</th>\n",
       "      <td>Support Vector Machines</td>\n",
       "    </tr>\n",
       "    <tr>\n",
       "      <th>77.86</th>\n",
       "      <td>Logistic Regression</td>\n",
       "    </tr>\n",
       "  </tbody>\n",
       "</table>\n",
       "</div>"
      ],
      "text/plain": [
       "                         Model\n",
       "Score                         \n",
       "93.51            Random Forest\n",
       "81.30                      KNN\n",
       "77.86  Support Vector Machines\n",
       "77.86      Logistic Regression"
      ]
     },
     "execution_count": 174,
     "metadata": {},
     "output_type": "execute_result"
    }
   ],
   "source": [
    "results = pd.DataFrame({\n",
    "    'Model': ['Support Vector Machines', 'KNN', 'Logistic Regression', \n",
    "              'Random Forest'],\n",
    "    'Score': [acc_linear_svc_test, acc_knn_test, acc_log_test, \n",
    "              acc_random_forest_test]})\n",
    "result_df = results.sort_values(by='Score', ascending=False)\n",
    "result_df = result_df.set_index('Score')\n",
    "result_df.head()\n"
   ]
  },
  {
   "cell_type": "markdown",
   "metadata": {},
   "source": [
    "Compare ROC Curves: This only works for models which can do soft classification. SVC doesn't naturally do that. "
   ]
  },
  {
   "cell_type": "code",
   "execution_count": 175,
   "metadata": {},
   "outputs": [
    {
     "name": "stdout",
     "output_type": "stream",
     "text": [
      "ROC-AUC LogisticRegression 0.84\n",
      "ROC-AUC RandomForestClassifier 0.97\n",
      "ROC-AUC KNeighborsClassifier 0.9\n"
     ]
    },
    {
     "data": {
      "image/png": "[encoded data removed]",
      "text/plain": [
       "<Figure size 1400x700 with 1 Axes>"
      ]
     },
     "metadata": {},
     "output_type": "display_data"
    }
   ],
   "source": [
    "plt.figure(figsize=(14, 7))\n",
    "for model in [logreg, random_forest, knn]:\n",
    "    y_scores = model.predict_proba(test_transformed)[:,1]\n",
    "    # compute true positive rate and false positive rate\n",
    "    false_positive_rate, true_positive_rate, thresholds = roc_curve(test_labels, y_scores, pos_label='1')\n",
    "    print('ROC-AUC', type(model).__name__, round(roc_auc_score(test_labels, y_scores),2))\n",
    "    plt.plot(false_positive_rate, true_positive_rate, linewidth=2, label=type(model).__name__)\n",
    "plt.axis([0, 1, 0, 1])\n",
    "plt.xlabel('False Positive Rate (FPR)', fontsize=16)\n",
    "plt.ylabel('True Positive Rate (TPR)', fontsize=16)\n",
    "plt.legend()\n",
    "plt.show()"
   ]
  },
  {
   "cell_type": "markdown",
   "metadata": {},
   "source": [
    "### Hyperparameter Tuning for Random Forests\n",
    "\n",
    "Random Forest Classifiers have several hyperparamters, which we want to tune. How?\n",
    "- first define a parameter grid. \n",
    "- create an object of the class of models you want to finetune. here: a RandomForestClassifier\n",
    "- create an object of the GridSearchCV-estimator with the above model as an estimator and the parameter grid\n",
    "- fit the latter\n",
    "- let the GridSearchCV-object return the best parameters. \n",
    "- define the model you want to work with as the `.best_estimator_`\n",
    "\n",
    "Attention: This might take a while longer than simply training one random forest classifier! For each point in the grid, one model is trained, i.e. in the example below we have 2x6x8x5=480 grid points, i.e. 480 models are trained and evaluated!"
   ]
  },
  {
   "cell_type": "code",
   "execution_count": 176,
   "metadata": {},
   "outputs": [
    {
     "name": "stderr",
     "output_type": "stream",
     "text": [
      "exception calling callback for <Future at 0x2df8b57f0 state=finished raised BrokenProcessPool>\n",
      "joblib.externals.loky.process_executor._RemoteTraceback: \n",
      "\"\"\"\n",
      "Traceback (most recent call last):\n",
      "  File \"/opt/homebrew/anaconda3/envs/ml/lib/python3.9/site-packages/joblib/externals/loky/process_executor.py\", line 426, in _process_worker\n",
      "    call_item = call_queue.get(block=True, timeout=timeout)\n",
      "  File \"/opt/homebrew/anaconda3/envs/ml/lib/python3.9/multiprocessing/queues.py\", line 122, in get\n",
      "    return _ForkingPickler.loads(res)\n",
      "AttributeError: Can't get attribute 'SafeFunction' on <module 'joblib._parallel_backends' from '/opt/homebrew/anaconda3/envs/ml/lib/python3.9/site-packages/joblib/_parallel_backends.py'>\n",
      "\"\"\"\n",
      "\n",
      "The above exception was the direct cause of the following exception:\n",
      "\n",
      "Traceback (most recent call last):\n",
      "  File \"/opt/homebrew/anaconda3/envs/ml/lib/python3.9/site-packages/joblib/externals/loky/_base.py\", line 625, in _invoke_callbacks\n",
      "  File \"/opt/homebrew/anaconda3/envs/ml/lib/python3.9/site-packages/joblib/parallel.py\", line 359, in __call__\n",
      "    *,\n",
      "  File \"/opt/homebrew/anaconda3/envs/ml/lib/python3.9/site-packages/joblib/parallel.py\", line 794, in dispatch_next\n",
      "  File \"/opt/homebrew/anaconda3/envs/ml/lib/python3.9/site-packages/joblib/parallel.py\", line 861, in dispatch_one_batch\n",
      "    return outcome['status'] != TASK_ERROR\n",
      "  File \"/opt/homebrew/anaconda3/envs/ml/lib/python3.9/site-packages/joblib/parallel.py\", line 779, in _dispatch\n",
      "    now = time.time()\n",
      "  File \"/opt/homebrew/anaconda3/envs/ml/lib/python3.9/site-packages/joblib/_parallel_backends.py\", line 531, in apply_async\n",
      "    idle_worker_timeout=300, **memmappingexecutor_args):\n",
      "  File \"/opt/homebrew/anaconda3/envs/ml/lib/python3.9/site-packages/joblib/externals/loky/reusable_executor.py\", line 177, in submit\n",
      "    mp.util.debug(\n",
      "  File \"/opt/homebrew/anaconda3/envs/ml/lib/python3.9/site-packages/joblib/externals/loky/process_executor.py\", line 1115, in submit\n",
      "    # of the main loop of executor_manager_thread from another thread (e.g.\n",
      "joblib.externals.loky.process_executor.BrokenProcessPool: A task has failed to un-serialize. Please ensure that the arguments of the function are all picklable.\n"
     ]
    },
    {
     "name": "stdout",
     "output_type": "stream",
     "text": [
      "Unexpected exception formatting exception. Falling back to standard exception\n"
     ]
    },
    {
     "name": "stderr",
     "output_type": "stream",
     "text": [
      "joblib.externals.loky.process_executor._RemoteTraceback: \n",
      "\"\"\"\n",
      "Traceback (most recent call last):\n",
      "  File \"/opt/homebrew/anaconda3/envs/ml/lib/python3.9/site-packages/joblib/externals/loky/process_executor.py\", line 426, in _process_worker\n",
      "    call_item = call_queue.get(block=True, timeout=timeout)\n",
      "  File \"/opt/homebrew/anaconda3/envs/ml/lib/python3.9/multiprocessing/queues.py\", line 122, in get\n",
      "    return _ForkingPickler.loads(res)\n",
      "AttributeError: Can't get attribute 'SafeFunction' on <module 'joblib._parallel_backends' from '/opt/homebrew/anaconda3/envs/ml/lib/python3.9/site-packages/joblib/_parallel_backends.py'>\n",
      "\"\"\"\n",
      "\n",
      "The above exception was the direct cause of the following exception:\n",
      "\n",
      "Traceback (most recent call last):\n",
      "  File \"/opt/homebrew/anaconda3/envs/ml/lib/python3.9/site-packages/IPython/core/interactiveshell.py\", line 3526, in run_code\n",
      "    exec(code_obj, self.user_global_ns, self.user_ns)\n",
      "  File \"/var/folders/q9/pzd7t_6s2vj1dd9v3l9w99zr0000gq/T/ipykernel_73709/4061602153.py\", line 9, in <module>\n",
      "    clf.fit(train_transformed, train_labels)\n",
      "  File \"/opt/homebrew/anaconda3/envs/ml/lib/python3.9/site-packages/sklearn/model_selection/_search.py\", line 891, in fit\n",
      "    self._run_search(evaluate_candidates)\n",
      "  File \"/opt/homebrew/anaconda3/envs/ml/lib/python3.9/site-packages/sklearn/model_selection/_search.py\", line 1392, in _run_search\n",
      "    evaluate_candidates(ParameterGrid(self.param_grid))\n",
      "  File \"/opt/homebrew/anaconda3/envs/ml/lib/python3.9/site-packages/sklearn/model_selection/_search.py\", line 838, in evaluate_candidates\n",
      "    out = parallel(\n",
      "  File \"/opt/homebrew/anaconda3/envs/ml/lib/python3.9/site-packages/joblib/parallel.py\", line 1056, in __call__\n",
      "    RAM disk filesystem available by default on modern Linux\n",
      "  File \"/opt/homebrew/anaconda3/envs/ml/lib/python3.9/site-packages/joblib/parallel.py\", line 935, in retrieve\n",
      "    \"\"\"\n",
      "  File \"/opt/homebrew/anaconda3/envs/ml/lib/python3.9/site-packages/joblib/_parallel_backends.py\", line 542, in wrap_future_result\n",
      "    self.parallel = parallel\n",
      "  File \"/opt/homebrew/anaconda3/envs/ml/lib/python3.9/concurrent/futures/_base.py\", line 446, in result\n",
      "    return self.__get_result()\n",
      "  File \"/opt/homebrew/anaconda3/envs/ml/lib/python3.9/concurrent/futures/_base.py\", line 391, in __get_result\n",
      "    raise self._exception\n",
      "  File \"/opt/homebrew/anaconda3/envs/ml/lib/python3.9/site-packages/joblib/externals/loky/_base.py\", line 625, in _invoke_callbacks\n",
      "  File \"/opt/homebrew/anaconda3/envs/ml/lib/python3.9/site-packages/joblib/parallel.py\", line 359, in __call__\n",
      "    *,\n",
      "  File \"/opt/homebrew/anaconda3/envs/ml/lib/python3.9/site-packages/joblib/parallel.py\", line 794, in dispatch_next\n",
      "  File \"/opt/homebrew/anaconda3/envs/ml/lib/python3.9/site-packages/joblib/parallel.py\", line 861, in dispatch_one_batch\n",
      "    return outcome['status'] != TASK_ERROR\n",
      "  File \"/opt/homebrew/anaconda3/envs/ml/lib/python3.9/site-packages/joblib/parallel.py\", line 779, in _dispatch\n",
      "    now = time.time()\n",
      "  File \"/opt/homebrew/anaconda3/envs/ml/lib/python3.9/site-packages/joblib/_parallel_backends.py\", line 531, in apply_async\n",
      "    idle_worker_timeout=300, **memmappingexecutor_args):\n",
      "  File \"/opt/homebrew/anaconda3/envs/ml/lib/python3.9/site-packages/joblib/externals/loky/reusable_executor.py\", line 177, in submit\n",
      "    mp.util.debug(\n",
      "  File \"/opt/homebrew/anaconda3/envs/ml/lib/python3.9/site-packages/joblib/externals/loky/process_executor.py\", line 1115, in submit\n",
      "    # of the main loop of executor_manager_thread from another thread (e.g.\n",
      "joblib.externals.loky.process_executor.BrokenProcessPool: A task has failed to un-serialize. Please ensure that the arguments of the function are all picklable.\n",
      "\n",
      "During handling of the above exception, another exception occurred:\n",
      "\n",
      "Traceback (most recent call last):\n",
      "  File \"/opt/homebrew/anaconda3/envs/ml/lib/python3.9/site-packages/IPython/core/interactiveshell.py\", line 2120, in showtraceback\n",
      "    stb = self.InteractiveTB.structured_traceback(\n",
      "  File \"/opt/homebrew/anaconda3/envs/ml/lib/python3.9/site-packages/IPython/core/ultratb.py\", line 1435, in structured_traceback\n",
      "    return FormattedTB.structured_traceback(\n",
      "  File \"/opt/homebrew/anaconda3/envs/ml/lib/python3.9/site-packages/IPython/core/ultratb.py\", line 1326, in structured_traceback\n",
      "    return VerboseTB.structured_traceback(\n",
      "  File \"/opt/homebrew/anaconda3/envs/ml/lib/python3.9/site-packages/IPython/core/ultratb.py\", line 1173, in structured_traceback\n",
      "    formatted_exception = self.format_exception_as_a_whole(etype, evalue, etb, number_of_lines_of_context,\n",
      "  File \"/opt/homebrew/anaconda3/envs/ml/lib/python3.9/site-packages/IPython/core/ultratb.py\", line 1088, in format_exception_as_a_whole\n",
      "    frames.append(self.format_record(record))\n",
      "  File \"/opt/homebrew/anaconda3/envs/ml/lib/python3.9/site-packages/IPython/core/ultratb.py\", line 970, in format_record\n",
      "    frame_info.lines, Colors, self.has_colors, lvals\n",
      "  File \"/opt/homebrew/anaconda3/envs/ml/lib/python3.9/site-packages/IPython/core/ultratb.py\", line 792, in lines\n",
      "    return self._sd.lines\n",
      "  File \"/opt/homebrew/anaconda3/envs/ml/lib/python3.9/site-packages/stack_data/utils.py\", line 145, in cached_property_wrapper\n",
      "    value = obj.__dict__[self.func.__name__] = self.func(obj)\n",
      "  File \"/opt/homebrew/anaconda3/envs/ml/lib/python3.9/site-packages/stack_data/core.py\", line 698, in lines\n",
      "    pieces = self.included_pieces\n",
      "  File \"/opt/homebrew/anaconda3/envs/ml/lib/python3.9/site-packages/stack_data/utils.py\", line 145, in cached_property_wrapper\n",
      "    value = obj.__dict__[self.func.__name__] = self.func(obj)\n",
      "  File \"/opt/homebrew/anaconda3/envs/ml/lib/python3.9/site-packages/stack_data/core.py\", line 649, in included_pieces\n",
      "    pos = scope_pieces.index(self.executing_piece)\n",
      "  File \"/opt/homebrew/anaconda3/envs/ml/lib/python3.9/site-packages/stack_data/utils.py\", line 145, in cached_property_wrapper\n",
      "    value = obj.__dict__[self.func.__name__] = self.func(obj)\n",
      "  File \"/opt/homebrew/anaconda3/envs/ml/lib/python3.9/site-packages/stack_data/core.py\", line 628, in executing_piece\n",
      "    return only(\n",
      "  File \"/opt/homebrew/anaconda3/envs/ml/lib/python3.9/site-packages/executing/executing.py\", line 164, in only\n",
      "    raise NotOneValueFound('Expected one value, found 0')\n",
      "executing.executing.NotOneValueFound: Expected one value, found 0\n"
     ]
    }
   ],
   "source": [
    "from sklearn.model_selection import GridSearchCV, cross_val_score\n",
    "\n",
    "param_grid = { \"criterion\" : [\"gini\", \"entropy\"], \"min_samples_leaf\" : [1, 5, 10, 25, 50, 70], \"min_samples_split\" : [2, 4, 10, 12, 16, 18, 25, 35], \"n_estimators\": [100, 400, 700, 1000, 1500]}\n",
    "\n",
    "rf = RandomForestClassifier(n_estimators=100, max_features='auto', oob_score=True, random_state=1, n_jobs=-1)\n",
    "\n",
    "clf = GridSearchCV(estimator=rf, param_grid=param_grid, n_jobs=-1)\n",
    "\n",
    "clf.fit(train_transformed, train_labels)\n",
    "\n",
    "clf.best_params_\n",
    "\n",
    "best_rf = clf.best_estimator_"
   ]
  },
  {
   "cell_type": "markdown",
   "metadata": {},
   "source": [
    "Compute the accuracy of this best model and compare it to the old random forest model:"
   ]
  },
  {
   "cell_type": "code",
   "execution_count": null,
   "metadata": {},
   "outputs": [
    {
     "name": "stdout",
     "output_type": "stream",
     "text": [
      "Tuned model accuracy: 82.82\n",
      "Old model accuracy: 79.39\n"
     ]
    }
   ],
   "source": [
    "print('Tuned model accuracy:', round(best_rf.score(test_transformed, test_labels) * 100, 2))\n",
    "print('Old model accuracy:', round(random_forest.score(test_transformed, test_labels) * 100, 2))"
   ]
  }
 ],
 "metadata": {
  "kernelspec": {
   "display_name": "Python 3",
   "language": "python",
   "name": "python3"
  },
  "language_info": {
   "codemirror_mode": {
    "name": "ipython",
    "version": 3
   },
   "file_extension": ".py",
   "mimetype": "text/x-python",
   "name": "python",
   "nbconvert_exporter": "python",
   "pygments_lexer": "ipython3",
   "version": "3.11.9"
  },
  "orig_nbformat": 4
 },
 "nbformat": 4,
 "nbformat_minor": 2
}
