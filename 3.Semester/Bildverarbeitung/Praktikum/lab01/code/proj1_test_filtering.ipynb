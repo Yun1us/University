{
 "cells": [
  {
   "cell_type": "markdown",
   "metadata": {},
   "source": [
    "# Test Filtering\n",
    "\n",
    "This script has test cases to help you test `my_imfilter()`, which you will write. You should verify that you get reasonable output here before using your filtering to construct a hybrid image in `proj1.m`. The outputs are all saved and you can include them in your writeup. \n",
    "\n",
    "## Setup"
   ]
  },
  {
   "cell_type": "code",
   "execution_count": 3,
   "metadata": {},
   "outputs": [],
   "source": [
    "import numpy as np\n",
    "import matplotlib.pyplot as plt\n",
    "%matplotlib inline\n",
    "from utils import load_image, save_image, PIL_resize\n",
    "from part1 import my_imfilter\n",
    "\n",
    "\n",
    "test_image = load_image('../data/1b_cat.bmp')\n",
    "original_height = test_image.shape[0]\n",
    "original_width = test_image.shape[1]\n",
    "test_image = PIL_resize(test_image, (int(0.7*original_width), int(0.7*original_height)))"
   ]
  },
  {
   "cell_type": "code",
   "execution_count": null,
   "metadata": {},
   "outputs": [],
   "source": []
  },
  {
   "cell_type": "markdown",
   "metadata": {},
   "source": [
    "## Identity filter\n",
    "This filter should do nothing regardless of the padding method you use."
   ]
  },
  {
   "cell_type": "code",
   "execution_count": 5,
   "metadata": {},
   "outputs": [
    {
     "ename": "NotImplementedError",
     "evalue": "`my_imfilter` function in `student_code.py` needs to be implemented",
     "output_type": "error",
     "traceback": [
      "\u001b[0;31m---------------------------------------------------------------------------\u001b[0m",
      "\u001b[0;31mNotImplementedError\u001b[0m                       Traceback (most recent call last)",
      "Cell \u001b[0;32mIn[5], line 2\u001b[0m\n\u001b[1;32m      1\u001b[0m identity_filter \u001b[38;5;241m=\u001b[39m np\u001b[38;5;241m.\u001b[39masarray([[\u001b[38;5;241m0\u001b[39m, \u001b[38;5;241m0\u001b[39m, \u001b[38;5;241m0\u001b[39m], [\u001b[38;5;241m0\u001b[39m, \u001b[38;5;241m1\u001b[39m, \u001b[38;5;241m0\u001b[39m], [\u001b[38;5;241m0\u001b[39m, \u001b[38;5;241m0\u001b[39m, \u001b[38;5;241m0\u001b[39m]])\n\u001b[0;32m----> 2\u001b[0m identity_image \u001b[38;5;241m=\u001b[39m \u001b[43mmy_imfilter\u001b[49m\u001b[43m(\u001b[49m\u001b[43mtest_image\u001b[49m\u001b[43m,\u001b[49m\u001b[43m \u001b[49m\u001b[43midentity_filter\u001b[49m\u001b[43m)\u001b[49m\n\u001b[1;32m      3\u001b[0m plt\u001b[38;5;241m.\u001b[39mimshow(identity_image)\n\u001b[1;32m      4\u001b[0m done \u001b[38;5;241m=\u001b[39m save_image(\u001b[38;5;124m'\u001b[39m\u001b[38;5;124m../results/part1/identity_image.jpg\u001b[39m\u001b[38;5;124m'\u001b[39m, identity_image)\n",
      "File \u001b[0;32m~/University/3.Semester/Bildverarbeitung/Praktikum/lab01/code/part1.py:66\u001b[0m, in \u001b[0;36mmy_imfilter\u001b[0;34m(image, filter)\u001b[0m\n\u001b[1;32m     61\u001b[0m \u001b[38;5;28;01massert\u001b[39;00m \u001b[38;5;28mfilter\u001b[39m\u001b[38;5;241m.\u001b[39mshape[\u001b[38;5;241m1\u001b[39m] \u001b[38;5;241m%\u001b[39m \u001b[38;5;241m2\u001b[39m \u001b[38;5;241m==\u001b[39m \u001b[38;5;241m1\u001b[39m\n\u001b[1;32m     63\u001b[0m \u001b[38;5;66;03m############################\u001b[39;00m\n\u001b[1;32m     64\u001b[0m \u001b[38;5;66;03m### TODO: YOUR CODE HERE ###\u001b[39;00m\n\u001b[0;32m---> 66\u001b[0m \u001b[38;5;28;01mraise\u001b[39;00m \u001b[38;5;167;01mNotImplementedError\u001b[39;00m(\u001b[38;5;124m'\u001b[39m\u001b[38;5;124m`my_imfilter` function in `student_code.py` \u001b[39m\u001b[38;5;124m'\u001b[39m \u001b[38;5;241m+\u001b[39m\n\u001b[1;32m     67\u001b[0m   \u001b[38;5;124m'\u001b[39m\u001b[38;5;124mneeds to be implemented\u001b[39m\u001b[38;5;124m'\u001b[39m)\n\u001b[1;32m     69\u001b[0m \u001b[38;5;66;03m### END OF STUDENT CODE ####\u001b[39;00m\n\u001b[1;32m     70\u001b[0m \u001b[38;5;66;03m############################\u001b[39;00m\n\u001b[1;32m     72\u001b[0m \u001b[38;5;28;01mreturn\u001b[39;00m filtered_image\n",
      "\u001b[0;31mNotImplementedError\u001b[0m: `my_imfilter` function in `student_code.py` needs to be implemented"
     ]
    }
   ],
   "source": [
    "identity_filter = np.asarray([[0, 0, 0], [0, 1, 0], [0, 0, 0]])\n",
    "identity_image = my_imfilter(test_image, identity_filter)\n",
    "plt.imshow(identity_image)\n",
    "done = save_image('../results/part1/identity_image.jpg', identity_image)"
   ]
  },
  {
   "cell_type": "markdown",
   "metadata": {},
   "source": [
    "## Small blur with a box filter\n",
    "This filter should remove some high frequencies."
   ]
  },
  {
   "cell_type": "code",
   "execution_count": null,
   "metadata": {},
   "outputs": [],
   "source": [
    "blur_filter = np.ones((3, 3))\n",
    "blur_filter /= np.sum(blur_filter)  # making the filter sum to 1\n",
    "blur_image = my_imfilter(test_image, blur_filter)\n",
    "plt.imshow(blur_image)\n",
    "done = save_image('../results/part1/blur_image.jpg', blur_image)"
   ]
  },
  {
   "cell_type": "markdown",
   "metadata": {},
   "source": [
    "## Oriented filter (Sobel operator)"
   ]
  },
  {
   "cell_type": "code",
   "execution_count": null,
   "metadata": {},
   "outputs": [],
   "source": [
    "sobel_filter = np.asarray([[-1, 0, 1], [-2, 0, 2], [-1, 0, 1]])  # should respond to horizontal gradients\n",
    "sobel_image = my_imfilter(test_image, sobel_filter)\n",
    "\n",
    "# 0.5 added because the output image is centered around zero otherwise and mostly black\n",
    "sobel_image = np.clip(sobel_image+0.5, 0.0, 1.0)\n",
    "plt.imshow(sobel_image)\n",
    "done = save_image('../results/part1/sobel_image.jpg', sobel_image)"
   ]
  },
  {
   "cell_type": "markdown",
   "metadata": {},
   "source": [
    "## High pass filter (discrete Laplacian)"
   ]
  },
  {
   "cell_type": "code",
   "execution_count": null,
   "metadata": {},
   "outputs": [],
   "source": [
    "laplacian_filter = np.asarray([[0, 1, 0], [1, -4, 1], [0, 1, 0]])\n",
    "laplacian_image = my_imfilter(test_image, laplacian_filter)\n",
    "\n",
    "# added because the output image is centered around zero otherwise and mostly black\n",
    "laplacian_image = np.clip(laplacian_image+0.5, 0.0, 1.0)\n",
    "plt.figure(); plt.imshow(laplacian_image)\n",
    "done = save_image('../results/part1/laplacian_image.jpg', laplacian_image)\n",
    "\n",
    "# High pass \"filter\" alternative\n",
    "high_pass_image = test_image - blur_image\n",
    "high_pass_image = np.clip(high_pass_image+0.5, 0.0, 1.0)\n",
    "plt.figure(); plt.imshow(high_pass_image)\n",
    "done = save_image('../results/part1/high_pass_image.jpg', high_pass_image)"
   ]
  },
  {
   "cell_type": "code",
   "execution_count": null,
   "metadata": {},
   "outputs": [],
   "source": []
  }
 ],
 "metadata": {
  "kernelspec": {
   "display_name": "base",
   "language": "python",
   "name": "python3"
  },
  "language_info": {
   "codemirror_mode": {
    "name": "ipython",
    "version": 3
   },
   "file_extension": ".py",
   "mimetype": "text/x-python",
   "name": "python",
   "nbconvert_exporter": "python",
   "pygments_lexer": "ipython3",
   "version": "3.10.12"
  },
  "widgets": {
   "state": {},
   "version": "1.1.2"
  }
 },
 "nbformat": 4,
 "nbformat_minor": 2
}
