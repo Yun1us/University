{
 "cells": [
  {
   "cell_type": "code",
   "execution_count": null,
   "metadata": {},
   "outputs": [],
   "source": [
    "def binary_search(target, L):\n",
    "    if len(L) <= 1:\n",
    "        if L[0] == target:\n",
    "            return True \n",
    "        else:\n",
    "            return False \n",
    "        \n",
    "    mid = len(L) // 2\n",
    "\n",
    "    if L[mid] == target:\n",
    "        return True \n",
    "    \n",
    "    if target < L[mid]:\n",
    "        return binary_search(target, L[:mid])\n",
    "    if target > L[mid]:\n",
    "        return binary_search(target, L[mid+1:]) "
   ]
  },
  {
   "cell_type": "code",
   "execution_count": null,
   "metadata": {},
   "outputs": [],
   "source": [
    "def find_book(target_id, ids):\n",
    "    # Base case: if the list is empty, the target is not found\n",
    "    if len(ids) == 0:\n",
    "        return False\n",
    "    \n",
    "    # Find the middle index\n",
    "    mid = len(ids) // 2\n",
    "    \n",
    "    # If the middle element is the target, we've found the book\n",
    "    if ids[mid] == target_id:\n",
    "        return True\n",
    "    # If the target is less than the middle element, search the left half\n",
    "    elif target_id < ids[mid]:\n",
    "        return find_book(target_id, ids[:mid])\n",
    "    # If the target is greater than the middle element, search the right half\n",
    "    else:\n",
    "        return find_book(target_id, ids[mid+1:])\n",
    "\n",
    "# Testing the function with the provided example\n",
    "book_ids = [102, 348, 401, 678, 789, 850, 951, 1024, 1208, 1350, 1501]\n",
    "\n",
    "# Should return True\n",
    "result1 = find_book(678, book_ids)\n",
    "\n",
    "# Should return False\n",
    "result2 = find_book(700, book_ids)\n",
    "\n",
    "print(result1)  # Output: True\n",
    "print(result2)  # Output: False"
   ]
  },
  {
   "cell_type": "code",
   "execution_count": null,
   "metadata": {},
   "outputs": [],
   "source": [
    "\n",
    "def unsorted_list(L, elem):\n",
    "    for item in L:\n",
    "        if item == elem:\n",
    "            return True \n",
    "    return False \n",
    "\n",
    "L =  [1,4,6,2,3,1]\n",
    "unsorted_list(L,3)\n"
   ]
  },
  {
   "cell_type": "code",
   "execution_count": null,
   "metadata": {},
   "outputs": [],
   "source": [
    "def sorted_list(e, l):\n",
    "    if len(l) == 1:\n",
    "        if l[0] == e:\n",
    "            return True\n",
    "        else:\n",
    "            return False \n",
    "    i = len(l) // 2 \n",
    "    if e > l[i]:\n",
    "        return sorted_list(e, l[i+1:]) \n",
    "    elif e == l[i]:\n",
    "        return True \n",
    "    elif e < l[i]:\n",
    "        return sorted_list(e, l[:i])  \n",
    "sorted_list(3, [1,3,4,5,6,7,66,77,88])"
   ]
  },
  {
   "cell_type": "code",
   "execution_count": 2,
   "metadata": {},
   "outputs": [
    {
     "name": "stdout",
     "output_type": "stream",
     "text": [
      "1\n"
     ]
    }
   ],
   "source": [
    "print(151 % 2) "
   ]
  }
 ],
 "metadata": {
  "kernelspec": {
   "display_name": "Python 3",
   "language": "python",
   "name": "python3"
  },
  "language_info": {
   "codemirror_mode": {
    "name": "ipython",
    "version": 3
   },
   "file_extension": ".py",
   "mimetype": "text/x-python",
   "name": "python",
   "nbconvert_exporter": "python",
   "pygments_lexer": "ipython3",
   "version": "3.10.12"
  }
 },
 "nbformat": 4,
 "nbformat_minor": 2
}
