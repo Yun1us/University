{
 "cells": [
  {
   "cell_type": "code",
   "execution_count": null,
   "metadata": {},
   "outputs": [],
   "source": [
    "def binary_search(target, L):\n",
    "    if len(L) <= 1:\n",
    "        if L[0] == target:\n",
    "            return True \n",
    "        else:\n",
    "            return False \n",
    "        \n",
    "    mid = len(L) // 2\n",
    "\n",
    "    if L[mid] == target:\n",
    "        return True \n",
    "    \n",
    "    if target < L[mid]:\n",
    "        return binary_search(target, L[:mid])\n",
    "    if target > L[mid]:\n",
    "        return binary_search(target, L[mid+1:]) "
   ]
  },
  {
   "cell_type": "code",
   "execution_count": null,
   "metadata": {},
   "outputs": [],
   "source": [
    "def find_book(target_id, ids):\n",
    "    # Base case: if the list is empty, the target is not found\n",
    "    if len(ids) == 0:\n",
    "        return False\n",
    "    \n",
    "    # Find the middle index\n",
    "    mid = len(ids) // 2\n",
    "    \n",
    "    # If the middle element is the target, we've found the book\n",
    "    if ids[mid] == target_id:\n",
    "        return True\n",
    "    # If the target is less than the middle element, search the left half\n",
    "    elif target_id < ids[mid]:\n",
    "        return find_book(target_id, ids[:mid])\n",
    "    # If the target is greater than the middle element, search the right half\n",
    "    else:\n",
    "        return find_book(target_id, ids[mid+1:])\n",
    "\n",
    "# Testing the function with the provided example\n",
    "book_ids = [102, 348, 401, 678, 789, 850, 951, 1024, 1208, 1350, 1501]\n",
    "\n",
    "# Should return True\n",
    "result1 = find_book(678, book_ids)\n",
    "\n",
    "# Should return False\n",
    "result2 = find_book(700, book_ids)\n",
    "\n",
    "print(result1)  # Output: True\n",
    "print(result2)  # Output: False"
   ]
  },
  {
   "cell_type": "code",
   "execution_count": null,
   "metadata": {},
   "outputs": [],
   "source": [
    "\n",
    "def unsorted_list(L, elem):\n",
    "    for item in L:\n",
    "        if item == elem:\n",
    "            return True \n",
    "    return False \n",
    "\n",
    "L =  [1,4,6,2,3,1]\n",
    "unsorted_list(L,3)\n"
   ]
  },
  {
   "cell_type": "code",
   "execution_count": null,
   "metadata": {},
   "outputs": [],
   "source": [
    "def sorted_list(e, l):\n",
    "    if len(l) == 1:\n",
    "        if l[0] == e:\n",
    "            return True\n",
    "        else:\n",
    "            return False \n",
    "    i = len(l) // 2 \n",
    "    if e > l[i]:\n",
    "        return sorted_list(e, l[i+1:]) \n",
    "    elif e == l[i]:\n",
    "        return True \n",
    "    elif e < l[i]:\n",
    "        return sorted_list(e, l[:i])  \n",
    "sorted_list(3, [1,3,4,5,6,7,66,77,88])"
   ]
  },
  {
   "cell_type": "code",
   "execution_count": 2,
   "metadata": {},
   "outputs": [
    {
     "name": "stdout",
     "output_type": "stream",
     "text": [
      "1\n"
     ]
    }
   ],
   "source": [
    "print(151 % 2) "
   ]
  },
  {
   "cell_type": "code",
   "execution_count": 6,
   "metadata": {},
   "outputs": [
    {
     "name": "stdout",
     "output_type": "stream",
     "text": [
      "**********************************************************************\n",
      "File \"__main__\", line 6, in __main__.setKthDigit\n",
      "Failed example:\n",
      "    setKthDigit(468, 0, 1)\n",
      "Expected:\n",
      "    461\n",
      "Got:\n",
      "    468\n",
      "**********************************************************************\n",
      "File \"__main__\", line 8, in __main__.setKthDigit\n",
      "Failed example:\n",
      "    setKthDigit(468, 1, 1)\n",
      "Expected:\n",
      "    418\n",
      "Got:\n",
      "    468\n",
      "**********************************************************************\n",
      "File \"__main__\", line 10, in __main__.setKthDigit\n",
      "Failed example:\n",
      "    setKthDigit(468, 2, 1)\n",
      "Expected:\n",
      "    168\n",
      "Got:\n",
      "    468\n",
      "**********************************************************************\n",
      "File \"__main__\", line 12, in __main__.setKthDigit\n",
      "Failed example:\n",
      "    setKthDigit(468, 3, 1)\n",
      "Expected:\n",
      "    1468\n",
      "Got:\n",
      "    468\n",
      "**********************************************************************\n",
      "1 items had failures:\n",
      "   4 of   4 in __main__.setKthDigit\n",
      "***Test Failed*** 4 failures.\n"
     ]
    },
    {
     "data": {
      "text/plain": [
       "TestResults(failed=4, attempted=4)"
      ]
     },
     "execution_count": 6,
     "metadata": {},
     "output_type": "execute_result"
    }
   ],
   "source": [
    "def setKthDigit(n, k, d):\n",
    "    \"\"\"\n",
    "    n is an integer, k is a non-negative integer and d is non-negative single digit (0 = d = 9). \n",
    "    Return the number n with the kth digit replaced with d. \n",
    "\n",
    "    >>> setKthDigit(468, 0, 1)\n",
    "    461\n",
    "    >>> setKthDigit(468, 1, 1)\n",
    "    418\n",
    "    >>> setKthDigit(468, 2, 1)\n",
    "    168\n",
    "    >>> setKthDigit(468, 3, 1)\n",
    "    1468\n",
    "    \"\"\"\n",
    "    lst = list(str(n))\n",
    "    for i in lst[::-1]: \n",
    "        if i == k:\n",
    "            lst[i] = str(d)\n",
    "    for i in lst:\n",
    "        print(i, end=\"\")\n",
    "\n",
    "import doctest\n",
    "doctest.testmod()\n",
    "            "
   ]
  },
  {
   "cell_type": "code",
   "execution_count": 19,
   "metadata": {},
   "outputs": [
    {
     "data": {
      "text/plain": [
       "TestResults(failed=0, attempted=7)"
      ]
     },
     "execution_count": 19,
     "metadata": {},
     "output_type": "execute_result"
    }
   ],
   "source": [
    "def remove_odd_indices(lst, odd, weight):\n",
    "    \"\"\"\n",
    "    lst is a list, odd is a boolean. Return a new list with elements from ls\n",
    "    removed at certain indices: If odd is True, remove elements at odd indic\n",
    "    otherwise remove even indexed elements. The remaining elements are\n",
    "    multiplied by weight.\n",
    "    >>> s = [1, 2, 3, 4]\n",
    "    >>> t = remove_odd_indices(s, True, 1)\n",
    "    >>> s\n",
    "    [1, 2, 3, 4]\n",
    "    >>> t\n",
    "    [1, 3]\n",
    "    >>> l = [5, 6, 7, 8]\n",
    "    >>> m = remove_odd_indices(l, False, 4)\n",
    "    >>> m\n",
    "    [24, 32]\n",
    "    \"\"\"\n",
    "    result = []\n",
    "    if odd:\n",
    "        new_lst = lst[0::2]\n",
    "    else:\n",
    "        new_lst = lst[1::2]\n",
    "    \n",
    "    for elem in new_lst:\n",
    "        result.append(elem * weight)\n",
    "    return result \n",
    "\n",
    "\n",
    "import doctest\n",
    "doctest.testmod()"
   ]
  },
  {
   "cell_type": "code",
   "execution_count": 1,
   "metadata": {},
   "outputs": [
    {
     "data": {
      "text/plain": [
       "TestResults(failed=0, attempted=4)"
      ]
     },
     "execution_count": 1,
     "metadata": {},
     "output_type": "execute_result"
    }
   ],
   "source": [
    "def merge(lst1, lst2):\n",
    "\n",
    "    \"\"\"Merges two sorted lists, lst1 and lst2. The new list contains all\n",
    "    elements in sorted order.\n",
    "    >>> merge([1, 3, 5], [2, 4, 6])\n",
    "    [1, 2, 3, 4, 5, 6]\n",
    "    >>> merge([], [2, 4, 6])\n",
    "    [2, 4, 6]\n",
    "    >>> merge([1, 2, 3], [])\n",
    "    [1, 2, 3]\n",
    "    >>> merge([5, 7], [2, 4, 6])\n",
    "    [2, 4, 5, 6, 7]\n",
    "    \"\"\"\n",
    "    new_list = lst1 + lst2 \n",
    "    return sorted(new_list)\n",
    "\n",
    "import doctest\n",
    "doctest.testmod()"
   ]
  },
  {
   "cell_type": "code",
   "execution_count": 11,
   "metadata": {},
   "outputs": [
    {
     "data": {
      "text/plain": [
       "TestResults(failed=0, attempted=2)"
      ]
     },
     "execution_count": 11,
     "metadata": {},
     "output_type": "execute_result"
    }
   ],
   "source": [
    "def alternatingSum(lst):\n",
    "\n",
    "    \"\"\"\n",
    "    Return the alternating sum of the integer or float elements\n",
    "    in the list lst. An alternating sum of a sequence is a sum\n",
    "    where the sign alternates from positive to negative or\n",
    "    vice versa.\n",
    "    >>> alternatingSum([5, 3, 8, 4])\n",
    "    6\n",
    "    >>> alternatingSum([])\n",
    "    0\n",
    "    >>> alternatingSum([1,2,3,4,5,6,7,8,9,10])\n",
    "    \n",
    "    \"\"\"\n",
    "    result = 0\n",
    "    for x in range(len(lst)):\n",
    "        if x % 2 == 0:\n",
    "            result += lst[x] \n",
    "        else:\n",
    "            result -= lst[x]\n",
    "\n",
    "    return result\n",
    "import doctest\n",
    "doctest.testmod()"
   ]
  },
  {
   "cell_type": "code",
   "execution_count": 1,
   "metadata": {},
   "outputs": [
    {
     "data": {
      "text/plain": [
       "TestResults(failed=0, attempted=3)"
      ]
     },
     "execution_count": 1,
     "metadata": {},
     "output_type": "execute_result"
    }
   ],
   "source": [
    "def is_anagram(s1, s2):\n",
    "\n",
    "    \"\"\"\n",
    "    Decide whether a string s1 and a string s2 are anagrams.\n",
    "    Use only lists in your solution.\n",
    "    >>> is_anagram(\"\", \"\")\n",
    "    True\n",
    "    >>> is_anagram(\"abCdabCd\", \"abcdabcd\")\n",
    "    True\n",
    "    >>> is_anagram(\"abcdaabcd\", \"aabbcddcb\")\n",
    "    False\n",
    "    \"\"\"\n",
    "    if s1.lower() == s2.lower():\n",
    "        return True \n",
    "    else:\n",
    "        return False \n",
    "    \n",
    "import doctest\n",
    "doctest.testmod()"
   ]
  },
  {
   "cell_type": "code",
   "execution_count": 1,
   "metadata": {},
   "outputs": [
    {
     "data": {
      "text/plain": [
       "TestResults(failed=0, attempted=2)"
      ]
     },
     "execution_count": 1,
     "metadata": {},
     "output_type": "execute_result"
    }
   ],
   "source": [
    "def rotateStringLeft(s, n):\n",
    "\n",
    "    \"\"\"\n",
    "    The function takes a string s and a possibly-negative integer n.\n",
    "    If n is non-negative, the function returns the string s rotated\n",
    "    n places to the left. If n is negative, the function returns\n",
    "    the string s rotated |n| places to the right.\n",
    "    >>> rotateStringLeft('abcd', 1)\n",
    "    'bcda'\n",
    "    >>> rotateStringLeft('abcd', -1)\n",
    "    'dabc'\n",
    "    \"\"\"\n",
    "    return s[n:] + s[:n]\n",
    "\n",
    "import doctest\n",
    "doctest.testmod()"
   ]
  },
  {
   "cell_type": "code",
   "execution_count": 7,
   "metadata": {},
   "outputs": [
    {
     "data": {
      "text/plain": [
       "TestResults(failed=0, attempted=6)"
      ]
     },
     "execution_count": 7,
     "metadata": {},
     "output_type": "execute_result"
    }
   ],
   "source": [
    "def most_frequent(L):\n",
    "\n",
    "    \"\"\"\n",
    "    Return the most frequent element in a list L, resolving\n",
    "    ties arbitrarily. L only has elements of scalar types.\n",
    "    >>> most_frequent([2,5,3,4,6,4,2,4,5])\n",
    "    4\n",
    "    >>> most_frequent([2,3,4,3,5,3,6,3,7])\n",
    "    3\n",
    "    >>> most_frequent([42])\n",
    "    42\n",
    "    >>> most_frequent([])\n",
    "    \n",
    "    \"\"\"\n",
    "    dicto = {}\n",
    "    if len(L) == 0:\n",
    "        return None \n",
    "    \n",
    "    for elem in L:\n",
    "        if elem not in dicto:\n",
    "            dicto[elem] = 1\n",
    "        elif elem in dicto:\n",
    "            dicto[elem] += 1 \n",
    "\n",
    "    mft = 0\n",
    "    for key,value in dicto.items():\n",
    "        if mft < value:\n",
    "            mft = key\n",
    "    return mft\n",
    "\n",
    "import doctest\n",
    "doctest.testmod()  \n",
    "\n"
   ]
  },
  {
   "cell_type": "code",
   "execution_count": 11,
   "metadata": {},
   "outputs": [
    {
     "data": {
      "text/plain": [
       "TestResults(failed=0, attempted=3)"
      ]
     },
     "execution_count": 11,
     "metadata": {},
     "output_type": "execute_result"
    }
   ],
   "source": [
    "def is_anagram(s1, s2):\n",
    "\n",
    "\n",
    "    \"\"\"\n",
    "    Decide whether a string s1 and a string s2 are anagrams.\n",
    "    Use only dictionaries in your solution.\n",
    "    >>> is_anagram(\"\", \"\")\n",
    "    True\n",
    "    >>> is_anagram(\"abCdabCd\", \"abcdabcd\")\n",
    "    True\n",
    "    >>> is_anagram(\"abcdaabcd\", \"aabbcddcb\")\n",
    "    False\n",
    "    \"\"\"\n",
    "    D1 = {1: s1.lower()}\n",
    "    D2 = {1: s2.lower()}\n",
    "\n",
    "    if D1[1] == D2[1]:\n",
    "        return True\n",
    "    return False \n",
    "   \n",
    "\n",
    "import doctest\n",
    "doctest.testmod()"
   ]
  },
  {
   "cell_type": "code",
   "execution_count": 23,
   "metadata": {},
   "outputs": [
    {
     "data": {
      "text/plain": [
       "5"
      ]
     },
     "execution_count": 23,
     "metadata": {},
     "output_type": "execute_result"
    }
   ],
   "source": [
    "def oddCount(L):\n",
    "    \n",
    "    if L == []:\n",
    "        return 0\n",
    "    \n",
    "    elif L[0] % 2 != 0: \n",
    "        return 1 + oddCount(L[1:])\n",
    "    \n",
    "    elif L[0] % 2 == 0:\n",
    "        return oddCount(L[1:])\n",
    "    \n",
    "     \n",
    "\n",
    "L1 = [1,2,3,4,5,6,7,8,9,10]\n",
    "oddCount(L1)"
   ]
  },
  {
   "cell_type": "code",
   "execution_count": 24,
   "metadata": {},
   "outputs": [
    {
     "data": {
      "text/plain": [
       "25"
      ]
     },
     "execution_count": 24,
     "metadata": {},
     "output_type": "execute_result"
    }
   ],
   "source": [
    "def oddSum(L):\n",
    "    if L == []:\n",
    "        return 0 \n",
    "    \n",
    "    elif L[0] % 2 != 0:\n",
    "        return L[0] + oddSum(L[1:])\n",
    "    elif L[0] % 2 == 0:\n",
    "        return oddSum(L[1:])\n",
    "    \n",
    "L2 = [1,2,3,4,5,6,7,8,9,10]\n",
    "oddSum(L2)"
   ]
  },
  {
   "cell_type": "code",
   "execution_count": 37,
   "metadata": {},
   "outputs": [
    {
     "data": {
      "text/plain": [
       "[1, 3, 5, 7, 9]"
      ]
     },
     "execution_count": 37,
     "metadata": {},
     "output_type": "execute_result"
    }
   ],
   "source": [
    "def oddsOnly(L):\n",
    "\n",
    "    if L == []:\n",
    "        return []\n",
    "    elif L[0] % 2 != 0:\n",
    "        return [L[0]] + oddsOnly(L[1:])\n",
    "    elif L[0] % 2 == 0:\n",
    "        return oddsOnly(L[1:])\n",
    "    \n",
    "L3 = [1,2,3,4,5,6,7,8,9,10]\n",
    "oddsOnly(L3)"
   ]
  },
  {
   "cell_type": "code",
   "execution_count": 50,
   "metadata": {},
   "outputs": [],
   "source": [
    "def maxOdd(L):\n",
    "    maxodd = 0\n",
    "    if L == []:\n",
    "        return None \n",
    "    if L[0] % 2 != 0 and L[0] > maxodd:\n",
    "        maxodd = L[0] \n",
    "        return max(maxodd, maxOdd(L[1::]))\n",
    "    elif L[0] % 2 == 0:\n",
    "        return maxOdd(L[1:])\n",
    "    \n",
    "    \n",
    "L4 = [1,2,3,4,5,6,7,8,9,10]\n"
   ]
  },
  {
   "cell_type": "code",
   "execution_count": null,
   "metadata": {},
   "outputs": [],
   "source": [
    "def maxOdd(L):\n",
    "    if not L:  # If the list is empty, return None\n",
    "        return None\n",
    "\n",
    "    if L[0] % 2 != 0:  # If the first element is odd\n",
    "        # Recurse to find the max odd in the rest of the list\n",
    "        rest_max = maxOdd(L[1:])\n",
    "        if rest_max:  # If there is an odd number in the rest of the list\n",
    "            return max(L[0], rest_max)\n",
    "        else:  # If there are no more odd numbers\n",
    "            return L[0]\n",
    "    else:\n",
    "        # If the first element is not odd, just recurse\n",
    "        return maxOdd(L[1:])\n",
    "\n",
    "# Example usage:\n",
    "L4 = [1, 2, 3, 4, 5, 6, 7, 8, 9, 10]\n",
    "print(maxOdd(L4))  # Should print 9\n"
   ]
  },
  {
   "cell_type": "code",
   "execution_count": 70,
   "metadata": {},
   "outputs": [
    {
     "data": {
      "text/plain": [
       "True"
      ]
     },
     "execution_count": 70,
     "metadata": {},
     "output_type": "execute_result"
    }
   ],
   "source": [
    "def HCD(n):\n",
    "    if n < 10:\n",
    "        return False\n",
    "\n",
    "    first_digit = n % 10 \n",
    "    second_digit = (n // 10) % 10\n",
    "\n",
    "    if first_digit == second_digit:\n",
    "        return True \n",
    "    \n",
    "    \n",
    "    return HCD(n //10)\n",
    "    \n",
    "HCD(11)"
   ]
  },
  {
   "cell_type": "code",
   "execution_count": 80,
   "metadata": {},
   "outputs": [
    {
     "data": {
      "text/plain": [
       "6"
      ]
     },
     "execution_count": 80,
     "metadata": {},
     "output_type": "execute_result"
    }
   ],
   "source": [
    "def alternatingSum(L):\n",
    "    if L == []:\n",
    "        return 0\n",
    "    if len(L) == 1:\n",
    "        return L[0]\n",
    "  \n",
    "    return L[0] - alternatingSum(L[1:])\n",
    "\n",
    "\n",
    "\n",
    "L6 = [5, 3, 8, 4]\n",
    "\n",
    "alternatingSum(L6)"
   ]
  },
  {
   "cell_type": "code",
   "execution_count": 8,
   "metadata": {},
   "outputs": [
    {
     "data": {
      "text/plain": [
       "TestResults(failed=0, attempted=2)"
      ]
     },
     "execution_count": 8,
     "metadata": {},
     "output_type": "execute_result"
    }
   ],
   "source": [
    "def is_palindrome(s):\n",
    "    \"\"\"\n",
    "    Implement the function is_palindrome(strng) that tests whether \n",
    "    a string strng of length at least 1 is a palindrom. Implement \n",
    "    two versions: One implementation should only use recursion,\n",
    "    the other version should use a python loop.\n",
    "    >>> is_palindrome(\"Hallo\")\n",
    "    False\n",
    "    >>> is_palindrome(\"ajja\")\n",
    "    True\n",
    "    \"\"\"\n",
    "    if len(s) <= 1:\n",
    "        return True\n",
    "    \n",
    "    if s[0] == s[-1]:\n",
    "        return is_palindrome(s[1:-1])\n",
    "    \n",
    "    return False \n",
    "    \n",
    "import doctest\n",
    "doctest.testmod()"
   ]
  },
  {
   "cell_type": "code",
   "execution_count": 13,
   "metadata": {},
   "outputs": [
    {
     "data": {
      "text/plain": [
       "True"
      ]
     },
     "execution_count": 13,
     "metadata": {},
     "output_type": "execute_result"
    }
   ],
   "source": [
    "def is_palindrome(s):\n",
    "    for i in range(len(s) // 2):\n",
    "        if s[i] != s[-(i + 1)]:\n",
    "            return False\n",
    "    return True\n",
    "\n",
    "is_palindrome(\"xadjjdax\")"
   ]
  },
  {
   "cell_type": "code",
   "execution_count": 21,
   "metadata": {},
   "outputs": [
    {
     "data": {
      "text/plain": [
       "4"
      ]
     },
     "execution_count": 21,
     "metadata": {},
     "output_type": "execute_result"
    }
   ],
   "source": [
    "def num_eights(pos):\n",
    "    if pos == 0:\n",
    "        return 0\n",
    "\n",
    "    if pos % 10 == 8:\n",
    "        return 1 + num_eights(pos // 10)\n",
    "    else:\n",
    "        return num_eights(pos // 10) \n",
    "\n",
    "    \n",
    "num_eights(182378488)"
   ]
  },
  {
   "cell_type": "code",
   "execution_count": 6,
   "metadata": {},
   "outputs": [
    {
     "data": {
      "text/plain": [
       "TestResults(failed=0, attempted=2)"
      ]
     },
     "execution_count": 6,
     "metadata": {},
     "output_type": "execute_result"
    }
   ],
   "source": [
    "def merge(dict1, dict2):\n",
    "    \"\"\"\n",
    "    Implement merge(dict1, dict2) that merges two dictionaries dict1 and \n",
    "    dict2 having either int or float values and returns a new dictionary. \n",
    "    If a key appears in both dictionaries the value for this key in the new \n",
    "    dictionary is the sum of the values.\n",
    "    >>> merge({1: 3, 2: 1, 3: 0.5}, {2: 2, 3: 2, 4: 1})\n",
    "    {1: 3, 2: 3, 3: 2.5, 4: 1}\n",
    "    \"\"\"\n",
    "    \n",
    "    for key, value in dict2.items():\n",
    "        if key in dict1.keys():\n",
    "            dict1[key] += value\n",
    "        else:\n",
    "            dict1[key] = value \n",
    "\n",
    "    return dict1\n",
    "import doctest\n",
    "doctest.testmod()    "
   ]
  },
  {
   "cell_type": "code",
   "execution_count": 8,
   "metadata": {},
   "outputs": [],
   "source": [
    "class VendingMachine:\n",
    "    \"\"\"A vending machine that vends some product for some price.\n",
    "    >>> v = VendingMachine('candy', 10)\n",
    "    >>> v.vend()\n",
    "    'Nothing left to vend. Please restock.'\n",
    "    >>> v.add_funds(15)\n",
    "    'Nothing left to vend. Please restock. Here is your $15.'\n",
    "    >>> v.restock(2)\n",
    "    'Current candy stock: 2'\n",
    "    >>> v.vend()\n",
    "    'Please add $10 more funds.'\n",
    "    >>> v.add_funds(7)\n",
    "    'Current balance: $7'\n",
    "    >>> v.vend()\n",
    "    'Please add $3 more funds.'\n",
    "    >>> v.add_funds(5)\n",
    "    'Current balance: $12'\n",
    "    >>> v.vend()\n",
    "    'Here is your candy and $2 change.'\n",
    "    >>> v.add_funds(10)\n",
    "    'Current balance: $10'\n",
    "    >>> v.vend()\n",
    "    'Here is your candy.'\n",
    "    >>> v.add_funds(15)\n",
    "    'Nothing left to vend. Please restock. Here is your $15.'\n",
    "    >>> w = VendingMachine('soda', 2)\n",
    "    >>> w.restock(3)\n",
    "    'Current soda stock: 3'\n",
    "    >>> w.restock(3)\n",
    "    'Current soda stock: 6'\n",
    "    >>> w.add_funds(2)\n",
    "    'Current balance: $2'\n",
    "    >>> w.vend()\n",
    "    'Here is your soda.'\n",
    "    \"\"\"\n",
    "    stock = 0\n",
    "    balance = 0  \n",
    "    def __init__(self, product, cost):\n",
    "        self.product = product \n",
    "        self.cost = cost \n",
    "\n",
    "    def vend(self):\n",
    "        if self.stock == 0:\n",
    "            return \"Nothing left to vend. Please restock\"\n",
    "        if self.balance > self.cost:\n",
    "            print(f\"Here is your {self.product} and {self.balance - self.cost} change.\")\n",
    "            self.balance = 0\n",
    "            self.stock -= 1\n",
    "        elif self.balance < self.cost:\n",
    "            return f\"Please add {self.cost - self.balance} more funds\"\n",
    "        else:\n",
    "            self.balance = 0 \n",
    "            self.stock -= 1 \n",
    "            return f\"Here is your {self.product}\"\n",
    "        \n",
    "        \n",
    "    def add_funds(self, added_funds):\n",
    "\n",
    "        if self.stock == 0:\n",
    "            return f\"Nothing left to vend. Please restock. Here is your {added_funds}\"\n",
    "        self.balance += added_funds\n",
    "        return f\"Current balance {added_funds}\"\n",
    "        \n",
    "        \n",
    "    def restock(self, restock):\n",
    "        self.stock += restock\n",
    "        return f\"Currenct {self.product} stock: {self.stock}\"\n",
    "    \n",
    "\n",
    "\n",
    "        \n",
    "        \n",
    "\n",
    "    "
   ]
  },
  {
   "cell_type": "code",
   "execution_count": 55,
   "metadata": {},
   "outputs": [
    {
     "data": {
      "text/plain": [
       "7"
      ]
     },
     "execution_count": 55,
     "metadata": {},
     "output_type": "execute_result"
    }
   ],
   "source": [
    "n = 12345678\n",
    "n // 10\n",
    "(n // 10) % 10\n"
   ]
  }
 ],
 "metadata": {
  "kernelspec": {
   "display_name": "Python 3",
   "language": "python",
   "name": "python3"
  },
  "language_info": {
   "codemirror_mode": {
    "name": "ipython",
    "version": 3
   },
   "file_extension": ".py",
   "mimetype": "text/x-python",
   "name": "python",
   "nbconvert_exporter": "python",
   "pygments_lexer": "ipython3",
   "version": "3.11.4"
  }
 },
 "nbformat": 4,
 "nbformat_minor": 2
}
