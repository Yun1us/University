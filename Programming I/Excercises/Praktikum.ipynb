{
 "cells": [
  {
   "cell_type": "code",
   "execution_count": 3,
   "metadata": {},
   "outputs": [
    {
     "data": {
      "text/plain": [
       "TestResults(failed=0, attempted=4)"
      ]
     },
     "execution_count": 3,
     "metadata": {},
     "output_type": "execute_result"
    }
   ],
   "source": [
    "def two_of_three(i, j, k):\n",
    "    \"\"\"Return m*m + n*n, where m and n are the two smallest members of the\n",
    "    positive numbers i, j, and k.\n",
    "    >>> two_of_three(1, 2, 3)\n",
    "    5\n",
    "    >>> two_of_three(5, 3, 1)\n",
    "    10\n",
    "    >>> two_of_three(10, 2, 8)\n",
    "    68\n",
    "    >>> two_of_three(5, 5, 5)\n",
    "    50\n",
    "    \"\"\"\n",
    "    if j <= k and i <= k:\n",
    "        return j*j + i*i\n",
    "    elif j<= i and k <= i:\n",
    "        return j*j + k*k\n",
    "    else:\n",
    "        return j*j + k*k\n",
    "\n",
    "import doctest\n",
    "doctest.testmod()"
   ]
  },
  {
   "cell_type": "code",
   "execution_count": 1,
   "metadata": {},
   "outputs": [
    {
     "name": "stdout",
     "output_type": "stream",
     "text": [
      "**********************************************************************\n",
      "File \"__main__\", line 5, in __main__.largest_factor\n",
      "Failed example:\n",
      "    5\n",
      "Expected:\n",
      "    largest_factor(80) # factors are 1, 2, 4, 5, 8, 10, 16, 20, 40\n",
      "Got:\n",
      "    5\n",
      "**********************************************************************\n",
      "File \"__main__\", line 7, in __main__.largest_factor\n",
      "Failed example:\n",
      "    40\n",
      "Expected:\n",
      "    largest_factor(13) # factor is 1 since 13 is prime\n",
      "Got:\n",
      "    40\n",
      "**********************************************************************\n",
      "File \"__main__\", line 9, in __main__.largest_factor\n",
      "Failed example:\n",
      "    1\n",
      "Expected nothing\n",
      "Got:\n",
      "    1\n",
      "**********************************************************************\n",
      "1 items had failures:\n",
      "   3 of   3 in __main__.largest_factor\n",
      "***Test Failed*** 3 failures.\n"
     ]
    },
    {
     "data": {
      "text/plain": [
       "TestResults(failed=3, attempted=3)"
      ]
     },
     "execution_count": 1,
     "metadata": {},
     "output_type": "execute_result"
    }
   ],
   "source": [
    "def largest_factor(n):\n",
    "    \"\"\"Return the largest factor of n (n > 1 !) that is smaller than n.\n",
    "    A factor divides a number evenly.\n",
    "    largest_factor(15) # factors are 1, 3, 5\n",
    "    >>> 5\n",
    "    largest_factor(80) # factors are 1, 2, 4, 5, 8, 10, 16, 20, 40\n",
    "    >>> 40\n",
    "    largest_factor(13) # factor is 1 since 13 is prime\n",
    "    >>> 1\n",
    "    \"\"\"\n",
    "    # YOUR CODE HERE\n",
    "    for i in range(n-1, 1):\n",
    "        if i % n == 0:\n",
    "            return i\n",
    "        \n",
    "import doctest\n",
    "doctest.testmod()"
   ]
  },
  {
   "cell_type": "code",
   "execution_count": 4,
   "metadata": {},
   "outputs": [
    {
     "data": {
      "text/plain": [
       "TestResults(failed=0, attempted=10)"
      ]
     },
     "execution_count": 4,
     "metadata": {},
     "output_type": "execute_result"
    }
   ],
   "source": [
    "def double_eights(n):\n",
    "    \"\"\"\n",
    "    Return true if n has two eights in a row.\n",
    "    >>> double_eights(8)\n",
    "    False\n",
    "    >>> double_eights(88)\n",
    "    True\n",
    "    >>> double_eights(2882)\n",
    "    True\n",
    "    >>> double_eights(880088)\n",
    "    True\n",
    "    >>> double_eights(12345)\n",
    "    False\n",
    "    >>> double_eights(80808080)\n",
    "    False\n",
    "    \"\"\"\n",
    "\n",
    "\n",
    "    if '88' in str(n):\n",
    "        return True \n",
    "    else:\n",
    "        return False\n",
    "    \n",
    "import doctest\n",
    "doctest.testmod()"
   ]
  },
  {
   "cell_type": "code",
   "execution_count": 4,
   "metadata": {},
   "outputs": [
    {
     "data": {
      "text/plain": [
       "TestResults(failed=0, attempted=5)"
      ]
     },
     "execution_count": 4,
     "metadata": {},
     "output_type": "execute_result"
    }
   ],
   "source": [
    "def getKthDigit(n,k):\n",
    "    \"\"\"\n",
    "    Return the kth digit of n (an integer), starting from 0,\n",
    "    counting from the right.\n",
    "    >>> getKthDigit(789, 0)\n",
    "    9\n",
    "    >>> getKthDigit(789, 1)\n",
    "    8\n",
    "    >>> getKthDigit(789, 2)\n",
    "    7\n",
    "    >>> getKthDigit(789, 3)\n",
    "    0\n",
    "    >>> getKthDigit(-789, 0)\n",
    "    9\n",
    "    \"\"\"\n",
    "    lst = list(str(n))\n",
    "\n",
    "    if len(lst) <= k:\n",
    "        return 0\n",
    "    \n",
    "    for n in (n,k):\n",
    "        return int(str(lst[::-1][k]))\n",
    "\n",
    "\n",
    "\n",
    "\n",
    "#\n",
    "    \n",
    "import doctest\n",
    "doctest.testmod()"
   ]
  },
  {
   "cell_type": "code",
   "execution_count": 2,
   "metadata": {},
   "outputs": [
    {
     "name": "stdout",
     "output_type": "stream",
     "text": [
      "**********************************************************************\n",
      "File \"__main__\", line 6, in __main__.setKthDigit\n",
      "Failed example:\n",
      "    setKthDigit(468, 0, 1)\n",
      "Expected:\n",
      "    461\n",
      "Got:\n",
      "    ['4', '6', '8']\n",
      "**********************************************************************\n",
      "File \"__main__\", line 10, in __main__.setKthDigit\n",
      "Failed example:\n",
      "    setKthDigit(468, 2, 1)\n",
      "Expected:\n",
      "    168\n",
      "Got:\n",
      "    461\n",
      "**********************************************************************\n",
      "File \"__main__\", line 12, in __main__.setKthDigit\n",
      "Failed example:\n",
      "    setKthDigit(468, 3, 1)\n",
      "Expected:\n",
      "    1468\n",
      "Got nothing\n",
      "**********************************************************************\n",
      "1 items had failures:\n",
      "   3 of   4 in __main__.setKthDigit\n",
      "***Test Failed*** 3 failures.\n"
     ]
    },
    {
     "data": {
      "text/plain": [
       "TestResults(failed=3, attempted=9)"
      ]
     },
     "execution_count": 2,
     "metadata": {},
     "output_type": "execute_result"
    }
   ],
   "source": [
    "def setKthDigit(n, k, d):\n",
    "    \"\"\"\n",
    "    n is an integer, k is a non-negative integer and d is non-negative single digit (0 = d = 9). \n",
    "    Return the number n with the kth digit replaced with d. \n",
    "\n",
    "    >>> setKthDigit(468, 0, 1)\n",
    "    461\n",
    "    >>> setKthDigit(468, 1, 1)\n",
    "    418\n",
    "    >>> setKthDigit(468, 2, 1)\n",
    "    168\n",
    "    >>> setKthDigit(468, 3, 1)\n",
    "    1468\n",
    "    \"\"\"\n",
    "    # YOUR CODE HERE\n",
    "    lst = list(str(n))\n",
    "    lol = str(n)\n",
    "    lst.reverse()\n",
    "\n",
    "    if k == 0:\n",
    "        int(lol.replace(str(n)[k], str(d)))\n",
    "        lst.reverse()\n",
    "        return lst\n",
    "    if k == 1:\n",
    "        return int(lol.replace(str(n)[k], str(d)))\n",
    "    elif k == 2: \n",
    "        return int(lol.replace(str(n)[k], str(d)))\n",
    "    elif k == 3:\n",
    "        return  lst.append(\"1\")\n",
    "    \n",
    "        \n",
    "import doctest\n",
    "doctest.testmod()\n"
   ]
  },
  {
   "cell_type": "code",
   "execution_count": 4,
   "metadata": {},
   "outputs": [
    {
     "name": "stdout",
     "output_type": "stream",
     "text": [
      "**********************************************************************\n",
      "File \"__main__\", line 5, in __main__.largest_factor\n",
      "Failed example:\n",
      "    5\n",
      "Expected:\n",
      "    largest_factor(80) # factors are 1, 2, 4, 5, 8, 10, 16, 20, 40\n",
      "Got:\n",
      "    5\n",
      "**********************************************************************\n",
      "File \"__main__\", line 7, in __main__.largest_factor\n",
      "Failed example:\n",
      "    40\n",
      "Expected:\n",
      "    largest_factor(13) # factor is 1 since 13 is prime\n",
      "Got:\n",
      "    40\n",
      "**********************************************************************\n",
      "File \"__main__\", line 9, in __main__.largest_factor\n",
      "Failed example:\n",
      "    1\n",
      "Expected nothing\n",
      "Got:\n",
      "    1\n",
      "**********************************************************************\n",
      "1 items had failures:\n",
      "   3 of   3 in __main__.largest_factor\n",
      "***Test Failed*** 3 failures.\n"
     ]
    },
    {
     "data": {
      "text/plain": [
       "TestResults(failed=3, attempted=8)"
      ]
     },
     "execution_count": 4,
     "metadata": {},
     "output_type": "execute_result"
    }
   ],
   "source": [
    "def sum_digits(y):\n",
    "    \"\"\"Sum all the digits of y. y is always nonnegative. Floor division\n",
    "    and modulo might be helpful.\n",
    "\n",
    "    >>> sum_digits(10) # 1 + 0 = 1\n",
    "    1\n",
    "    >>> sum_digits(4224) # 4 + 2 + 2 + 4 = 12\n",
    "    12\n",
    "    >>> sum_digits(1234567890)\n",
    "    45\n",
    "    >>> a = sum_digits(123) # use return rather than print in your code!\n",
    "    >>> a\n",
    "    6\n",
    "    \"\"\"\n",
    "    # YOUR CODE HERE#\n",
    "\n",
    "    #return sum(int(digit) for digit in str(y))\n",
    "\n",
    "    sumdigits = 0\n",
    "    for dig in range(len(str(y))):\n",
    "        \n",
    "        sumdigits += y % 10\n",
    "        y = y // 10\n",
    "    return sumdigits\n",
    "\n",
    "import doctest\n",
    "doctest.testmod()"
   ]
  },
  {
   "cell_type": "code",
   "execution_count": 8,
   "metadata": {},
   "outputs": [],
   "source": [
    "\n",
    "\n"
   ]
  },
  {
   "cell_type": "code",
   "execution_count": 1,
   "metadata": {},
   "outputs": [
    {
     "data": {
      "text/plain": [
       "TestResults(failed=0, attempted=5)"
      ]
     },
     "execution_count": 1,
     "metadata": {},
     "output_type": "execute_result"
    }
   ],
   "source": [
    "def sum_digits(y):\n",
    "    \"\"\"Sum all the digits of y. y is always nonnegative. Floor division\n",
    "    and modulo might be helpful.\n",
    "\n",
    "    >>> sum_digits(10) # 1 + 0 = 1\n",
    "    1\n",
    "    >>> sum_digits(4224) # 4 + 2 + 2 + 4 = 12\n",
    "    12\n",
    "    >>> sum_digits(1234567890)\n",
    "    45\n",
    "    >>> a = sum_digits(123) # use return rather than print in your code!\n",
    "    >>> a \n",
    "    6\"\"\"\n",
    "    sumdigits = 0\n",
    "    for digits in range(len(str(y))):\n",
    "\n",
    "        sumdigits += y % 10\n",
    "        y = y // 10\n",
    "    return sumdigits\n",
    "   \n",
    "\n",
    "\n",
    "import doctest\n",
    "doctest.testmod()\n",
    "    \n"
   ]
  },
  {
   "cell_type": "code",
   "execution_count": 42,
   "metadata": {},
   "outputs": [
    {
     "data": {
      "text/plain": [
       "TestResults(failed=0, attempted=7)"
      ]
     },
     "execution_count": 42,
     "metadata": {},
     "output_type": "execute_result"
    }
   ],
   "source": [
    "def remove_odd_indices(lst, odd, weight):\n",
    "    \"\"\"\n",
    "    lst is a list, odd is a boolean. Return a new list with elements from ls\n",
    "    removed at certain indices: If odd is True, remove elements at odd indic\n",
    "    otherwise remove even indexed elements. The remaining elements are\n",
    "    multiplied by weight.\n",
    "\n",
    "    >>> s = [1, 2, 3, 4]\n",
    "    >>> t = remove_odd_indices(s, True, 1)\n",
    "    >>> s\n",
    "    [1, 2, 3, 4]\n",
    "    >>> t\n",
    "    [1, 3]\n",
    "    >>> l = [5, 6, 7, 8]\n",
    "    >>> m = remove_odd_indices(l, False, 4)\n",
    "    >>> m\n",
    "    [24, 32]\"\"\"\n",
    "    # YOUR CODE\n",
    "    ls2 = list()\n",
    "    ls3 = list()\n",
    "    \n",
    "    if odd == True:\n",
    "        for elem in lst: \n",
    "            if elem % 2 == 0:\n",
    "                elem = \"\"\n",
    "            else: \n",
    "                ls2.append(elem * weight)\n",
    "        return ls2 \n",
    "                \n",
    "            \n",
    "            \n",
    "    if odd == False: \n",
    "        for elem in lst:\n",
    "            if elem % 2 != 0:\n",
    "                elem = \"\" \n",
    "            else:\n",
    "                ls3.append(elem * weight)\n",
    "        return ls3\n",
    "\n",
    "import doctest\n",
    "doctest.testmod()"
   ]
  },
  {
   "cell_type": "code",
   "execution_count": 1,
   "metadata": {},
   "outputs": [
    {
     "data": {
      "text/plain": [
       "TestResults(failed=0, attempted=4)"
      ]
     },
     "execution_count": 1,
     "metadata": {},
     "output_type": "execute_result"
    }
   ],
   "source": [
    "def merge(lst1, lst2):\n",
    "    \"\"\"Merges two sorted lists, lst1 and lst2. The new list contains all\n",
    "    elements in sorted order.\n",
    "    >>> merge([1, 3, 5], [2, 4, 6])\n",
    "    [1, 2, 3, 4, 5, 6]\n",
    "    >>> merge([], [2, 4, 6])\n",
    "    [2, 4, 6]\n",
    "    >>> merge([1, 2, 3], [])\n",
    "    [1, 2, 3]\n",
    "    >>> merge([5, 7], [2, 4, 6])\n",
    "    [2, 4, 5, 6, 7]\n",
    "    \"\"\"\n",
    "    # YOUR CODE HERE\n",
    "    new_list = lst1 + lst2 \n",
    "    new_list.sort()\n",
    "    return new_list\n",
    "\n",
    "        \n",
    "\n",
    "import doctest\n",
    "doctest.testmod()"
   ]
  },
  {
   "cell_type": "code",
   "execution_count": 2,
   "metadata": {},
   "outputs": [
    {
     "data": {
      "text/plain": [
       "TestResults(failed=0, attempted=2)"
      ]
     },
     "execution_count": 2,
     "metadata": {},
     "output_type": "execute_result"
    }
   ],
   "source": [
    "def alternatingSum(lst):\n",
    "    \"\"\"\n",
    "    Return the alternating sum of the integer or float elements\n",
    "    in the list lst. An alternating sum of a sequence is a sum\n",
    "    where the sign alternates from positive to negative or\n",
    "    vice versa.\n",
    "    >>> alternatingSum([5, 3, 8, 4])\n",
    "    6\n",
    "    >>> alternatingSum([])\n",
    "    0\n",
    "    \"\"\"\n",
    "    # YOUR CODE HERE.\n",
    "    counter = 0\n",
    "    sum = 0\n",
    "    \n",
    "    for i in range(0, len(lst)):\n",
    "        if i % 2 == 0:\n",
    "            \n",
    "            sum = sum + lst[i]\n",
    "        elif i % 2 == 1:\n",
    "            elem = lst[i] *-1                    #elem*=-1\n",
    "            sum = sum + elem\n",
    "    return sum\n",
    "\n",
    "\n",
    "   \n",
    "\n",
    "# das gegenteil mal programmieren\n",
    "\n",
    "import doctest\n",
    "doctest.testmod()\n"
   ]
  },
  {
   "cell_type": "code",
   "execution_count": 3,
   "metadata": {},
   "outputs": [
    {
     "data": {
      "text/plain": [
       "TestResults(failed=0, attempted=3)"
      ]
     },
     "execution_count": 3,
     "metadata": {},
     "output_type": "execute_result"
    }
   ],
   "source": [
    "def is_anagram(s1, s2:list):\n",
    "    \"\"\"\n",
    "    Decide whether a string s1 and a string s2 are anagrams.\n",
    "    Use only lists in your solution.\n",
    "    >>> is_anagram(\"\",\"\")\n",
    "    True\n",
    "    >>> is_anagram(\"abCdabCd\",\"abcdabcd\")\n",
    "    True\n",
    "    >>> is_anagram(\"abcdaabcd\",\"aabbcddcb\")\n",
    "    False\n",
    "    \"\"\"\n",
    "    \n",
    "    if sorted(s1.lower()) == sorted(s2.lower()):\n",
    "        return True\n",
    "    else: \n",
    "        return False\n",
    "    \n",
    "\n",
    "import doctest\n",
    "doctest.testmod()\n"
   ]
  },
  {
   "cell_type": "code",
   "execution_count": 16,
   "metadata": {},
   "outputs": [
    {
     "data": {
      "text/plain": [
       "TestResults(failed=0, attempted=2)"
      ]
     },
     "execution_count": 16,
     "metadata": {},
     "output_type": "execute_result"
    }
   ],
   "source": [
    "def rotateStringLeft(s:str, n):\n",
    "    \"\"\"\n",
    "    The function takes a string s and a possibly-negative integer n.\n",
    "    If n is non-negative, the function returns the string s rotated\n",
    "    n places to the left. If n is negative, the function returns\n",
    "    the string s rotated |n| places to the right.\n",
    "    >>> rotateStringLeft('abcd', 1)\n",
    "    'bcda'\n",
    "    >>> rotateStringLeft('abcd',-1)\n",
    "    'dabc'\n",
    "    \"\"\"\n",
    "    if n == 1: \n",
    "        s = list(s)\n",
    "        s.insert(4, \"a\")\n",
    "        s.reverse()\n",
    "        s.pop()\n",
    "        s.reverse()\n",
    "        s = \"\".join(s)\n",
    "        return s\n",
    "\n",
    "    if n == -1:\n",
    "        s = list(s)\n",
    "        s.pop()\n",
    "        s.insert(0, \"d\")\n",
    "        news = s \n",
    "        makka = \"\".join(news)\n",
    "        return makka\n",
    "        \n",
    "import doctest\n",
    "doctest.testmod()"
   ]
  },
  {
   "cell_type": "code",
   "execution_count": 1,
   "metadata": {},
   "outputs": [
    {
     "name": "stdout",
     "output_type": "stream",
     "text": [
      "**********************************************************************\n",
      "File \"__main__\", line 5, in __main__.most_frequent\n",
      "Failed example:\n",
      "    most_frequent([2,5,3,4,6,4,2,4,5])\n",
      "Expected:\n",
      "    4\n",
      "Got:\n",
      "    False\n",
      "**********************************************************************\n",
      "File \"__main__\", line 7, in __main__.most_frequent\n",
      "Failed example:\n",
      "    most_frequent([2,3,4,3,5,3,6,3,7])\n",
      "Expected:\n",
      "    3\n",
      "Got:\n",
      "    False\n",
      "**********************************************************************\n",
      "File \"__main__\", line 11, in __main__.most_frequent\n",
      "Failed example:\n",
      "    most_frequent([])\n",
      "Expected:\n",
      "    None\n",
      "Got nothing\n",
      "**********************************************************************\n",
      "1 items had failures:\n",
      "   3 of   4 in __main__.most_frequent\n",
      "***Test Failed*** 3 failures.\n"
     ]
    },
    {
     "data": {
      "text/plain": [
       "TestResults(failed=3, attempted=4)"
      ]
     },
     "execution_count": 1,
     "metadata": {},
     "output_type": "execute_result"
    }
   ],
   "source": [
    "def most_frequent(L):\n",
    "    \"\"\"\n",
    "    Return the most frequent element in a list L, resolving\n",
    "    ties arbitrarily. L only has elements of scalar types.\n",
    "    >>> most_frequent([2,5,3,4,6,4,2,4,5])\n",
    "    4\n",
    "    >>> most_frequent([2,3,4,3,5,3,6,3,7])\n",
    "    3\n",
    "    >>> most_frequent([42])\n",
    "    42\n",
    "    >>> most_frequent([])\n",
    "    None\n",
    "    \"\"\"\n",
    "    \n",
    "    if len(L) == 0:\n",
    "        return None\n",
    "    if len(L) == 1:\n",
    "        return L[0]           \n",
    "    \n",
    "    amounts = {}   \n",
    "    for elem in L:\n",
    "        if elem not in amounts:\n",
    "            amounts[elem] = 1 \n",
    "        elif elem in amounts:\n",
    "            amounts[elem] += 1\n",
    "\n",
    "    most_frequent_key = 0\n",
    "    for key in amounts: \n",
    "        if amounts[key] > most_frequent_key:\n",
    "            return most_frequent_key == amounts[key]\n",
    "    \n",
    "    lst_keys = list(amounts.keys)\n",
    "    lst_values = list(amounts.values)\n",
    "    return (lst_values.index(most_frequent_key))\n",
    "                \n",
    "    \n",
    "\n",
    "\n",
    "\n",
    "import doctest\n",
    "doctest.testmod()\n",
    "# lol[key] = value"
   ]
  },
  {
   "cell_type": "code",
   "execution_count": 7,
   "metadata": {},
   "outputs": [
    {
     "data": {
      "text/plain": [
       "TestResults(failed=0, attempted=3)"
      ]
     },
     "execution_count": 7,
     "metadata": {},
     "output_type": "execute_result"
    }
   ],
   "source": [
    "def is_anagram(s1, s2):\n",
    "    \"\"\"\n",
    "    Decide wether a string s1 and string s2 are anagrams.\n",
    "    Use only dictionaries in your solution.\n",
    "    >>> is_anagram(\"\", \"\")\n",
    "    True\n",
    "    >>> is_anagram(\"abCdabCd\", \"abcdabcd\")\n",
    "    True\n",
    "    >>> is_anagram(\"abcdaabcd\", \"aabbcddcb\")\n",
    "    False\n",
    "    \"\"\"\n",
    "    # YOUR CODE HERE\n",
    "    \n",
    "    dict1 = {s1.lower()}\n",
    "    dict2 = {s2}\n",
    "    if dict1 == dict2:\n",
    "        return True\n",
    "    elif dict1 != dict2:\n",
    "        return False\n",
    "    \n",
    "import doctest\n",
    "doctest.testmod()\n"
   ]
  },
  {
   "cell_type": "code",
   "execution_count": 14,
   "metadata": {},
   "outputs": [],
   "source": [
    "def most_popular_names():\n",
    "    \"\"\"\n",
    "    Using the information in the file 'popular_names.txt' (see\n",
    "    files attached to this lab), build two dictionaries, one for\n",
    "    male names, and one for female names, and return the two\n",
    "    dictionaries.\n",
    "    Come up with two reasonable doctests!\n",
    "    \"\"\"\n",
    "    male_names = {}\n",
    "    female_names = {}\n",
    "   \n",
    "    with open(\"poplular_names.txt\", \"r\") as f:\n",
    "        for line in f:\n",
    "            line = line.split()\n",
    "            if line[0] == '#':\n",
    "                continue\n",
    "            male_names[line[1]] = line[2]\n",
    "            female_names[line[3]] = line[4]\n",
    "            \n",
    "    \n",
    "    print(male_names)\n",
    "    print(female_names)\n"
   ]
  },
  {
   "cell_type": "code",
   "execution_count": 2,
   "metadata": {},
   "outputs": [],
   "source": [
    "def word_count():\n",
    "    \"\"\"\n",
    "    Find a text file containing the complete works of\n",
    "    William Shapespeare attached to this lab (see moodle course website).\n",
    "    * Find the 20 most common words.\n",
    "    * How many unique words are used?\n",
    "    * How many words are used at least 5 times?\n",
    "    * Write the 200 most common words, and their counts,\n",
    "    to a file 'top200.txt'\n",
    "    \"\"\"\n",
    "    # YOUR CODE HERE\n",
    "\n",
    "    with open(\"shakespeare.txt\", \"r\") as f:\n",
    "        for line in f:\n",
    "            line = line.split()\n",
    "            "
   ]
  },
  {
   "cell_type": "code",
   "execution_count": 3,
   "metadata": {},
   "outputs": [
    {
     "name": "stdout",
     "output_type": "stream",
     "text": [
      "the factorial of 4 is 24\n"
     ]
    }
   ],
   "source": [
    "def factorial(x):\n",
    "    if x == 1:\n",
    "        return 1\n",
    "    else: \n",
    "        return (x * factorial(x-1))\n",
    "    \n",
    "num = 4\n",
    "print(\"the factorial of\", num, \"is\", factorial(num))"
   ]
  },
  {
   "cell_type": "code",
   "execution_count": 2,
   "metadata": {},
   "outputs": [
    {
     "data": {
      "text/plain": [
       "3"
      ]
     },
     "execution_count": 2,
     "metadata": {},
     "output_type": "execute_result"
    }
   ],
   "source": [
    "L = [1, 2, 3, 4, 5]\n",
    "\n",
    "def oddCount(L):\n",
    "    if L == []:\n",
    "        return 0  # Base case should return 0 instead of None\n",
    "    elif L[0] % 2 != 0:\n",
    "        return 1 + oddCount(L[1:])  # If the first element is odd, add 1 to the recursive count\n",
    "    else:\n",
    "        return oddCount(L[1:])  # If the first element is not odd, just return the recursive count\n",
    "\n",
    "oddCount(L)"
   ]
  },
  {
   "cell_type": "code",
   "execution_count": 24,
   "metadata": {},
   "outputs": [
    {
     "data": {
      "text/plain": [
       "25"
      ]
     },
     "execution_count": 24,
     "metadata": {},
     "output_type": "execute_result"
    }
   ],
   "source": [
    "L = [1, 2, 3, 4, 5, 6, 7, 8, 9, 10]\n",
    "\n",
    "def oddSum(L):\n",
    "    if L == []:\n",
    "        return 0\n",
    "    elif L[0] % 2 != 0:\n",
    "        return L[0] + oddSum(L[1:]) \n",
    "    elif L[0] % 2 == 0:\n",
    "        return oddSum(L[1:])\n",
    "    \n",
    "    \n",
    "oddSum(L)"
   ]
  },
  {
   "cell_type": "code",
   "execution_count": 1,
   "metadata": {},
   "outputs": [
    {
     "data": {
      "text/plain": [
       "[1]"
      ]
     },
     "execution_count": 1,
     "metadata": {},
     "output_type": "execute_result"
    }
   ],
   "source": [
    "L = [1]\n",
    "\n",
    "def OddsOnly(L):\n",
    "    if L == []:\n",
    "        return []\n",
    "    elif L[0] % 2 != 0:\n",
    "        return [L[0]] + OddsOnly(L[1:])\n",
    "    else:\n",
    "        return OddsOnly(L[1:])\n",
    "    \n",
    "OddsOnly(L)\n"
   ]
  },
  {
   "cell_type": "code",
   "execution_count": 51,
   "metadata": {},
   "outputs": [
    {
     "data": {
      "text/plain": [
       "True"
      ]
     },
     "execution_count": 51,
     "metadata": {},
     "output_type": "execute_result"
    }
   ],
   "source": [
    "def HCD(n):\n",
    "    n = abs(n)\n",
    "\n",
    "\n",
    "    if n < 10:\n",
    "        return False \n",
    "    \n",
    "    last_digit = n // 10\n",
    "    second_last_digit = (n//10) % 10\n",
    "    if last_digit == second_last_digit:\n",
    "        return True \n",
    "    \n",
    "    return HCD(n // 10) \n",
    "\n",
    "HCD(13)"
   ]
  },
  {
   "cell_type": "code",
   "execution_count": 73,
   "metadata": {},
   "outputs": [
    {
     "data": {
      "text/plain": [
       "3"
      ]
     },
     "execution_count": 73,
     "metadata": {},
     "output_type": "execute_result"
    }
   ],
   "source": [
    "L = [1,2,3,4,5]\n",
    "\n",
    "def alternatingSum(L, index=0):\n",
    "    if not L:\n",
    "        return 0\n",
    "    elif index % 2 == 0:  \n",
    "        return L[0] + alternatingSum(L[1:], index + 1)\n",
    "    else: \n",
    "        return -L[0] + alternatingSum(L[1:], index + 1)\n",
    "   \n",
    "\n",
    "alternatingSum(L)"
   ]
  },
  {
   "cell_type": "code",
   "execution_count": null,
   "metadata": {},
   "outputs": [],
   "source": [
    "def HCD(n):\n",
    "    if n < 10:\n",
    "        return False \n",
    "    \n",
    "    last_digit = n // 10 \n",
    "    second_last_digit = (n // 10) % 10 \n",
    "    if second_last_digit == last_digit: \n",
    "        return True\n",
    "    \n",
    "    return HCD(n // 10)\n",
    "    \n",
    "    \n",
    "   \n",
    "\n",
    "HCD(12)"
   ]
  },
  {
   "cell_type": "code",
   "execution_count": 6,
   "metadata": {},
   "outputs": [
    {
     "ename": "NameError",
     "evalue": "name 'rannar' is not defined",
     "output_type": "error",
     "traceback": [
      "\u001b[0;31m---------------------------------------------------------------------------\u001b[0m",
      "\u001b[0;31mNameError\u001b[0m                                 Traceback (most recent call last)",
      "Cell \u001b[0;32mIn[6], line 14\u001b[0m\n\u001b[1;32m      9\u001b[0m             \u001b[38;5;28;01mreturn\u001b[39;00m \u001b[38;5;28;01mFalse\u001b[39;00m\n\u001b[1;32m     10\u001b[0m     \u001b[38;5;28;01mreturn\u001b[39;00m \u001b[38;5;28;01mTrue\u001b[39;00m \n\u001b[0;32m---> 14\u001b[0m is_palindrome(\u001b[43mrannar\u001b[49m)\n",
      "\u001b[0;31mNameError\u001b[0m: name 'rannar' is not defined"
     ]
    }
   ],
   "source": [
    "def is_palindrome(strng:str):\n",
    "    strng = strng.lower()\n",
    "\n",
    "    if len(strng) < 1:\n",
    "        return True  \n",
    "    \n",
    "    for i in range(len(strng) // 2):\n",
    "        if strng[i] != strng[-(i + 1)]:\n",
    "            return False\n",
    "    return True \n",
    "    \n",
    "    \n",
    "    \n",
    "is_palindrome(rannar)\n"
   ]
  },
  {
   "cell_type": "code",
   "execution_count": 1,
   "metadata": {},
   "outputs": [
    {
     "name": "stdout",
     "output_type": "stream",
     "text": [
      "Trying:\n",
      "    v = VendingMachine('candy', 10)\n",
      "Expecting nothing\n",
      "**********************************************************************\n",
      "File \"__main__\", line ?, in __main__.VendingMachine\n",
      "Failed example:\n",
      "    v = VendingMachine('candy', 10)\n",
      "Exception raised:\n",
      "    Traceback (most recent call last):\n",
      "      File \"/usr/lib/python3.10/doctest.py\", line 1350, in __run\n",
      "        exec(compile(example.source, filename, \"single\",\n",
      "      File \"<doctest __main__.VendingMachine[0]>\", line 1, in <module>\n",
      "        v = VendingMachine('candy', 10)\n",
      "    TypeError: VendingMachine() takes no arguments\n",
      "Trying:\n",
      "    v.vend()\n",
      "Expecting:\n",
      "    'Nothing left to vend. Please restock.'\n",
      "**********************************************************************\n",
      "File \"__main__\", line ?, in __main__.VendingMachine\n",
      "Failed example:\n",
      "    v.vend()\n",
      "Exception raised:\n",
      "    Traceback (most recent call last):\n",
      "      File \"/usr/lib/python3.10/doctest.py\", line 1350, in __run\n",
      "        exec(compile(example.source, filename, \"single\",\n",
      "      File \"<doctest __main__.VendingMachine[1]>\", line 1, in <module>\n",
      "        v.vend()\n",
      "    NameError: name 'v' is not defined\n",
      "Trying:\n",
      "    v.add_funds(15)\n",
      "Expecting:\n",
      "    'Nothing left to vend. Please restock. Here is your $15.'\n",
      "**********************************************************************\n",
      "File \"__main__\", line ?, in __main__.VendingMachine\n",
      "Failed example:\n",
      "    v.add_funds(15)\n",
      "Exception raised:\n",
      "    Traceback (most recent call last):\n",
      "      File \"/usr/lib/python3.10/doctest.py\", line 1350, in __run\n",
      "        exec(compile(example.source, filename, \"single\",\n",
      "      File \"<doctest __main__.VendingMachine[2]>\", line 1, in <module>\n",
      "        v.add_funds(15)\n",
      "    NameError: name 'v' is not defined\n",
      "Trying:\n",
      "    v.restock(2)\n",
      "Expecting:\n",
      "    'Current candy stock: 2'\n",
      "**********************************************************************\n",
      "File \"__main__\", line ?, in __main__.VendingMachine\n",
      "Failed example:\n",
      "    v.restock(2)\n",
      "Exception raised:\n",
      "    Traceback (most recent call last):\n",
      "      File \"/usr/lib/python3.10/doctest.py\", line 1350, in __run\n",
      "        exec(compile(example.source, filename, \"single\",\n",
      "      File \"<doctest __main__.VendingMachine[3]>\", line 1, in <module>\n",
      "        v.restock(2)\n",
      "    NameError: name 'v' is not defined\n",
      "Trying:\n",
      "    v.vend()\n",
      "Expecting:\n",
      "    'Please add $10 more funds.'\n",
      "**********************************************************************\n",
      "File \"__main__\", line ?, in __main__.VendingMachine\n",
      "Failed example:\n",
      "    v.vend()\n",
      "Exception raised:\n",
      "    Traceback (most recent call last):\n",
      "      File \"/usr/lib/python3.10/doctest.py\", line 1350, in __run\n",
      "        exec(compile(example.source, filename, \"single\",\n",
      "      File \"<doctest __main__.VendingMachine[4]>\", line 1, in <module>\n",
      "        v.vend()\n",
      "    NameError: name 'v' is not defined\n",
      "Trying:\n",
      "    v.add_funds(7)\n",
      "Expecting:\n",
      "    'Current balance: $7'\n",
      "**********************************************************************\n",
      "File \"__main__\", line ?, in __main__.VendingMachine\n",
      "Failed example:\n",
      "    v.add_funds(7)\n",
      "Exception raised:\n",
      "    Traceback (most recent call last):\n",
      "      File \"/usr/lib/python3.10/doctest.py\", line 1350, in __run\n",
      "        exec(compile(example.source, filename, \"single\",\n",
      "      File \"<doctest __main__.VendingMachine[5]>\", line 1, in <module>\n",
      "        v.add_funds(7)\n",
      "    NameError: name 'v' is not defined\n",
      "Trying:\n",
      "    v.vend()\n",
      "Expecting:\n",
      "    'Please add $3 more funds.'\n",
      "**********************************************************************\n",
      "File \"__main__\", line ?, in __main__.VendingMachine\n",
      "Failed example:\n",
      "    v.vend()\n",
      "Exception raised:\n",
      "    Traceback (most recent call last):\n",
      "      File \"/usr/lib/python3.10/doctest.py\", line 1350, in __run\n",
      "        exec(compile(example.source, filename, \"single\",\n",
      "      File \"<doctest __main__.VendingMachine[6]>\", line 1, in <module>\n",
      "        v.vend()\n",
      "    NameError: name 'v' is not defined\n",
      "Trying:\n",
      "    v.add_funds(5)\n",
      "Expecting:\n",
      "    'Current balance: $12'\n",
      "**********************************************************************\n",
      "File \"__main__\", line ?, in __main__.VendingMachine\n",
      "Failed example:\n",
      "    v.add_funds(5)\n",
      "Exception raised:\n",
      "    Traceback (most recent call last):\n",
      "      File \"/usr/lib/python3.10/doctest.py\", line 1350, in __run\n",
      "        exec(compile(example.source, filename, \"single\",\n",
      "      File \"<doctest __main__.VendingMachine[7]>\", line 1, in <module>\n",
      "        v.add_funds(5)\n",
      "    NameError: name 'v' is not defined\n",
      "Trying:\n",
      "    v.vend()\n",
      "Expecting:\n",
      "    'Here is your candy and $2 change.'\n",
      "**********************************************************************\n",
      "File \"__main__\", line ?, in __main__.VendingMachine\n",
      "Failed example:\n",
      "    v.vend()\n",
      "Exception raised:\n",
      "    Traceback (most recent call last):\n",
      "      File \"/usr/lib/python3.10/doctest.py\", line 1350, in __run\n",
      "        exec(compile(example.source, filename, \"single\",\n",
      "      File \"<doctest __main__.VendingMachine[8]>\", line 1, in <module>\n",
      "        v.vend()\n",
      "    NameError: name 'v' is not defined\n",
      "Trying:\n",
      "    v.add_funds(10)\n",
      "Expecting:\n",
      "    'Current balance: $10'\n",
      "**********************************************************************\n",
      "File \"__main__\", line ?, in __main__.VendingMachine\n",
      "Failed example:\n",
      "    v.add_funds(10)\n",
      "Exception raised:\n",
      "    Traceback (most recent call last):\n",
      "      File \"/usr/lib/python3.10/doctest.py\", line 1350, in __run\n",
      "        exec(compile(example.source, filename, \"single\",\n",
      "      File \"<doctest __main__.VendingMachine[9]>\", line 1, in <module>\n",
      "        v.add_funds(10)\n",
      "    NameError: name 'v' is not defined\n",
      "Trying:\n",
      "    v.vend()\n",
      "Expecting:\n",
      "    'Here is your candy.'\n",
      "**********************************************************************\n",
      "File \"__main__\", line ?, in __main__.VendingMachine\n",
      "Failed example:\n",
      "    v.vend()\n",
      "Exception raised:\n",
      "    Traceback (most recent call last):\n",
      "      File \"/usr/lib/python3.10/doctest.py\", line 1350, in __run\n",
      "        exec(compile(example.source, filename, \"single\",\n",
      "      File \"<doctest __main__.VendingMachine[10]>\", line 1, in <module>\n",
      "        v.vend()\n",
      "    NameError: name 'v' is not defined\n",
      "Trying:\n",
      "    v.add_funds(15)\n",
      "Expecting:\n",
      "    'Nothing left to vend. Please restock. Here is your $15.'\n",
      "**********************************************************************\n",
      "File \"__main__\", line ?, in __main__.VendingMachine\n",
      "Failed example:\n",
      "    v.add_funds(15)\n",
      "Exception raised:\n",
      "    Traceback (most recent call last):\n",
      "      File \"/usr/lib/python3.10/doctest.py\", line 1350, in __run\n",
      "        exec(compile(example.source, filename, \"single\",\n",
      "      File \"<doctest __main__.VendingMachine[11]>\", line 1, in <module>\n",
      "        v.add_funds(15)\n",
      "    NameError: name 'v' is not defined\n",
      "Trying:\n",
      "    w = VendingMachine('soda', 2)\n",
      "Expecting nothing\n",
      "**********************************************************************\n",
      "File \"__main__\", line ?, in __main__.VendingMachine\n",
      "Failed example:\n",
      "    w = VendingMachine('soda', 2)\n",
      "Exception raised:\n",
      "    Traceback (most recent call last):\n",
      "      File \"/usr/lib/python3.10/doctest.py\", line 1350, in __run\n",
      "        exec(compile(example.source, filename, \"single\",\n",
      "      File \"<doctest __main__.VendingMachine[12]>\", line 1, in <module>\n",
      "        w = VendingMachine('soda', 2)\n",
      "    TypeError: VendingMachine() takes no arguments\n",
      "Trying:\n",
      "    w.restock(3)\n",
      "Expecting:\n",
      "    'Current soda stock: 3'\n",
      "**********************************************************************\n",
      "File \"__main__\", line ?, in __main__.VendingMachine\n",
      "Failed example:\n",
      "    w.restock(3)\n",
      "Exception raised:\n",
      "    Traceback (most recent call last):\n",
      "      File \"/usr/lib/python3.10/doctest.py\", line 1350, in __run\n",
      "        exec(compile(example.source, filename, \"single\",\n",
      "      File \"<doctest __main__.VendingMachine[13]>\", line 1, in <module>\n",
      "        w.restock(3)\n",
      "    NameError: name 'w' is not defined\n",
      "Trying:\n",
      "    w.restock(3)\n",
      "Expecting:\n",
      "    'Current soda stock: 6'\n",
      "**********************************************************************\n",
      "File \"__main__\", line ?, in __main__.VendingMachine\n",
      "Failed example:\n",
      "    w.restock(3)\n",
      "Exception raised:\n",
      "    Traceback (most recent call last):\n",
      "      File \"/usr/lib/python3.10/doctest.py\", line 1350, in __run\n",
      "        exec(compile(example.source, filename, \"single\",\n",
      "      File \"<doctest __main__.VendingMachine[14]>\", line 1, in <module>\n",
      "        w.restock(3)\n",
      "    NameError: name 'w' is not defined\n",
      "Trying:\n",
      "    w.add_funds(2)\n",
      "Expecting:\n",
      "    'Current balance: $2'\n",
      "**********************************************************************\n",
      "File \"__main__\", line ?, in __main__.VendingMachine\n",
      "Failed example:\n",
      "    w.add_funds(2)\n",
      "Exception raised:\n",
      "    Traceback (most recent call last):\n",
      "      File \"/usr/lib/python3.10/doctest.py\", line 1350, in __run\n",
      "        exec(compile(example.source, filename, \"single\",\n",
      "      File \"<doctest __main__.VendingMachine[15]>\", line 1, in <module>\n",
      "        w.add_funds(2)\n",
      "    NameError: name 'w' is not defined\n",
      "Trying:\n",
      "    w.vend()\n",
      "Expecting:\n",
      "    'Here is your soda.'\n",
      "**********************************************************************\n",
      "File \"__main__\", line ?, in __main__.VendingMachine\n",
      "Failed example:\n",
      "    w.vend()\n",
      "Exception raised:\n",
      "    Traceback (most recent call last):\n",
      "      File \"/usr/lib/python3.10/doctest.py\", line 1350, in __run\n",
      "        exec(compile(example.source, filename, \"single\",\n",
      "      File \"<doctest __main__.VendingMachine[16]>\", line 1, in <module>\n",
      "        w.vend()\n",
      "    NameError: name 'w' is not defined\n",
      "5 items had no tests:\n",
      "    __main__\n",
      "    __main__.VendingMachine._init_\n",
      "    __main__.VendingMachine.add_funds\n",
      "    __main__.VendingMachine.restock\n",
      "    __main__.VendingMachine.vend\n",
      "**********************************************************************\n",
      "1 items had failures:\n",
      "  17 of  17 in __main__.VendingMachine\n",
      "17 tests in 6 items.\n",
      "0 passed and 17 failed.\n",
      "***Test Failed*** 17 failures.\n"
     ]
    },
    {
     "data": {
      "text/plain": [
       "TestResults(failed=17, attempted=17)"
      ]
     },
     "execution_count": 1,
     "metadata": {},
     "output_type": "execute_result"
    }
   ],
   "source": [
    "class VendingMachine:\n",
    "    \"\"\"A vending machine that vends some product for some price.\n",
    "    >>> v = VendingMachine('candy', 10)\n",
    "    >>> v.vend()\n",
    "    'Nothing left to vend. Please restock.'\n",
    "    >>> v.add_funds(15)\n",
    "    'Nothing left to vend. Please restock. Here is your $15.'\n",
    "    >>> v.restock(2)\n",
    "    'Current candy stock: 2'\n",
    "    >>> v.vend()\n",
    "    'Please add $10 more funds.'\n",
    "    >>> v.add_funds(7)\n",
    "    'Current balance: $7'\n",
    "    >>> v.vend()\n",
    "    'Please add $3 more funds.'\n",
    "    >>> v.add_funds(5)\n",
    "    'Current balance: $12'\n",
    "    >>> v.vend()\n",
    "    'Here is your candy and $2 change.'\n",
    "    >>> v.add_funds(10)\n",
    "    'Current balance: $10'\n",
    "    >>> v.vend()\n",
    "    'Here is your candy.'\n",
    "    >>> v.add_funds(15)\n",
    "    'Nothing left to vend. Please restock. Here is your $15.'\n",
    "    >>> w = VendingMachine('soda', 2)\n",
    "    >>> w.restock(3)\n",
    "    'Current soda stock: 3'\n",
    "    >>> w.restock(3)\n",
    "    'Current soda stock: 6'\n",
    "    >>> w.add_funds(2)\n",
    "    'Current balance: $2'\n",
    "    >>> w.vend()\n",
    "    'Here is your soda.'\n",
    "    \"\"\"\n",
    "    # YOUR CODE HERE \n",
    "    def _init_(self, product, value):\n",
    "        self.product = product \n",
    "        self.value = value  \n",
    "        self.stock = 0 \n",
    "    \n",
    "    def vend(self):\n",
    "        if self.stock == 0:\n",
    "            print(f\"Nothing left to vend. Please restock.\")\n",
    "        else:\n",
    "            print(f\"Here is your {self.product}\")\n",
    "\n",
    "    def add_funds(self, money):\n",
    "        if money < self.value:\n",
    "            print(f\"Nothing left to vend. Please restock. Here is your {money}\")\n",
    "        self.value += money\n",
    "        print(f\"Current balance: ${money}\")\n",
    "    \n",
    "    def restock(self, value):\n",
    "        self.stock += value \n",
    "        print(f\"Currenct {self.product} stock: {self.stock}\")\n",
    "        \n",
    "import doctest\n",
    "doctest.testmod(verbose=True)"
   ]
  },
  {
   "cell_type": "code",
   "execution_count": 3,
   "metadata": {},
   "outputs": [
    {
     "data": {
      "text/plain": [
       "19"
      ]
     },
     "execution_count": 3,
     "metadata": {},
     "output_type": "execute_result"
    }
   ],
   "source": [
    "class Dog:\n",
    "    def __init__(self, name, age, typeofdog):\n",
    "        self.name = name\n",
    "        self.age = age\n",
    "        self.typeofdog = typeofdog \n",
    "\n",
    "    def get_name(self):\n",
    "        return self.name\n",
    "    \n",
    "    def get_age(self):\n",
    "        return self.age\n",
    "\n",
    "d1 = Dog(\"Tim\", 19, \"Bulldog\")\n",
    "d1.get_name()\n",
    "d1.get_age()"
   ]
  },
  {
   "cell_type": "code",
   "execution_count": null,
   "metadata": {},
   "outputs": [],
   "source": [
    "class Student:\n",
    "    def __init__(self,name,age,gender):\n",
    "        self.name = name\n",
    "        self.age = age\n",
    "        self.gender = gender\n",
    "        \n",
    "\n",
    "class Module:\n",
    "    def __init__(self,max_students):\n",
    "        self.max_students = max_students \n",
    "        students = []\n",
    "    \n",
    "    def fach(self,subject,max):\n",
    "        self.subject = subject\n",
    "        self.max = max\n",
    "\n",
    "    \n",
    "\n",
    "\n",
    "s1 = (\"Tim\", 22, \"Male\")\n",
    "\n"
   ]
  },
  {
   "cell_type": "code",
   "execution_count": 14,
   "metadata": {},
   "outputs": [],
   "source": [
    "'''\n",
    "    >>> is_palindrome('lkjhjkl')\n",
    "    True\n",
    "    >>> is_palindrome('heuuru')\n",
    "    False\n",
    "    >>> is_palindrome('k')\n",
    "    True\n",
    "    >>> is_palindrome('864334jdjsggsjdj433468')\n",
    "    True\n",
    "    >>> is_palindrome('123JSDFfdsj321')\n",
    "    True\n",
    "    '''\n",
    "def is_palindrome(strng):\n",
    "    strng = strng.lower()\n",
    "    if len(strng) < 1:\n",
    "        return True \n",
    "    \n",
    "    for i in range(len(strng) // 2):\n",
    "        if strng[i] != strng[- (i + 1)]:\n",
    "            return False \n",
    "        return True "
   ]
  },
  {
   "cell_type": "code",
   "execution_count": 13,
   "metadata": {},
   "outputs": [
    {
     "data": {
      "text/plain": [
       "3"
      ]
     },
     "execution_count": 13,
     "metadata": {},
     "output_type": "execute_result"
    }
   ],
   "source": [
    "\n",
    "def num_eights(pos):\n",
    "    counter = 0 \n",
    "    if pos == 0:\n",
    "        return 0 \n",
    "    num = pos % 10 \n",
    "    if num == 8:\n",
    "        counter += 1 \n",
    "    return counter + num_eights(pos // 10)\n",
    "\n",
    "num_eights(23288238)\n",
    "    "
   ]
  },
  {
   "cell_type": "code",
   "execution_count": 2,
   "metadata": {},
   "outputs": [
    {
     "data": {
      "text/plain": [
       "TestResults(failed=0, attempted=20)"
      ]
     },
     "execution_count": 2,
     "metadata": {},
     "output_type": "execute_result"
    }
   ],
   "source": [
    "import doctest\n",
    "\n",
    "\n",
    "class Account(object):\n",
    "    \"\"\"An account has a balance and a holder.\n",
    "    >>> a = Account('John')\n",
    "    >>> a.deposit(10)\n",
    "    10\n",
    "    >>> a.balance\n",
    "    10\n",
    "    >>> a.interest\n",
    "    0.02\n",
    "    >>> a.time_to_retire(10.25) # 10 -> 10.2 -> 10.404\n",
    "    2\n",
    "    >>> a.balance # balance should not change\n",
    "    10\n",
    "    >>> a.time_to_retire(11) # 10 -> 10.2 -> ... -> 11.040808032\n",
    "    5\n",
    "    >>> a.time_to_retire(100)\n",
    "    117\n",
    "    \"\"\"\n",
    "\n",
    "    max_withdrawal = 10\n",
    "    interest = 0.02\n",
    "\n",
    "    def __init__(self, account_holder):\n",
    "        self.balance = 0\n",
    "        self.holder = account_holder\n",
    "\n",
    "    def deposit(self, amount):\n",
    "        self.balance = self.balance + amount\n",
    "        return self.balance\n",
    "    \n",
    "    def withdraw(self, amount):\n",
    "        if amount > self.balance:\n",
    "            return \"Insufficient funds\"\n",
    "        if amount > self.max_withdrawal:\n",
    "            return \"Can't withdraw that amount\"\n",
    "        self.balance = self.balance - amount\n",
    "        return self.balance\n",
    "    \n",
    "    def time_to_retire(self, amount):\n",
    "        \"\"\"Return the number of years until balance would grow to amount.\n",
    "        \"\"\"\n",
    "        assert self.balance > 0 and amount > 0 and self.interest > 0\n",
    "        # Your Code Here\n",
    "        counter = 0\n",
    "        accumulated = self.balance\n",
    "        while accumulated < amount:\n",
    "            accumulated *= (1 + self.interest)\n",
    "            counter += 1\n",
    "        return counter\n",
    "\n",
    "\n",
    "class FreeChecking(Account):\n",
    "    \"\"\"A bank account that charges for withdrawals, but the first two are fr\n",
    "    >>> ch = FreeChecking('Jack')\n",
    "    >>> ch.balance = 20\n",
    "    >>> ch.withdraw(100) # First one's free\n",
    "    'Insufficient funds'\n",
    "    >>> ch.withdraw(3) # And the second\n",
    "    17\n",
    "    >>> ch.balance\n",
    "    17\n",
    "    >>> ch.withdraw(3) # no withdrawals left\n",
    "    13\n",
    "    >>> ch.withdraw(3)\n",
    "    9\n",
    "    >>> ch2 = FreeChecking('John')\n",
    "    >>> ch2.balance = 10\n",
    "    >>> ch2.withdraw(3) # No fee\n",
    "    7\n",
    "    \n",
    "    >>> ch.withdraw(3) # ch still charges a fee\n",
    "    5\n",
    "    >>> ch.withdraw(5) # Not enough to cover fee + withdraw\n",
    "    'Insufficient funds'\n",
    "    \"\"\"\n",
    "    withdraw_fee = 1\n",
    "    free_withdrawals = 2\n",
    "    # Your Code Here\n",
    "    \n",
    "    def withdraw(self, amount):\n",
    "        \n",
    "        if self.free_withdrawals > 0: \n",
    "                self.free_withdrawals -= 1 \n",
    "                return super().withdraw(amount)\n",
    "        else:\n",
    "            amount += self.withdraw_fee\n",
    "            return super().withdraw(amount)          \n",
    "\n",
    "doctest.testmod()\n"
   ]
  },
  {
   "cell_type": "code",
   "execution_count": null,
   "metadata": {},
   "outputs": [],
   "source": []
  },
  {
   "cell_type": "code",
   "execution_count": 17,
   "metadata": {},
   "outputs": [
    {
     "data": {
      "text/plain": [
       "2"
      ]
     },
     "execution_count": 17,
     "metadata": {},
     "output_type": "execute_result"
    }
   ],
   "source": [
    "def alternatinggSum(L):\n",
    "    sum = 0 \n",
    "    if len(L) == 0:\n",
    "        return sum \n",
    "    if len(L) == 1:\n",
    "        return sum + L[0]\n",
    "    sum += L[0] - L[1]\n",
    "    return sum + alternatinggSum(L[2::])\n",
    "\n",
    "alternatinggSum([2,1,2,1])"
   ]
  },
  {
   "cell_type": "code",
   "execution_count": 9,
   "metadata": {},
   "outputs": [
    {
     "name": "stdout",
     "output_type": "stream",
     "text": [
      "**********************************************************************\n",
      "File \"__main__\", line 5, in __main__\n",
      "Failed example:\n",
      "    merge(dict1, dict2)\n",
      "Exception raised:\n",
      "    Traceback (most recent call last):\n",
      "      File \"/usr/lib/python3.10/doctest.py\", line 1350, in __run\n",
      "        exec(compile(example.source, filename, \"single\",\n",
      "      File \"<doctest __main__[2]>\", line 1, in <module>\n",
      "        merge(dict1, dict2)\n",
      "      File \"/tmp/ipykernel_619/2600537853.py\", line 15, in merge\n",
      "        dict2[key] = dict3[key]\n",
      "    KeyError: 'e'\n",
      "**********************************************************************\n",
      "1 items had failures:\n",
      "   1 of   3 in __main__\n",
      "***Test Failed*** 1 failures.\n"
     ]
    },
    {
     "data": {
      "text/plain": [
       "TestResults(failed=1, attempted=3)"
      ]
     },
     "execution_count": 9,
     "metadata": {},
     "output_type": "execute_result"
    }
   ],
   "source": [
    "import doctest \n",
    "'''\n",
    "    >>> dict1 = {'a' : 1, 'b' : 1, 'c' : 1}\n",
    "    >>> dict2 = {'a' : 1, 'e' : 1}\n",
    "    >>> merge(dict1, dict2)\n",
    "    {'a': 2, 'b': 1, 'c': 1, 'e': 1}\n",
    "    '''\n",
    "\n",
    "\n",
    "def merge(dict1, dict2):\n",
    "    dict3 = {}\n",
    "    for key in dict1.keys():\n",
    "        dict3[key] = dict1[key]\n",
    "    for key in dict2.keys():\n",
    "        dict2[key] = dict3[key]\n",
    "    for key in dict3.keys():\n",
    "        if key in dict2.keys():\n",
    "            dict3[key] += dict2[key]\n",
    "\n",
    "doctest.testmod()"
   ]
  },
  {
   "cell_type": "code",
   "execution_count": 10,
   "metadata": {},
   "outputs": [],
   "source": [
    "def alternatingSum(L):\n",
    "    sum = 0\n",
    "    if len(L) == 0:\n",
    "        return 0\n",
    "    if len(L) == 1:\n",
    "        return sum + L[0]\n",
    "\n",
    "    if len(L) > 2:\n",
    "        sum += L[0] - [L[1]]\n",
    "        return sum + alternatingSum(L[2::])"
   ]
  },
  {
   "cell_type": "code",
   "execution_count": 3,
   "metadata": {},
   "outputs": [
    {
     "data": {
      "text/plain": [
       "TestResults(failed=0, attempted=2)"
      ]
     },
     "execution_count": 3,
     "metadata": {},
     "output_type": "execute_result"
    }
   ],
   "source": [
    "def alternatingSum(lst):\n",
    "    \"\"\"\n",
    "    Return the alternating sum of the integer or float elements\n",
    "    in the list lst. An alternating sum of a sequence is a sum\n",
    "    where the sign alternates from positive to negative or\n",
    "    vice versa.\n",
    "    >>> alternatingSum([5, 3, 8, 4])\n",
    "    6\n",
    "    >>> alternatingSum([])\n",
    "    0\n",
    "    \"\"\"\n",
    "    # YOUR CODE HERE    \n",
    "    sum = 0\n",
    "    for i,elem in enumerate(lst):\n",
    "        if i % 2 != 0:\n",
    "            elemm = -elem \n",
    "            sum += elemm\n",
    "       \n",
    "        if i % 2 == 0:\n",
    "            sum += elem\n",
    "    return sum  \n",
    "\n",
    "import doctest\n",
    "doctest.testmod()\n",
    "        "
   ]
  },
  {
   "cell_type": "code",
   "execution_count": 5,
   "metadata": {},
   "outputs": [
    {
     "data": {
      "text/plain": [
       "'Earth'"
      ]
     },
     "execution_count": 5,
     "metadata": {},
     "output_type": "execute_result"
    }
   ],
   "source": [
    "class GameCharacter: \n",
    "    health = 100 \n",
    "    def __init__(self, name, age):\n",
    "        self.name = name \n",
    "        self.age = age\n",
    "\n",
    "        self.power = [\"Fire\", \"Earth\"]\n",
    "\n",
    "    def attack_dmg(self,dmg):\n",
    "        self.health -= dmg \n",
    "        if self.health <= dmg:\n",
    "            return \"You died\"\n",
    "        if self.health > 0:\n",
    "            return \"Your survived\"\n",
    "        \n",
    "    def get_power(self, i):\n",
    "        return self.power[i-1]\n",
    "       \n",
    "Jose = GameCharacter(\"Jose\", 18)\n",
    "Jose.get_power(2)\n",
    "\n",
    "\n"
   ]
  },
  {
   "cell_type": "code",
   "execution_count": null,
   "metadata": {},
   "outputs": [],
   "source": []
  }
 ],
 "metadata": {
  "kernelspec": {
   "display_name": "Python 3",
   "language": "python",
   "name": "python3"
  },
  "language_info": {
   "codemirror_mode": {
    "name": "ipython",
    "version": 3
   },
   "file_extension": ".py",
   "mimetype": "text/x-python",
   "name": "python",
   "nbconvert_exporter": "python",
   "pygments_lexer": "ipython3",
   "version": "3.10.12"
  }
 },
 "nbformat": 4,
 "nbformat_minor": 2
}
