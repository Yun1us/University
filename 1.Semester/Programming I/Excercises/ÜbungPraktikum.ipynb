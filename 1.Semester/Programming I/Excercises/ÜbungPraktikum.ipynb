{
 "cells": [
  {
   "cell_type": "code",
   "execution_count": 13,
   "metadata": {},
   "outputs": [
    {
     "data": {
      "text/plain": [
       "TestResults(failed=0, attempted=3)"
      ]
     },
     "execution_count": 13,
     "metadata": {},
     "output_type": "execute_result"
    }
   ],
   "source": [
    "def largest_factor(n):   \n",
    "    \"\"\"Return the largest factor of n (n > 1 !) that is smaller than n.\n",
    "    A factor divides a number evenly.\n",
    "    >>> largest_factor(15) # factors are 1, 3, 5\n",
    "    5\n",
    "    >>> largest_factor(80) # factors are 1, 2, 4, 5, 8, 10, 16, 20, 40\n",
    "    40\n",
    "    \n",
    "    >>> largest_factor(13) # factor is 1 since 13 is prime\n",
    "    1\n",
    "    \"\"\"\n",
    "    for i in range(n-1,0, -1):\n",
    "        if n % i == 0:\n",
    "            return i\n",
    "\n",
    "\n",
    "import doctest\n",
    "doctest.testmod()"
   ]
  },
  {
   "cell_type": "code",
   "execution_count": 2,
   "metadata": {},
   "outputs": [
    {
     "data": {
      "text/plain": [
       "TestResults(failed=0, attempted=6)"
      ]
     },
     "execution_count": 2,
     "metadata": {},
     "output_type": "execute_result"
    }
   ],
   "source": [
    "def double_eights(n):\n",
    "    \"\"\"\n",
    "    Return true if n has two eights in a row.\n",
    "    >>> double_eights(8)\n",
    "    False\n",
    "    >>> double_eights(88)\n",
    "    True\n",
    "    >>> double_eights(2882)\n",
    "    True\n",
    "    >>> double_eights(880088)\n",
    "    True\n",
    "    >>> double_eights(12345)\n",
    "    False\n",
    "    >>> double_eights(80808080)\n",
    "    False\n",
    "    \"\"\"\n",
    "    \n",
    "    if \"88\" in str(n):\n",
    "        return True\n",
    "    else:\n",
    "        return False \n",
    "    \n",
    "import doctest\n",
    "doctest.testmod()"
   ]
  },
  {
   "cell_type": "code",
   "execution_count": 5,
   "metadata": {},
   "outputs": [
    {
     "data": {
      "text/plain": [
       "TestResults(failed=0, attempted=5)"
      ]
     },
     "execution_count": 5,
     "metadata": {},
     "output_type": "execute_result"
    }
   ],
   "source": [
    "def getKthDigit(n,k):\n",
    "    \"\"\"\n",
    "    Return the kth digit of n (an integer), starting from 0,\n",
    "    counting from the right.\n",
    "    >>> getKthDigit(789, 0)\n",
    "    9\n",
    "    >>> getKthDigit(789, 1)\n",
    "    8\n",
    "    >>> getKthDigit(789, 2)\n",
    "    7\n",
    "    >>> getKthDigit(789, 3)\n",
    "    0\n",
    "    >>> getKthDigit(-789, 0)\n",
    "    9\n",
    "    \"\"\"\n",
    "    lst = list(str(n))\n",
    "\n",
    "    if len(lst) <= k:\n",
    "        return 0\n",
    "    \n",
    "    for digit in lst:\n",
    "        return int(str(lst[::-1][k]))\n",
    "    \n",
    "import doctest\n",
    "doctest.testmod()"
   ]
  },
  {
   "cell_type": "code",
   "execution_count": 10,
   "metadata": {},
   "outputs": [
    {
     "name": "stdout",
     "output_type": "stream",
     "text": [
      "**********************************************************************\n",
      "File \"__main__\", line 6, in __main__.setKthDigit\n",
      "Failed example:\n",
      "    setKthDigit(468, 0, 1)\n",
      "Expected:\n",
      "    461\n",
      "Got:\n",
      "    False\n",
      "**********************************************************************\n",
      "File \"__main__\", line 8, in __main__.setKthDigit\n",
      "Failed example:\n",
      "    setKthDigit(468, 1, 1)\n",
      "Expected:\n",
      "    418\n",
      "Got:\n",
      "    False\n",
      "**********************************************************************\n",
      "File \"__main__\", line 10, in __main__.setKthDigit\n",
      "Failed example:\n",
      "    setKthDigit(468, 2, 1)\n",
      "Expected:\n",
      "    168\n",
      "Got:\n",
      "    False\n",
      "**********************************************************************\n",
      "File \"__main__\", line 12, in __main__.setKthDigit\n",
      "Failed example:\n",
      "    setKthDigit(468, 3, 1)\n",
      "Exception raised:\n",
      "    Traceback (most recent call last):\n",
      "      File \"/usr/lib/python3.10/doctest.py\", line 1350, in __run\n",
      "        exec(compile(example.source, filename, \"single\",\n",
      "      File \"<doctest __main__.setKthDigit[3]>\", line 1, in <module>\n",
      "        setKthDigit(468, 3, 1)\n",
      "      File \"/tmp/ipykernel_8155/2123904937.py\", line 18, in setKthDigit\n",
      "        return int(str(lst[k])) == d\n",
      "    IndexError: list index out of range\n",
      "**********************************************************************\n",
      "1 items had failures:\n",
      "   4 of   4 in __main__.setKthDigit\n",
      "***Test Failed*** 4 failures.\n"
     ]
    },
    {
     "data": {
      "text/plain": [
       "TestResults(failed=4, attempted=4)"
      ]
     },
     "execution_count": 10,
     "metadata": {},
     "output_type": "execute_result"
    }
   ],
   "source": [
    "def setKthDigit(n, k, d):\n",
    "    \"\"\"\n",
    "    n is an integer, k is a non-negative integer and d is non-negative single digit (0 = d = 9). \n",
    "    Return the number n with the kth digit replaced with d. \n",
    "\n",
    "    >>> setKthDigit(468, 0, 1)\n",
    "    461\n",
    "    >>> setKthDigit(468, 1, 1)\n",
    "    418\n",
    "    >>> setKthDigit(468, 2, 1)\n",
    "    168\n",
    "    >>> setKthDigit(468, 3, 1)\n",
    "    1468\n",
    "    \"\"\"\n",
    "    lst = list(str(n))\n",
    "    for digit in lst:\n",
    "        lst.reverse()\n",
    "        return int(str(lst[k])) == d \n",
    "    \n",
    "\n",
    "import doctest\n",
    "doctest.testmod()"
   ]
  },
  {
   "cell_type": "code",
   "execution_count": 4,
   "metadata": {},
   "outputs": [
    {
     "name": "stdout",
     "output_type": "stream",
     "text": [
      "**********************************************************************\n",
      "File \"__main__\", line 5, in __main__.sum_digits\n",
      "Failed example:\n",
      "    sum_digits(10) # 1 + 0 = 1\n",
      "Expected:\n",
      "    1\n",
      "Got:\n",
      "    0\n",
      "**********************************************************************\n",
      "File \"__main__\", line 7, in __main__.sum_digits\n",
      "Failed example:\n",
      "    sum_digits(4224) # 4 + 2 + 2 + 4 = 12\n",
      "Expected:\n",
      "    12\n",
      "Got:\n",
      "    16\n",
      "**********************************************************************\n",
      "File \"__main__\", line 9, in __main__.sum_digits\n",
      "Failed example:\n",
      "    sum_digits(1234567890)\n",
      "Expected:\n",
      "    45\n",
      "Got:\n",
      "    0\n",
      "**********************************************************************\n",
      "File \"__main__\", line 12, in __main__.sum_digits\n",
      "Failed example:\n",
      "    a\n",
      "Expected:\n",
      "    6\n",
      "Got:\n",
      "    9\n",
      "**********************************************************************\n",
      "1 items had failures:\n",
      "   4 of   5 in __main__.sum_digits\n",
      "***Test Failed*** 4 failures.\n"
     ]
    },
    {
     "data": {
      "text/plain": [
       "TestResults(failed=4, attempted=5)"
      ]
     },
     "execution_count": 4,
     "metadata": {},
     "output_type": "execute_result"
    }
   ],
   "source": [
    "def sum_digits(y):\n",
    "    \"\"\"Sum all the digits of y. y is always nonnegative. Floor division\n",
    "    and modulo might be helpful.\n",
    "\n",
    "    >>> sum_digits(10) # 1 + 0 = 1\n",
    "    1\n",
    "    >>> sum_digits(4224) # 4 + 2 + 2 + 4 = 12\n",
    "    12\n",
    "    >>> sum_digits(1234567890)\n",
    "    45\n",
    "    >>> a = sum_digits(123) # use return rather than print in your code!\n",
    "    >>> a\n",
    "    6\n",
    "    \"\"\"\n",
    "    # YOUR CODE HERE#\n",
    "    sum_digitss = 0 \n",
    "    while y > 0:\n",
    "        for digit in range(len(str(y))):\n",
    "            sum_digitss += y % 10\n",
    "            y // 10\n",
    "        return sum_digitss\n",
    "\n",
    "import doctest\n",
    "doctest.testmod()"
   ]
  },
  {
   "cell_type": "code",
   "execution_count": 3,
   "metadata": {},
   "outputs": [
    {
     "data": {
      "text/plain": [
       "TestResults(failed=0, attempted=3)"
      ]
     },
     "execution_count": 3,
     "metadata": {},
     "output_type": "execute_result"
    }
   ],
   "source": [
    "def is_anagram(s1, s2):\n",
    "    \"\"\"\n",
    "    Decide whether a string s1 and a string s2 are anagrams.\n",
    "    Use only lists in your solution.\n",
    "    >>> is_anagram(\"\", \"\")\n",
    "    True\n",
    "    >>> is_anagram(\"abCdabCd\", \"abcdabcd\")\n",
    "    True\n",
    "    >>> is_anagram(\"abcdaabcd\", \"aabbcddcb\")\n",
    "    False\n",
    "    \"\"\"\n",
    "    # YOUR CODE HERE\n",
    "    if s1.lower() == s2.lower():\n",
    "        return True\n",
    "    else:\n",
    "        return False \n",
    "import doctest\n",
    "doctest.testmod()\n"
   ]
  },
  {
   "cell_type": "code",
   "execution_count": 9,
   "metadata": {},
   "outputs": [
    {
     "data": {
      "text/plain": [
       "TestResults(failed=0, attempted=2)"
      ]
     },
     "execution_count": 9,
     "metadata": {},
     "output_type": "execute_result"
    }
   ],
   "source": [
    "def rotateStringLeft(s, n):\n",
    "    \"\"\"\n",
    "    The function takes a string s and a possibly-negative integer n.\n",
    "    If n is non-negative, the function returns the string s rotated\n",
    "    n places to the left. If n is negative, the function returns\n",
    "    the string s rotated |n| places to the right.\n",
    "    >>> rotateStringLeft('abcd', 1)\n",
    "    'bcda'\n",
    "    >>> rotateStringLeft('abcd', -1)\n",
    "    'dabc'\n",
    "    \"\"\"\n",
    "    # YOUR CODE HERE\n",
    "    if n == -1:\n",
    "        c = s[-1] + s[:-1]\n",
    "        return c \n",
    "    elif n == 1:\n",
    "        d = s[1] + s[2:4] + s[0]\n",
    "        return d \n",
    "\n",
    "\n",
    "import doctest\n",
    "doctest.testmod()\n"
   ]
  },
  {
   "cell_type": "code",
   "execution_count": 16,
   "metadata": {},
   "outputs": [
    {
     "name": "stdout",
     "output_type": "stream",
     "text": [
      "**********************************************************************\n",
      "File \"__main__\", line 5, in __main__.most_frequent\n",
      "Failed example:\n",
      "    most_frequent([2,5,3,4,6,4,2,4,5])\n",
      "Expected:\n",
      "    4\n",
      "Got:\n",
      "    2\n",
      "**********************************************************************\n",
      "File \"__main__\", line 7, in __main__.most_frequent\n",
      "Failed example:\n",
      "    most_frequent([2,3,4,3,5,3,6,3,7])\n",
      "Expected:\n",
      "    3\n",
      "Got:\n",
      "    2\n",
      "**********************************************************************\n",
      "1 items had failures:\n",
      "   2 of   4 in __main__.most_frequent\n",
      "***Test Failed*** 2 failures.\n"
     ]
    },
    {
     "data": {
      "text/plain": [
       "TestResults(failed=2, attempted=4)"
      ]
     },
     "execution_count": 16,
     "metadata": {},
     "output_type": "execute_result"
    }
   ],
   "source": [
    "def most_frequent(L):\n",
    "    \n",
    "    \"\"\"\n",
    "    Return the most frequent element in a list L, resolving\n",
    "    ties arbitrarily. L only has elements of scalar types.\n",
    "    >>> most_frequent([2,5,3,4,6,4,2,4,5])\n",
    "    4\n",
    "    >>> most_frequent([2,3,4,3,5,3,6,3,7])\n",
    "    3\n",
    "    >>> most_frequent([42])\n",
    "    42\n",
    "    >>> most_frequent([])\n",
    "    None\n",
    "    \"\"\"\n",
    "    # YOUR CODE HERE\n",
    "    if L == []:\n",
    "        return print(None)\n",
    "    \n",
    "    dicto = {}\n",
    "    for elem in L:\n",
    "        if elem in dicto:\n",
    "            dicto[elem] += 1\n",
    "        else:\n",
    "            dicto[elem] = 1 \n",
    "    max_key = 0 \n",
    "    max_value = 0 \n",
    "    for key,value in dicto.items():\n",
    "        if value > max_value:\n",
    "            max_value = value\n",
    "            max_key = key \n",
    "        return max_key\n",
    "import doctest\n",
    "doctest.testmod()"
   ]
  },
  {
   "cell_type": "code",
   "execution_count": 2,
   "metadata": {},
   "outputs": [
    {
     "data": {
      "text/plain": [
       "5"
      ]
     },
     "execution_count": 2,
     "metadata": {},
     "output_type": "execute_result"
    }
   ],
   "source": [
    "L = [1,2,3,4,5,6,7,8,9,10]\n",
    "\n",
    "def OddCount(L):\n",
    "    if L == []:\n",
    "        return 0\n",
    "    if L[0] % 2 != 0:\n",
    "        return 1 + OddCount(L[1:])\n",
    "    else:\n",
    "        return OddCount(L[1:])\n",
    "\n",
    "\n",
    "OddCount(L)"
   ]
  },
  {
   "cell_type": "code",
   "execution_count": 6,
   "metadata": {},
   "outputs": [
    {
     "data": {
      "text/plain": [
       "True"
      ]
     },
     "execution_count": 6,
     "metadata": {},
     "output_type": "execute_result"
    }
   ],
   "source": [
    "def HCD(n):\n",
    "    if n < 10:\n",
    "        return False \n",
    "    \n",
    "    first_digit = n % 10 \n",
    "    second_digit = ((n // 10) % 10) \n",
    "    \n",
    "    if first_digit == second_digit:\n",
    "        return True\n",
    "    \n",
    "    return HCD(n // 10)\n",
    "HCD(2323321)"
   ]
  },
  {
   "cell_type": "code",
   "execution_count": 3,
   "metadata": {},
   "outputs": [
    {
     "data": {
      "text/plain": [
       "3"
      ]
     },
     "execution_count": 3,
     "metadata": {},
     "output_type": "execute_result"
    }
   ],
   "source": []
  }
 ],
 "metadata": {
  "kernelspec": {
   "display_name": "Python 3",
   "language": "python",
   "name": "python3"
  },
  "language_info": {
   "codemirror_mode": {
    "name": "ipython",
    "version": 3
   },
   "file_extension": ".py",
   "mimetype": "text/x-python",
   "name": "python",
   "nbconvert_exporter": "python",
   "pygments_lexer": "ipython3",
   "version": "3.10.12"
  }
 },
 "nbformat": 4,
 "nbformat_minor": 2
}
